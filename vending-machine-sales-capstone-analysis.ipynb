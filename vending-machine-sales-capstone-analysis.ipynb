{
 "cells": [
  {
   "cell_type": "markdown",
   "id": "548d5ad2",
   "metadata": {
    "papermill": {
     "duration": 0.013168,
     "end_time": "2022-12-05T19:41:18.076731",
     "exception": false,
     "start_time": "2022-12-05T19:41:18.063563",
     "status": "completed"
    },
    "tags": []
   },
   "source": [
    "### Thinkful Capstone 3 | **Vending Machine Analysis**\n",
    "#### *Author: Bradford (Ford) Johnson*\n",
    "##### **A special thank you to user [Aniruddh Singh](https://www.kaggle.com/awesomeasingh) for the dataset!! :)** \n",
    "<br>\n",
    "\n",
    "*My background is in sociology; thus, it is my motivation to learn about the world around me...*\n",
    "\n",
    "<br>\n",
    "\n",
    "> \"*C W Mills in the Sociological Imagination says sociology lies at the intersection of history and biography. People and the Past. What a great location. **Mills says to think sociologically is about making the familiar strange.** This requires thinking critically about the social world. Adopting a different way of seeing. Challenging conventional wisdom.*\"\n",
    ">\n",
    ">\\- Sue Watling, PhD\n",
    "\n",
    "<br>\n",
    "Vending machines are all around us in our daily lives and they provide a convenient way to get a snack or beverage. However vending machines are not just filled without a specific logic or reason. The reason I wanted to look at vending machine data was to make something that seems so familiar such as vending machines...strange. Doing so to understand this from a both a customer's and stakeholder's persepective, with a data-driven approach.\n",
    "<br>\n",
    "<br>\n",
    "<a href=\"https://www.kaggle.com/datasets/awesomeasingh/vending-machine-sales\">Click here</a> to view the dataset on Kaggle.\n",
    "<br>\n",
    "<br>\n",
    "\n",
    "### **Data Overview**\n",
    "> **Data Date Range:** `1/1/2022 - 8/31/2022`\n",
    ">\n",
    "> **Number of Vending Machines:** `5`\n",
    ">\n",
    "> **Number of Locations:** `4`\n",
    ">\n",
    "> **Number of product categories:** `4`\n",
    ">\n",
    "> **Number of products:** `162`\n",
    ">\n",
    "> **Number of transactions:** `6445`"
   ]
  },
  {
   "cell_type": "markdown",
   "id": "f781306d",
   "metadata": {
    "papermill": {
     "duration": 0.012326,
     "end_time": "2022-12-05T19:41:18.100512",
     "exception": false,
     "start_time": "2022-12-05T19:41:18.088186",
     "status": "completed"
    },
    "tags": []
   },
   "source": [
    "### Import Python Libraries and load data"
   ]
  },
  {
   "cell_type": "code",
   "execution_count": 1,
   "id": "59009d7f",
   "metadata": {
    "execution": {
     "iopub.execute_input": "2022-12-05T19:41:18.125033Z",
     "iopub.status.busy": "2022-12-05T19:41:18.124605Z",
     "iopub.status.idle": "2022-12-05T19:41:19.027227Z",
     "shell.execute_reply": "2022-12-05T19:41:19.026088Z"
    },
    "papermill": {
     "duration": 0.918379,
     "end_time": "2022-12-05T19:41:19.029966",
     "exception": false,
     "start_time": "2022-12-05T19:41:18.111587",
     "status": "completed"
    },
    "tags": []
   },
   "outputs": [],
   "source": [
    "# import libraries\n",
    "import pandas as pd\n",
    "import numpy as np\n",
    "from scipy import stats\n",
    "from scipy.stats import ttest_ind\n",
    "import seaborn as sns \n",
    "sns.set()\n",
    "import matplotlib.pyplot as plt\n",
    "# from google.colab import drive\n",
    "# drive.mount('/content/gdrive')\n",
    "\n",
    "# read csv\n",
    "# df = pd.read_csv(\"/content/gdrive/MyDrive/colab-datasets/vending_machine_sales.csv\")\n",
    "df = pd.read_csv(\"/kaggle/input/vending-machine-sales/vending_machine_sales.csv\")"
   ]
  },
  {
   "cell_type": "markdown",
   "id": "3170fc8c",
   "metadata": {
    "papermill": {
     "duration": 0.015682,
     "end_time": "2022-12-05T19:41:19.057147",
     "exception": false,
     "start_time": "2022-12-05T19:41:19.041465",
     "status": "completed"
    },
    "tags": []
   },
   "source": [
    "### Global Data Cleaning"
   ]
  },
  {
   "cell_type": "code",
   "execution_count": 2,
   "id": "6d237450",
   "metadata": {
    "execution": {
     "iopub.execute_input": "2022-12-05T19:41:19.081902Z",
     "iopub.status.busy": "2022-12-05T19:41:19.081479Z",
     "iopub.status.idle": "2022-12-05T19:41:19.096477Z",
     "shell.execute_reply": "2022-12-05T19:41:19.095697Z"
    },
    "papermill": {
     "duration": 0.030165,
     "end_time": "2022-12-05T19:41:19.098947",
     "exception": false,
     "start_time": "2022-12-05T19:41:19.068782",
     "status": "completed"
    },
    "tags": []
   },
   "outputs": [],
   "source": [
    "# data cleaning\n",
    "# df.info()\n",
    "df = df.dropna()"
   ]
  },
  {
   "cell_type": "markdown",
   "id": "e54b0d14",
   "metadata": {
    "papermill": {
     "duration": 0.01126,
     "end_time": "2022-12-05T19:41:19.121873",
     "exception": false,
     "start_time": "2022-12-05T19:41:19.110613",
     "status": "completed"
    },
    "tags": []
   },
   "source": [
    "### Data Overview"
   ]
  },
  {
   "cell_type": "code",
   "execution_count": 3,
   "id": "44fd9d00",
   "metadata": {
    "execution": {
     "iopub.execute_input": "2022-12-05T19:41:19.145903Z",
     "iopub.status.busy": "2022-12-05T19:41:19.145499Z",
     "iopub.status.idle": "2022-12-05T19:41:19.167499Z",
     "shell.execute_reply": "2022-12-05T19:41:19.165890Z"
    },
    "papermill": {
     "duration": 0.037345,
     "end_time": "2022-12-05T19:41:19.170266",
     "exception": false,
     "start_time": "2022-12-05T19:41:19.132921",
     "status": "completed"
    },
    "tags": []
   },
   "outputs": [
    {
     "name": "stdout",
     "output_type": "stream",
     "text": [
      "                Total Revenue\n",
      "Category                     \n",
      "Carbonated            3371.50\n",
      "Food                  5835.25\n",
      "Non Carbonated        1811.25\n",
      "Water                  893.25\n"
     ]
    }
   ],
   "source": [
    "total_overview = df.groupby(\"Category\").sum()[['RPrice']]\n",
    "total_overview['Total Revenue'] = total_overview['RPrice']\n",
    "total_overview = total_overview.drop(['RPrice'], axis=1)\n",
    "print(total_overview)"
   ]
  },
  {
   "cell_type": "markdown",
   "id": "dc60fe79",
   "metadata": {
    "papermill": {
     "duration": 0.011319,
     "end_time": "2022-12-05T19:41:19.194432",
     "exception": false,
     "start_time": "2022-12-05T19:41:19.183113",
     "status": "completed"
    },
    "tags": []
   },
   "source": [
    "## Findings"
   ]
  },
  {
   "cell_type": "markdown",
   "id": "f4d25a2c",
   "metadata": {
    "papermill": {
     "duration": 0.011144,
     "end_time": "2022-12-05T19:41:19.216821",
     "exception": false,
     "start_time": "2022-12-05T19:41:19.205677",
     "status": "completed"
    },
    "tags": []
   },
   "source": [
    "### Hypothesis #1\n",
    "The average revenue per drink for carbonated drinks is **significantly higher** than non-carbonated drinks.\n",
    "> Assuming there is equal demand (purchases) among the two categories"
   ]
  },
  {
   "cell_type": "code",
   "execution_count": 4,
   "id": "2e61dca6",
   "metadata": {
    "execution": {
     "iopub.execute_input": "2022-12-05T19:41:19.241511Z",
     "iopub.status.busy": "2022-12-05T19:41:19.241111Z",
     "iopub.status.idle": "2022-12-05T19:41:19.487406Z",
     "shell.execute_reply": "2022-12-05T19:41:19.485999Z"
    },
    "papermill": {
     "duration": 0.263652,
     "end_time": "2022-12-05T19:41:19.491897",
     "exception": false,
     "start_time": "2022-12-05T19:41:19.228245",
     "status": "completed"
    },
    "tags": []
   },
   "outputs": [
    {
     "name": "stdout",
     "output_type": "stream",
     "text": [
      "14.522678813161257 7.95456326451125e-46\n",
      "AxesSubplot(0.125,0.125;0.775x0.755)\n"
     ]
    },
    {
     "data": {
      "image/png": "[encoded data removed]",
      "text/plain": [
       "<Figure size 432x288 with 1 Axes>"
      ]
     },
     "metadata": {},
     "output_type": "display_data"
    }
   ],
   "source": [
    "# create data frames for carbonated and non-carbonated categories\n",
    "df_carb = df.loc[df['Category'] == 'Carbonated']\n",
    "df_noncarb = df.loc[df['Category'] == 'Non Carbonated']\n",
    "\n",
    "# conduct t-test to test for signif\n",
    "tc, pc = ttest_ind(df_noncarb['RPrice'], df_carb['RPrice'])\n",
    "print(tc, pc)\n",
    "\n",
    "# context \n",
    "from numpy import mean\n",
    "t_1 = df[df['Category'].isin(['Carbonated', 'Non Carbonated'])]\n",
    "h_1 = sns.barplot(x = 'Category', y = 'RPrice', data = t_1, estimator = mean)\n",
    "print(h_1)"
   ]
  },
  {
   "cell_type": "markdown",
   "id": "1605d8e8",
   "metadata": {
    "papermill": {
     "duration": 0.01127,
     "end_time": "2022-12-05T19:41:19.516205",
     "exception": false,
     "start_time": "2022-12-05T19:41:19.504935",
     "status": "completed"
    },
    "tags": []
   },
   "source": [
    "### Hypothesis #1 Summary\n",
    "- The above bar chart shows the average revenue per product for both carbonated and non-carbonated beverages\n",
    "- However, the non-carbonated drinks cost more on average than their carbonated counterparts, so therefore I **reject hypothesis #1**\n",
    " - This is a significant difference at a 95% confidence level | p < .01 \n",
    "\n",
    "<br>\n",
    "Because non-carbonated drinks are more expensive but have less total revenue than carbonated drinks that would mean carbonated drinks are bought more often..."
   ]
  },
  {
   "cell_type": "code",
   "execution_count": 5,
   "id": "64f8f4fc",
   "metadata": {
    "execution": {
     "iopub.execute_input": "2022-12-05T19:41:19.541005Z",
     "iopub.status.busy": "2022-12-05T19:41:19.540483Z",
     "iopub.status.idle": "2022-12-05T19:41:19.554858Z",
     "shell.execute_reply": "2022-12-05T19:41:19.553830Z"
    },
    "papermill": {
     "duration": 0.029976,
     "end_time": "2022-12-05T19:41:19.557746",
     "exception": false,
     "start_time": "2022-12-05T19:41:19.527770",
     "status": "completed"
    },
    "tags": []
   },
   "outputs": [
    {
     "name": "stdout",
     "output_type": "stream",
     "text": [
      "                Total Sold\n",
      "Category                  \n",
      "Carbonated            1639\n",
      "Non Carbonated         710\n"
     ]
    }
   ],
   "source": [
    "# get counts for carbonated and non-carbonated drinks\n",
    "count_overview = t_1.groupby(\"Category\").count()[['RPrice']]\n",
    "count_overview['Total Sold'] = count_overview['RPrice']\n",
    "count_overview = count_overview.drop(['RPrice'], axis=1)\n",
    "print(count_overview)"
   ]
  },
  {
   "cell_type": "markdown",
   "id": "34eeea09",
   "metadata": {
    "papermill": {
     "duration": 0.011408,
     "end_time": "2022-12-05T19:41:19.584881",
     "exception": false,
     "start_time": "2022-12-05T19:41:19.573473",
     "status": "completed"
    },
    "tags": []
   },
   "source": [
    "#### **Carbonated Vs Non-carbonated**\n",
    "We know that non-carbonated on average makes more revenue than carbonated drinks, but carbonated drinks are sold more. With many different options, and limited space for drinks in the vending machines, we need to optimize the product selection.\n",
    "<br>\n",
    "\n",
    "*This begs the question...* \n",
    "\n",
    "**What are the most popular carbonated drinks out of the 16 options?** \n",
    "> I can easily find this out by looking at only carbonated drinks and sorting this df descending by count"
   ]
  },
  {
   "cell_type": "markdown",
   "id": "bacde600",
   "metadata": {
    "papermill": {
     "duration": 0.012018,
     "end_time": "2022-12-05T19:41:19.608620",
     "exception": false,
     "start_time": "2022-12-05T19:41:19.596602",
     "status": "completed"
    },
    "tags": []
   },
   "source": [
    "##### **Carbonated Drinks** | 16 Total Products\n"
   ]
  },
  {
   "cell_type": "code",
   "execution_count": 6,
   "id": "8cd5efd8",
   "metadata": {
    "execution": {
     "iopub.execute_input": "2022-12-05T19:41:19.633934Z",
     "iopub.status.busy": "2022-12-05T19:41:19.633534Z",
     "iopub.status.idle": "2022-12-05T19:41:19.650514Z",
     "shell.execute_reply": "2022-12-05T19:41:19.649212Z"
    },
    "papermill": {
     "duration": 0.032396,
     "end_time": "2022-12-05T19:41:19.652929",
     "exception": false,
     "start_time": "2022-12-05T19:41:19.620533",
     "status": "completed"
    },
    "tags": []
   },
   "outputs": [
    {
     "name": "stdout",
     "output_type": "stream",
     "text": [
      "                                               Total Sold\n",
      "Product                                                  \n",
      "Coca Cola - Zero Sugar                                517\n",
      "Monster Energy Original                               385\n",
      "Sunkist Soda - Orange                                 217\n",
      "Red Bull - Original                                   157\n",
      "Coca Cola - Regular                                   155\n",
      "Starbucks Refresher - Real Coconut Water               53\n",
      "Spindrift - Sparkling Water - Pineapple                51\n",
      "Keto Krisp - Almond Butter                             27\n",
      "Spindrift - Sparkling Water  Lime                      22\n",
      "Red Bull - Energy Drink - Sugar Free                   21\n",
      "Keto Krisp - Almond/Chocolate                          15\n",
      "Bubly - Cherry                                          5\n",
      "Bubly - Mango                                           5\n",
      "Monster Energy  Zero Ultra                              4\n",
      "S. Pellegrino Essenza Mineral Water - Blood O           3\n",
      "Remedy Kombucha - Ginger Lemon                          2\n"
     ]
    }
   ],
   "source": [
    "# create df filtered for only carbonated drinks\n",
    "carbonated_df = df.loc[df['Category'] == 'Carbonated']\n",
    "\n",
    "# get counts for each product \n",
    "carb_count_overview = carbonated_df.groupby('Product').count()[['RPrice']]\n",
    "carb_count_overview['Total Sold'] = carb_count_overview['RPrice']\n",
    "carb_count_overview = carb_count_overview.drop(['RPrice'], axis=1)\n",
    "carb_count_overview = carb_count_overview.sort_values(by = 'Total Sold', ascending=False)\n",
    "\n",
    "# all total options (16 total)\n",
    "print(carb_count_overview)\n",
    "\n",
    "carb_top_5 = carb_count_overview.head()\n",
    "\n",
    "carb_bottom_11 = carb_count_overview.tail(11)"
   ]
  },
  {
   "cell_type": "markdown",
   "id": "42a0f3bb",
   "metadata": {
    "papermill": {
     "duration": 0.011224,
     "end_time": "2022-12-05T19:41:19.676091",
     "exception": false,
     "start_time": "2022-12-05T19:41:19.664867",
     "status": "completed"
    },
    "tags": []
   },
   "source": [
    "##### **Top 5 Carbonated Drinks Overall**\n",
    "\n",
    "These are the top 5 carbonated drinks and they also all have over 100 purchases, and they are the main carbonated drinks you should be stocking in these locations"
   ]
  },
  {
   "cell_type": "code",
   "execution_count": 7,
   "id": "b3406e16",
   "metadata": {
    "execution": {
     "iopub.execute_input": "2022-12-05T19:41:19.701374Z",
     "iopub.status.busy": "2022-12-05T19:41:19.701000Z",
     "iopub.status.idle": "2022-12-05T19:41:19.707504Z",
     "shell.execute_reply": "2022-12-05T19:41:19.706533Z"
    },
    "papermill": {
     "duration": 0.022512,
     "end_time": "2022-12-05T19:41:19.710187",
     "exception": false,
     "start_time": "2022-12-05T19:41:19.687675",
     "status": "completed"
    },
    "tags": []
   },
   "outputs": [
    {
     "name": "stdout",
     "output_type": "stream",
     "text": [
      "                         Total Sold\n",
      "Product                            \n",
      "Coca Cola - Zero Sugar          517\n",
      "Monster Energy Original         385\n",
      "Sunkist Soda - Orange           217\n",
      "Red Bull - Original             157\n",
      "Coca Cola - Regular             155\n"
     ]
    }
   ],
   "source": [
    "print(carb_top_5)"
   ]
  },
  {
   "cell_type": "markdown",
   "id": "d31e6cc2",
   "metadata": {
    "papermill": {
     "duration": 0.011262,
     "end_time": "2022-12-05T19:41:19.734250",
     "exception": false,
     "start_time": "2022-12-05T19:41:19.722988",
     "status": "completed"
    },
    "tags": []
   },
   "source": [
    "##### **Bottom 11 Carbonated Drinks Overall**\n",
    "These are the drinks that should be reconsidered, especially the ones with less than 30 sold, as they are taking up space in the machines and not frequently bought."
   ]
  },
  {
   "cell_type": "code",
   "execution_count": 8,
   "id": "0903c0bf",
   "metadata": {
    "execution": {
     "iopub.execute_input": "2022-12-05T19:41:19.759434Z",
     "iopub.status.busy": "2022-12-05T19:41:19.759018Z",
     "iopub.status.idle": "2022-12-05T19:41:19.764704Z",
     "shell.execute_reply": "2022-12-05T19:41:19.763969Z"
    },
    "papermill": {
     "duration": 0.021912,
     "end_time": "2022-12-05T19:41:19.767896",
     "exception": false,
     "start_time": "2022-12-05T19:41:19.745984",
     "status": "completed"
    },
    "tags": []
   },
   "outputs": [
    {
     "name": "stdout",
     "output_type": "stream",
     "text": [
      "                                               Total Sold\n",
      "Product                                                  \n",
      "Starbucks Refresher - Real Coconut Water               53\n",
      "Spindrift - Sparkling Water - Pineapple                51\n",
      "Keto Krisp - Almond Butter                             27\n",
      "Spindrift - Sparkling Water  Lime                      22\n",
      "Red Bull - Energy Drink - Sugar Free                   21\n",
      "Keto Krisp - Almond/Chocolate                          15\n",
      "Bubly - Cherry                                          5\n",
      "Bubly - Mango                                           5\n",
      "Monster Energy  Zero Ultra                              4\n",
      "S. Pellegrino Essenza Mineral Water - Blood O           3\n",
      "Remedy Kombucha - Ginger Lemon                          2\n"
     ]
    }
   ],
   "source": [
    "print(carb_bottom_11)"
   ]
  },
  {
   "cell_type": "markdown",
   "id": "557c8e36",
   "metadata": {
    "papermill": {
     "duration": 0.01178,
     "end_time": "2022-12-05T19:41:19.792859",
     "exception": false,
     "start_time": "2022-12-05T19:41:19.781079",
     "status": "completed"
    },
    "tags": []
   },
   "source": [
    "##### **Non-carbonated Drinks** | 24 Total Products"
   ]
  },
  {
   "cell_type": "code",
   "execution_count": 9,
   "id": "bbfe8a19",
   "metadata": {
    "execution": {
     "iopub.execute_input": "2022-12-05T19:41:19.819427Z",
     "iopub.status.busy": "2022-12-05T19:41:19.818284Z",
     "iopub.status.idle": "2022-12-05T19:41:19.835826Z",
     "shell.execute_reply": "2022-12-05T19:41:19.833769Z"
    },
    "papermill": {
     "duration": 0.033869,
     "end_time": "2022-12-05T19:41:19.838871",
     "exception": false,
     "start_time": "2022-12-05T19:41:19.805002",
     "status": "completed"
    },
    "tags": []
   },
   "outputs": [
    {
     "name": "stdout",
     "output_type": "stream",
     "text": [
      "                                            Total Sold\n",
      "Product                                               \n",
      "Snapple Diet Tea - Peach Tea                       109\n",
      "Snapple Diet Tea - Lemon                            88\n",
      "Snapple Tea - Raspberry                             79\n",
      "Starbucks Doubleshot Energy - Mocha                 74\n",
      "Iberia Coconut Water                                72\n",
      "Snapple Tea - Lemon                                 51\n",
      "Bai Antioxidant - Tanzania Lemon Super Tea          33\n",
      "Snapple Tea - Peach                                 31\n",
      "Snapple Diet Tea - Raspberry                        28\n",
      "V8 Vegetable Juice - Original                       27\n",
      "BodyArmor  LYTE - Blueberry Pomegranate             23\n",
      "Bai Antioxidant - Molokai Coconut                   12\n",
      "Bai Antioxidant - Zambia Bingcherry                 11\n",
      "Bai Lemonade - Burundi Blueberry                    10\n",
      "Honest Tea - Berry Hibiscus                         10\n",
      "Bai Antioxidant - Kupang strawberry kiwi            10\n",
      "Snapple Lemonade - black berry                       8\n",
      "Snapple Lemonade - pineapple                         8\n",
      "Snapple Lemonade - watermelon                        8\n",
      "Zevia Zero Calorie Energy - Mango Ginger             6\n",
      "Bai Antioxidant - Kula Watermelon                    5\n",
      "Bai Antioxidant - Brasilia BB                        4\n",
      "Spindrift - Sparkling Water Raspberry Lime           2\n",
      "Zevia Organic Tea - Peach                            1\n"
     ]
    }
   ],
   "source": [
    "# create df filtered for only non-carbonated drinks\n",
    "non_carbonated_df = df.loc[df['Category'] == 'Non Carbonated']\n",
    "\n",
    "# get counts for each product \n",
    "non_carb_count_overview = non_carbonated_df.groupby('Product').count()[['RPrice']]\n",
    "non_carb_count_overview['Total Sold'] = non_carb_count_overview['RPrice']\n",
    "non_carb_count_overview = non_carb_count_overview.drop(['RPrice'], axis=1)\n",
    "non_carb_count_overview = non_carb_count_overview.sort_values(by = 'Total Sold', ascending=False)\n",
    "\n",
    "# all total options\n",
    "print(non_carb_count_overview)"
   ]
  },
  {
   "cell_type": "markdown",
   "id": "c4e8f4c5",
   "metadata": {
    "papermill": {
     "duration": 0.011958,
     "end_time": "2022-12-05T19:41:19.863748",
     "exception": false,
     "start_time": "2022-12-05T19:41:19.851790",
     "status": "completed"
    },
    "tags": []
   },
   "source": [
    "##### **Top 5 Non-Carbonated Drinks Overall**\n",
    "\n",
    "These are the top 5 non-carbonated drinks and they also all have over 70 purchases, and they are the main non-carbonated drinks you should be stocking in these locations"
   ]
  },
  {
   "cell_type": "code",
   "execution_count": 10,
   "id": "a1e12723",
   "metadata": {
    "execution": {
     "iopub.execute_input": "2022-12-05T19:41:19.889648Z",
     "iopub.status.busy": "2022-12-05T19:41:19.888969Z",
     "iopub.status.idle": "2022-12-05T19:41:19.896431Z",
     "shell.execute_reply": "2022-12-05T19:41:19.894870Z"
    },
    "papermill": {
     "duration": 0.023838,
     "end_time": "2022-12-05T19:41:19.899456",
     "exception": false,
     "start_time": "2022-12-05T19:41:19.875618",
     "status": "completed"
    },
    "tags": []
   },
   "outputs": [
    {
     "name": "stdout",
     "output_type": "stream",
     "text": [
      "                                     Total Sold\n",
      "Product                                        \n",
      "Snapple Diet Tea - Peach Tea                109\n",
      "Snapple Diet Tea - Lemon                     88\n",
      "Snapple Tea - Raspberry                      79\n",
      "Starbucks Doubleshot Energy - Mocha          74\n",
      "Iberia Coconut Water                         72\n"
     ]
    }
   ],
   "source": [
    "print(non_carb_count_overview.head())"
   ]
  },
  {
   "cell_type": "markdown",
   "id": "68a3fed7",
   "metadata": {
    "papermill": {
     "duration": 0.011909,
     "end_time": "2022-12-05T19:41:19.923590",
     "exception": false,
     "start_time": "2022-12-05T19:41:19.911681",
     "status": "completed"
    },
    "tags": []
   },
   "source": [
    "##### **Bottom 19 Non-Carbonated Drinks Overall**\n",
    "These non-carbonated drinks are not as popular in these locations and they need to be reconsidered, if there is space for more non-carbonated drinks then the most popular of this table should be given the most consideration. (Top 3-5)"
   ]
  },
  {
   "cell_type": "code",
   "execution_count": 11,
   "id": "1acb6f7f",
   "metadata": {
    "execution": {
     "iopub.execute_input": "2022-12-05T19:41:19.950309Z",
     "iopub.status.busy": "2022-12-05T19:41:19.949529Z",
     "iopub.status.idle": "2022-12-05T19:41:19.957735Z",
     "shell.execute_reply": "2022-12-05T19:41:19.956093Z"
    },
    "papermill": {
     "duration": 0.02458,
     "end_time": "2022-12-05T19:41:19.960325",
     "exception": false,
     "start_time": "2022-12-05T19:41:19.935745",
     "status": "completed"
    },
    "tags": []
   },
   "outputs": [
    {
     "name": "stdout",
     "output_type": "stream",
     "text": [
      "                                            Total Sold\n",
      "Product                                               \n",
      "Snapple Tea - Lemon                                 51\n",
      "Bai Antioxidant - Tanzania Lemon Super Tea          33\n",
      "Snapple Tea - Peach                                 31\n",
      "Snapple Diet Tea - Raspberry                        28\n",
      "V8 Vegetable Juice - Original                       27\n",
      "BodyArmor  LYTE - Blueberry Pomegranate             23\n",
      "Bai Antioxidant - Molokai Coconut                   12\n",
      "Bai Antioxidant - Zambia Bingcherry                 11\n",
      "Bai Lemonade - Burundi Blueberry                    10\n",
      "Honest Tea - Berry Hibiscus                         10\n",
      "Bai Antioxidant - Kupang strawberry kiwi            10\n",
      "Snapple Lemonade - black berry                       8\n",
      "Snapple Lemonade - pineapple                         8\n",
      "Snapple Lemonade - watermelon                        8\n",
      "Zevia Zero Calorie Energy - Mango Ginger             6\n",
      "Bai Antioxidant - Kula Watermelon                    5\n",
      "Bai Antioxidant - Brasilia BB                        4\n",
      "Spindrift - Sparkling Water Raspberry Lime           2\n",
      "Zevia Organic Tea - Peach                            1\n"
     ]
    }
   ],
   "source": [
    "print(non_carb_count_overview.tail(19))"
   ]
  },
  {
   "cell_type": "markdown",
   "id": "4b6cc1d8",
   "metadata": {
    "papermill": {
     "duration": 0.012323,
     "end_time": "2022-12-05T19:41:19.984917",
     "exception": false,
     "start_time": "2022-12-05T19:41:19.972594",
     "status": "completed"
    },
    "tags": []
   },
   "source": [
    "### Hypothesis #2\n",
    "The average revenue per carbonated drink is **significantly higher** than for water.\n",
    "> Assuming there is equal demand (purchases) among the two categories"
   ]
  },
  {
   "cell_type": "code",
   "execution_count": 12,
   "id": "60c783e7",
   "metadata": {
    "execution": {
     "iopub.execute_input": "2022-12-05T19:41:20.011295Z",
     "iopub.status.busy": "2022-12-05T19:41:20.010945Z",
     "iopub.status.idle": "2022-12-05T19:41:20.229958Z",
     "shell.execute_reply": "2022-12-05T19:41:20.228914Z"
    },
    "papermill": {
     "duration": 0.234774,
     "end_time": "2022-12-05T19:41:20.232089",
     "exception": false,
     "start_time": "2022-12-05T19:41:19.997315",
     "status": "completed"
    },
    "tags": []
   },
   "outputs": [
    {
     "name": "stdout",
     "output_type": "stream",
     "text": [
      "-5.038787638137021 5.081582172672138e-07\n",
      "AxesSubplot(0.125,0.125;0.775x0.755)\n"
     ]
    },
    {
     "data": {
      "image/png": "[encoded data removed]",
      "text/plain": [
       "<Figure size 432x288 with 1 Axes>"
      ]
     },
     "metadata": {},
     "output_type": "display_data"
    }
   ],
   "source": [
    "# create data frames for carbonated and water categories\n",
    "# df_carb = df.loc[df['Category'] == 'Carbonated']\n",
    "df_water = df.loc[df['Category'] == 'Water']\n",
    "\n",
    "# conduct t-test to test for signif\n",
    "tc2, pc2 = ttest_ind(df_water['RPrice'], df_carb['RPrice'])\n",
    "print(tc2, pc2)\n",
    "\n",
    "# context \n",
    "from numpy import mean\n",
    "t_2 = df[df['Category'].isin(['Carbonated', 'Water'])]\n",
    "h_2 = sns.barplot(x = 'Category', y = 'RPrice', data = t_2, estimator = mean)\n",
    "print(h_2)"
   ]
  },
  {
   "cell_type": "markdown",
   "id": "8b3e4df7",
   "metadata": {
    "papermill": {
     "duration": 0.0124,
     "end_time": "2022-12-05T19:41:20.257599",
     "exception": false,
     "start_time": "2022-12-05T19:41:20.245199",
     "status": "completed"
    },
    "tags": []
   },
   "source": [
    "### Hypothesis #2 Summary\n",
    "- The above bar chart shows the average revenue per product for both carbonated and water beverages\n",
    "- **Hypothesis #2 is retained** as the average revenue per cabonated beverage is **higher** than that of the beverages in the water category\n",
    " - This is a significant difference at a 95% confidence level | p < .01 \n",
    "\n",
    "<br>\n",
    "From here it is time to investigate the selection of water."
   ]
  },
  {
   "cell_type": "markdown",
   "id": "923c3ab7",
   "metadata": {
    "papermill": {
     "duration": 0.012626,
     "end_time": "2022-12-05T19:41:20.283095",
     "exception": false,
     "start_time": "2022-12-05T19:41:20.270469",
     "status": "completed"
    },
    "tags": []
   },
   "source": [
    "##### **Water** | 11 Total Products"
   ]
  },
  {
   "cell_type": "code",
   "execution_count": 13,
   "id": "c48a9b57",
   "metadata": {
    "execution": {
     "iopub.execute_input": "2022-12-05T19:41:20.310676Z",
     "iopub.status.busy": "2022-12-05T19:41:20.310242Z",
     "iopub.status.idle": "2022-12-05T19:41:20.325478Z",
     "shell.execute_reply": "2022-12-05T19:41:20.324102Z"
    },
    "papermill": {
     "duration": 0.032559,
     "end_time": "2022-12-05T19:41:20.328531",
     "exception": false,
     "start_time": "2022-12-05T19:41:20.295972",
     "status": "completed"
    },
    "tags": []
   },
   "outputs": [
    {
     "name": "stdout",
     "output_type": "stream",
     "text": [
      "                                         Total Sold\n",
      "Product                                            \n",
      "Poland Springs Water                            300\n",
      "S. Pellegrino Sparkling Mineral Water            66\n",
      "BodyArmor LYTE - Strawberry Lemonade             33\n",
      "Vitamin Water - Squeezed Lemonade                25\n",
      "BodyArmor LYTE  - Peach Mango                    19\n",
      "Vitamin Water - XXX Acai BB Pomegranate          17\n",
      "Vitamin Water - Ice Cool Blue Lavender           10\n",
      "Bubly - Blackberry                                4\n",
      "Bubly - Lime                                      4\n",
      "Bubly - Grapefruit                                3\n",
      "BodyArmor LYTE  - Berry Punch                     2\n"
     ]
    }
   ],
   "source": [
    "# create df filtered for only water\n",
    "water_df = df.loc[df['Category'] == 'Water']\n",
    "\n",
    "# get counts for each product \n",
    "water_count_overview = water_df.groupby('Product').count()[['RPrice']]\n",
    "water_count_overview['Total Sold'] = water_count_overview['RPrice']\n",
    "water_count_overview = water_count_overview.drop(['RPrice'], axis=1)\n",
    "water_count_overview = water_count_overview.sort_values(by = 'Total Sold', ascending=False)\n",
    "\n",
    "# all total options\n",
    "print(water_count_overview)"
   ]
  },
  {
   "cell_type": "markdown",
   "id": "a4a3fcdc",
   "metadata": {
    "papermill": {
     "duration": 0.012601,
     "end_time": "2022-12-05T19:41:20.354599",
     "exception": false,
     "start_time": "2022-12-05T19:41:20.341998",
     "status": "completed"
    },
    "tags": []
   },
   "source": [
    "##### **Top Water Product Overall**\n",
    "\n",
    "The Poland Springs Water is by far the most popular."
   ]
  },
  {
   "cell_type": "code",
   "execution_count": 14,
   "id": "d0d9b29a",
   "metadata": {
    "execution": {
     "iopub.execute_input": "2022-12-05T19:41:20.381995Z",
     "iopub.status.busy": "2022-12-05T19:41:20.381343Z",
     "iopub.status.idle": "2022-12-05T19:41:20.388592Z",
     "shell.execute_reply": "2022-12-05T19:41:20.387340Z"
    },
    "papermill": {
     "duration": 0.02327,
     "end_time": "2022-12-05T19:41:20.390597",
     "exception": false,
     "start_time": "2022-12-05T19:41:20.367327",
     "status": "completed"
    },
    "tags": []
   },
   "outputs": [
    {
     "name": "stdout",
     "output_type": "stream",
     "text": [
      "                      Total Sold\n",
      "Product                         \n",
      "Poland Springs Water         300\n"
     ]
    }
   ],
   "source": [
    "print(water_count_overview.head(1))"
   ]
  },
  {
   "cell_type": "markdown",
   "id": "a8833258",
   "metadata": {
    "papermill": {
     "duration": 0.0124,
     "end_time": "2022-12-05T19:41:20.415719",
     "exception": false,
     "start_time": "2022-12-05T19:41:20.403319",
     "status": "completed"
    },
    "tags": []
   },
   "source": [
    "##### **Bottom 10 Water Products Overall**\n",
    "\n",
    "As water does not generate a large portion of revenue, and with limited space it is recomended to replace these poor performing water products and consider other non-water beverages or food that sells more frequently or generates more revenue in these locations."
   ]
  },
  {
   "cell_type": "code",
   "execution_count": 15,
   "id": "2cfcc544",
   "metadata": {
    "execution": {
     "iopub.execute_input": "2022-12-05T19:41:20.443682Z",
     "iopub.status.busy": "2022-12-05T19:41:20.442883Z",
     "iopub.status.idle": "2022-12-05T19:41:20.450116Z",
     "shell.execute_reply": "2022-12-05T19:41:20.448902Z"
    },
    "papermill": {
     "duration": 0.023929,
     "end_time": "2022-12-05T19:41:20.452423",
     "exception": false,
     "start_time": "2022-12-05T19:41:20.428494",
     "status": "completed"
    },
    "tags": []
   },
   "outputs": [
    {
     "name": "stdout",
     "output_type": "stream",
     "text": [
      "                                         Total Sold\n",
      "Product                                            \n",
      "S. Pellegrino Sparkling Mineral Water            66\n",
      "BodyArmor LYTE - Strawberry Lemonade             33\n",
      "Vitamin Water - Squeezed Lemonade                25\n",
      "BodyArmor LYTE  - Peach Mango                    19\n",
      "Vitamin Water - XXX Acai BB Pomegranate          17\n",
      "Vitamin Water - Ice Cool Blue Lavender           10\n",
      "Bubly - Blackberry                                4\n",
      "Bubly - Lime                                      4\n",
      "Bubly - Grapefruit                                3\n",
      "BodyArmor LYTE  - Berry Punch                     2\n"
     ]
    }
   ],
   "source": [
    "print(water_count_overview.tail(10))"
   ]
  },
  {
   "cell_type": "markdown",
   "id": "15f4c051",
   "metadata": {
    "papermill": {
     "duration": 0.01249,
     "end_time": "2022-12-05T19:41:20.477837",
     "exception": false,
     "start_time": "2022-12-05T19:41:20.465347",
     "status": "completed"
    },
    "tags": []
   },
   "source": [
    "### Hypothesis #3\n",
    "The average revenue per carbonated drink is **significantly higher** than the average revenue for food products.\n",
    "> Assuming there is equal demand (purchases) among the two categories"
   ]
  },
  {
   "cell_type": "code",
   "execution_count": 16,
   "id": "720ae9c7",
   "metadata": {
    "execution": {
     "iopub.execute_input": "2022-12-05T19:41:20.505139Z",
     "iopub.status.busy": "2022-12-05T19:41:20.504733Z",
     "iopub.status.idle": "2022-12-05T19:41:20.829548Z",
     "shell.execute_reply": "2022-12-05T19:41:20.828332Z"
    },
    "papermill": {
     "duration": 0.341382,
     "end_time": "2022-12-05T19:41:20.831883",
     "exception": false,
     "start_time": "2022-12-05T19:41:20.490501",
     "status": "completed"
    },
    "tags": []
   },
   "outputs": [
    {
     "name": "stdout",
     "output_type": "stream",
     "text": [
      "-19.521880709626263 6.853161341994257e-82\n",
      "AxesSubplot(0.125,0.125;0.775x0.755)\n"
     ]
    },
    {
     "data": {
      "image/png": "[encoded data removed]",
      "text/plain": [
       "<Figure size 432x288 with 1 Axes>"
      ]
     },
     "metadata": {},
     "output_type": "display_data"
    }
   ],
   "source": [
    "# create data frames for carbonated and water categories\n",
    "# df_carb = df.loc[df['Category'] == 'Carbonated']\n",
    "df_food = df.loc[df['Category'] == 'Food']\n",
    "\n",
    "# conduct t-test to test for signif\n",
    "tc3, pc3 = ttest_ind(df_food['RPrice'], df_carb['RPrice'])\n",
    "print(tc3, pc3)\n",
    "\n",
    "# context \n",
    "from numpy import mean\n",
    "t_3 = df[df['Category'].isin(['Carbonated', 'Food'])]\n",
    "h_3 = sns.barplot(x = 'Category', y = 'RPrice', data = t_3, estimator = mean)\n",
    "print(h_3)"
   ]
  },
  {
   "cell_type": "markdown",
   "id": "0ec2aacb",
   "metadata": {
    "papermill": {
     "duration": 0.012762,
     "end_time": "2022-12-05T19:41:20.858503",
     "exception": false,
     "start_time": "2022-12-05T19:41:20.845741",
     "status": "completed"
    },
    "tags": []
   },
   "source": [
    "### Hypothesis #3 Summary\n",
    "- The above bar chart shows the average revenue per product for both carbonated drinks and food\n",
    "- **Hypothesis #3 is retained** as the average revenue per cabonated beverage is **higher** than the average revenue per food product\n",
    " - This is a significant difference at a 95% confidence level | p < .01 \n",
    "\n",
    "<br>\n",
    "From here we can look at the food selection and options"
   ]
  },
  {
   "cell_type": "markdown",
   "id": "460fdfd7",
   "metadata": {
    "papermill": {
     "duration": 0.013128,
     "end_time": "2022-12-05T19:41:20.884894",
     "exception": false,
     "start_time": "2022-12-05T19:41:20.871766",
     "status": "completed"
    },
    "tags": []
   },
   "source": [
    "##### **Food** | 111 Total Products"
   ]
  },
  {
   "cell_type": "code",
   "execution_count": 17,
   "id": "f8c3465c",
   "metadata": {
    "execution": {
     "iopub.execute_input": "2022-12-05T19:41:20.913678Z",
     "iopub.status.busy": "2022-12-05T19:41:20.913059Z",
     "iopub.status.idle": "2022-12-05T19:41:20.930341Z",
     "shell.execute_reply": "2022-12-05T19:41:20.929109Z"
    },
    "papermill": {
     "duration": 0.034928,
     "end_time": "2022-12-05T19:41:20.933262",
     "exception": false,
     "start_time": "2022-12-05T19:41:20.898334",
     "status": "completed"
    },
    "tags": []
   },
   "outputs": [
    {
     "name": "stdout",
     "output_type": "stream",
     "text": [
      "                                               Total Sold\n",
      "Product                                                  \n",
      "KitKat - Crisp Wafers                                 260\n",
      "Wonderful Pistachios - Variety                        144\n",
      "CheezIt - Original                                    138\n",
      "SunChips Multigrain - Harvest Cheddar                 131\n",
      "Robert Irvine's - Fit Crunch -  Chocolate Pea         121\n",
      "...                                                   ...\n",
      "Nature's Garden Trail Mix - Heart Healthy Mix           1\n",
      "Nature's Garden Trail Mix - Omega 3                     1\n",
      "Nature's Valley Chewy Granola Bar - Fruit & N           1\n",
      "Nature's Valley Crunchy Granola Bar - Oats &            1\n",
      "Larabar - Peanut Butter chocolate Chip                  1\n",
      "\n",
      "[111 rows x 1 columns]\n"
     ]
    }
   ],
   "source": [
    "# create df filtered for only food\n",
    "food_df = df.loc[df['Category'] == 'Food']\n",
    "\n",
    "# get counts for each product \n",
    "food_count_overview = food_df.groupby('Product').count()[['RPrice']]\n",
    "food_count_overview['Total Sold'] = food_count_overview['RPrice']\n",
    "food_count_overview = food_count_overview.drop(['RPrice'], axis=1)\n",
    "food_count_overview = food_count_overview.sort_values(by = 'Total Sold', ascending=False)\n",
    "\n",
    "# all total options\n",
    "print(food_count_overview)"
   ]
  },
  {
   "cell_type": "markdown",
   "id": "ab639bee",
   "metadata": {
    "papermill": {
     "duration": 0.012697,
     "end_time": "2022-12-05T19:41:20.959804",
     "exception": false,
     "start_time": "2022-12-05T19:41:20.947107",
     "status": "completed"
    },
    "tags": []
   },
   "source": [
    "##### **Top Food Products** | Greater than 25 units sold to date\n",
    "These are the food products that are the most popular and should be kept in the machines."
   ]
  },
  {
   "cell_type": "code",
   "execution_count": 18,
   "id": "29f8ff90",
   "metadata": {
    "execution": {
     "iopub.execute_input": "2022-12-05T19:41:20.988284Z",
     "iopub.status.busy": "2022-12-05T19:41:20.987610Z",
     "iopub.status.idle": "2022-12-05T19:41:20.995748Z",
     "shell.execute_reply": "2022-12-05T19:41:20.994155Z"
    },
    "papermill": {
     "duration": 0.025166,
     "end_time": "2022-12-05T19:41:20.998042",
     "exception": false,
     "start_time": "2022-12-05T19:41:20.972876",
     "status": "completed"
    },
    "tags": []
   },
   "outputs": [
    {
     "name": "stdout",
     "output_type": "stream",
     "text": [
      "                                               Total Sold\n",
      "Product                                                  \n",
      "KitKat - Crisp Wafers                                 260\n",
      "Wonderful Pistachios - Variety                        144\n",
      "CheezIt - Original                                    138\n",
      "SunChips Multigrain - Harvest Cheddar                 131\n",
      "Robert Irvine's - Fit Crunch -  Chocolate Pea         121\n",
      "Oreo Mini                                             109\n",
      "SunChips Multigrain - Salsa                           105\n",
      "Takis - Hot Chilli Pepper & Lime                       96\n",
      "Goldfish Baked - Cheddar                               91\n",
      "Cheetos - Fleming Hot Crunchy                          83\n",
      "Funyuns - Flaming Hot                                  82\n",
      "SunChips Multigrain - Original                         72\n",
      "Cheetos Flaming Hot Limon Crunchy                      64\n",
      "Chesters Fries Flaming hot                             59\n",
      "Kinder - Bueno - Crispy Creamy Chocolate               59\n",
      "Good Health Veggie Stix - Sea Salt                     53\n",
      "Oreo Single Server 6 ct                                53\n",
      "Miss Vickie's Potato Chip - Sea Salt & Vinega          53\n",
      "Miss Vickie's Potato Chip - Jalapeno                   50\n",
      "Takis FUGEO mini                                       48\n",
      "Miss Vickie's Potato Chip - Smokehouse BBQ             47\n",
      "Lays - Classic                                         46\n",
      "Pop Corners - Sea Salt                                 44\n",
      "Pop Corners - Kettle Corn                              43\n",
      "Pop Corners - White Cheddar                            41\n",
      "Miss Vickie's Potato Chip - Sea Salt Original          40\n",
      "Nature's Bakery Fig Bar - Blueberry                    39\n",
      "Miss Vickie's Potato Chip - Lime & Cracked Pe          38\n",
      "Fritos - Original                                      37\n",
      "CheezIt - Double Cheese                                37\n",
      "Keto Bar - Creamy Peanut Butter Chocolate              35\n",
      "Seapoint Farms Dry Roasted Edamame - Wasabi            34\n",
      "RXBAR - Protein Bar - Peanut Butter                    34\n",
      "Jacks Links Bar Beef Strip                             33\n",
      "Belvita Snack Packs - Blueberry                        32\n",
      "CheezIt - White Cheddar                                32\n",
      "Nutri Grain Apple Cinnamon                             32\n",
      "Newtons Fig Bar                                        32\n",
      "Nature's Bakery Fig Bar - Raspberry                    31\n",
      "Pop Corners - Spicy Queso                              30\n",
      "Lenny & Larrys - Chocolate Chip                        29\n",
      "CheezIt - Cheddar Sour Cream and Onion                 29\n",
      "Doritos Nacho Cheese                                   28\n",
      "Doritos Famin Hot Nacho                                28\n",
      "Genius Keto Bar - Chocolate Dream                      28\n",
      "Cheetos Puffs                                          28\n",
      "Lenny & Larrys - SnickerDoodle                         26\n",
      "Good Health Veggie Stix - Zesty Ranch                  26\n"
     ]
    }
   ],
   "source": [
    "food_greater_than_25 = food_count_overview[food_count_overview['Total Sold'] > 25]\n",
    "print(food_greater_than_25)"
   ]
  },
  {
   "cell_type": "markdown",
   "id": "72c7c941",
   "metadata": {
    "papermill": {
     "duration": 0.013101,
     "end_time": "2022-12-05T19:41:21.024272",
     "exception": false,
     "start_time": "2022-12-05T19:41:21.011171",
     "status": "completed"
    },
    "tags": []
   },
   "source": [
    "##### **Bottom Food Products** | Less than 25 units sold to date\n",
    "These food products are not very popular and should be reconsidered. The products with only single digit sales should be removed, and products with double digit sales can be rotated in at specific locations upon request or if supply is short for other products."
   ]
  },
  {
   "cell_type": "code",
   "execution_count": 19,
   "id": "d459e13d",
   "metadata": {
    "execution": {
     "iopub.execute_input": "2022-12-05T19:41:21.052564Z",
     "iopub.status.busy": "2022-12-05T19:41:21.052164Z",
     "iopub.status.idle": "2022-12-05T19:41:21.060601Z",
     "shell.execute_reply": "2022-12-05T19:41:21.059572Z"
    },
    "papermill": {
     "duration": 0.025101,
     "end_time": "2022-12-05T19:41:21.062811",
     "exception": false,
     "start_time": "2022-12-05T19:41:21.037710",
     "status": "completed"
    },
    "tags": []
   },
   "outputs": [
    {
     "name": "stdout",
     "output_type": "stream",
     "text": [
      "                                               Total Sold\n",
      "Product                                                  \n",
      "Ritz Bits Cheese                                       23\n",
      "Mini Chips Ahoy                                        23\n",
      "Cheetos - Crunchy                                      23\n",
      "Popchips Potato - Sea Salt                             22\n",
      "Snyder's of Hanover Pretzel Pieces - Honey Mu          20\n",
      "...                                                   ...\n",
      "Nature's Garden Trail Mix - Heart Healthy Mix           1\n",
      "Nature's Garden Trail Mix - Omega 3                     1\n",
      "Nature's Valley Chewy Granola Bar - Fruit & N           1\n",
      "Nature's Valley Crunchy Granola Bar - Oats &            1\n",
      "Larabar - Peanut Butter chocolate Chip                  1\n",
      "\n",
      "[62 rows x 1 columns]\n"
     ]
    }
   ],
   "source": [
    "food_less_than_25 = food_count_overview[food_count_overview['Total Sold'] < 25]\n",
    "print(food_less_than_25)"
   ]
  },
  {
   "cell_type": "markdown",
   "id": "c1091fab",
   "metadata": {
    "papermill": {
     "duration": 0.01349,
     "end_time": "2022-12-05T19:41:21.089402",
     "exception": false,
     "start_time": "2022-12-05T19:41:21.075912",
     "status": "completed"
    },
    "tags": []
   },
   "source": [
    "#### **Location Analysis**\n",
    "> Location matters...but the products demanded changes by location"
   ]
  },
  {
   "cell_type": "code",
   "execution_count": 20,
   "id": "513d154b",
   "metadata": {
    "execution": {
     "iopub.execute_input": "2022-12-05T19:41:21.118006Z",
     "iopub.status.busy": "2022-12-05T19:41:21.117588Z",
     "iopub.status.idle": "2022-12-05T19:41:21.534772Z",
     "shell.execute_reply": "2022-12-05T19:41:21.533975Z"
    },
    "papermill": {
     "duration": 0.434147,
     "end_time": "2022-12-05T19:41:21.536928",
     "exception": false,
     "start_time": "2022-12-05T19:41:21.102781",
     "status": "completed"
    },
    "tags": []
   },
   "outputs": [
    {
     "name": "stdout",
     "output_type": "stream",
     "text": [
      "                                  Total Revenue\n",
      "Location          Category                     \n",
      "GuttenPlans       Carbonated            2241.00\n",
      "EB Public Library Food                  1997.75\n",
      "GuttenPlans       Food                  1972.25\n",
      "Earle Asphalt     Food                  1005.00\n",
      "Brunswick Sq Mall Food                   860.25\n",
      "EB Public Library Non Carbonated         746.00\n",
      "GuttenPlans       Non Carbonated         565.00\n",
      "Brunswick Sq Mall Water                  533.50\n",
      "EB Public Library Carbonated             524.00\n",
      "Brunswick Sq Mall Carbonated             521.00\n",
      "                  Non Carbonated         436.25\n",
      "EB Public Library Water                  326.75\n",
      "Earle Asphalt     Carbonated              85.50\n",
      "                  Non Carbonated          64.00\n",
      "                  Water                   33.00\n"
     ]
    },
    {
     "data": {
      "text/plain": [
       "<AxesSubplot:xlabel='Location', ylabel='RPrice'>"
      ]
     },
     "execution_count": 20,
     "metadata": {},
     "output_type": "execute_result"
    },
    {
     "data": {
      "image/png": "[encoded data removed]",
      "text/plain": [
       "<Figure size 432x288 with 1 Axes>"
      ]
     },
     "metadata": {},
     "output_type": "display_data"
    }
   ],
   "source": [
    "# revenue overview for all locations\n",
    "# wine_df.groupby(['quality', 'color'], as_index=False)['pH'].mean() \n",
    "#(im learning python still so this above code ex. helped me...credit to Yaron Shamash for explaining pandas!)\n",
    "\n",
    "location_overview = df.groupby(['Location', 'Category']).sum()[['RPrice']]\n",
    "location_overview['Total Revenue'] = location_overview['RPrice']\n",
    "location_overview = location_overview.drop(['RPrice'], axis=1)\n",
    "location_overview = location_overview.sort_values(by = 'Total Revenue', ascending=False)\n",
    "print(location_overview)\n",
    "\n",
    "# shows avg revenue but I want total revenue \n",
    "# issue with groups \n",
    "sns.barplot(x = 'Location', y = 'RPrice', data = df)"
   ]
  },
  {
   "cell_type": "markdown",
   "id": "59945d98",
   "metadata": {
    "papermill": {
     "duration": 0.01367,
     "end_time": "2022-12-05T19:41:21.564997",
     "exception": false,
     "start_time": "2022-12-05T19:41:21.551327",
     "status": "completed"
    },
    "tags": []
   },
   "source": [
    "##### **Brunswick Sq Mall** | 2 Vending Machines\n",
    "Brunswick Sq Mall - Mall with average foot traffic 7 days a week. Vending machine(s): \n",
    "> - BSQ Mall x1364\n",
    "> - Zales & BSQ Mall x1366 - ATT"
   ]
  },
  {
   "cell_type": "code",
   "execution_count": 21,
   "id": "0a1dc2e3",
   "metadata": {
    "execution": {
     "iopub.execute_input": "2022-12-05T19:41:21.594759Z",
     "iopub.status.busy": "2022-12-05T19:41:21.593760Z",
     "iopub.status.idle": "2022-12-05T19:41:21.623263Z",
     "shell.execute_reply": "2022-12-05T19:41:21.621933Z"
    },
    "papermill": {
     "duration": 0.047415,
     "end_time": "2022-12-05T19:41:21.626154",
     "exception": false,
     "start_time": "2022-12-05T19:41:21.578739",
     "status": "completed"
    },
    "tags": []
   },
   "outputs": [
    {
     "name": "stdout",
     "output_type": "stream",
     "text": [
      "                Total Revenue\n",
      "Category                     \n",
      "Food                   860.25\n",
      "Water                  533.50\n",
      "Carbonated             521.00\n",
      "Non Carbonated         436.25\n",
      "                Percent of Sales\n",
      "Category                        \n",
      "Food                       43.88\n",
      "Water                      23.33\n",
      "Carbonated                 18.03\n",
      "Non Carbonated             14.76\n"
     ]
    }
   ],
   "source": [
    "# filter for Brunswick Sq Mall and get total revenue\n",
    "mall = df.loc[df['Location'] == 'Brunswick Sq Mall']\n",
    "mall_overview = mall.groupby(\"Category\").sum()[['RPrice']]\n",
    "mall_overview['Total Revenue'] = mall_overview['RPrice']\n",
    "mall_overview = mall_overview.drop(['RPrice'], axis=1)\n",
    "mall_overview = mall_overview.sort_values(by = 'Total Revenue', ascending=False)\n",
    "print(mall_overview)\n",
    "\n",
    "# get counts for each category (then calculate percent of total)\n",
    "mall_count_overview = mall.groupby('Category').count()[['RPrice']]\n",
    "mall_count_overview['Percent of Sales'] = round(mall_count_overview['RPrice'] / 1226 * 100,2)\n",
    "mall_count_overview = mall_count_overview.drop(['RPrice'], axis=1)\n",
    "mall_count_overview = mall_count_overview.sort_values(by = 'Percent of Sales', ascending=False)\n",
    "\n",
    "print(mall_count_overview)"
   ]
  },
  {
   "cell_type": "markdown",
   "id": "d373af1d",
   "metadata": {
    "papermill": {
     "duration": 0.022137,
     "end_time": "2022-12-05T19:41:21.666801",
     "exception": false,
     "start_time": "2022-12-05T19:41:21.644664",
     "status": "completed"
    },
    "tags": []
   },
   "source": [
    "#### **Optimizing Brunswick Sq Mall**\n",
    "The mall location makes up over half it's sales in **food** and **water**, so the stock of the vending machine should represent this. \n",
    "> - More food and water options, with the carbonated and non-carbonated options only being the most popular overall\n",
    "\n",
    "Brunswick Mall has 2 vending machines, but does it **really need both**? \n",
    "\n",
    "First, I want to see if there is any difference in the product categories, as sometimes vending machines may have only drinks, only snacks or both..."
   ]
  },
  {
   "cell_type": "code",
   "execution_count": 22,
   "id": "6c4380dd",
   "metadata": {
    "execution": {
     "iopub.execute_input": "2022-12-05T19:41:21.698784Z",
     "iopub.status.busy": "2022-12-05T19:41:21.697964Z",
     "iopub.status.idle": "2022-12-05T19:41:21.721468Z",
     "shell.execute_reply": "2022-12-05T19:41:21.720161Z"
    },
    "papermill": {
     "duration": 0.042593,
     "end_time": "2022-12-05T19:41:21.723904",
     "exception": false,
     "start_time": "2022-12-05T19:41:21.681311",
     "status": "completed"
    },
    "tags": []
   },
   "outputs": [
    {
     "name": "stdout",
     "output_type": "stream",
     "text": [
      "                Total Revenue\n",
      "Category                     \n",
      "Food                   345.25\n",
      "Carbonated             284.75\n",
      "Water                  228.25\n",
      "Non Carbonated         200.50\n",
      "                Total Revenue\n",
      "Category                     \n",
      "Food                   515.00\n",
      "Water                  305.25\n",
      "Carbonated             236.25\n",
      "Non Carbonated         235.75\n"
     ]
    }
   ],
   "source": [
    "# create data frame for mall machine 'ATT'\n",
    "mall_att = mall.loc[mall['Machine'] == 'BSQ Mall x1366 - ATT']\n",
    "mall_att = mall_att.groupby(\"Category\").sum()[['RPrice']]\n",
    "mall_att['Total Revenue'] = mall_att['RPrice']\n",
    "mall_att = mall_att.drop(['RPrice'], axis=1)\n",
    "mall_att = mall_att.sort_values(by = 'Total Revenue', ascending=False)\n",
    "print(mall_att)\n",
    "\n",
    "# create data frame for mall machine 'Zales'\n",
    "mall_zales = mall.loc[mall['Machine'] == 'BSQ Mall x1364 - Zales']\n",
    "mall_zales = mall_zales.groupby(\"Category\").sum()[['RPrice']]\n",
    "mall_zales['Total Revenue'] = mall_zales['RPrice']\n",
    "mall_zales = mall_zales.drop(['RPrice'], axis=1)\n",
    "mall_zales = mall_zales.sort_values(by = 'Total Revenue', ascending=False)\n",
    "print(mall_zales)"
   ]
  },
  {
   "cell_type": "markdown",
   "id": "ef3d727f",
   "metadata": {
    "papermill": {
     "duration": 0.014527,
     "end_time": "2022-12-05T19:41:21.753814",
     "exception": false,
     "start_time": "2022-12-05T19:41:21.739287",
     "status": "completed"
    },
    "tags": []
   },
   "source": [
    "Both vending machines have all 4 categories, and low revenue, *but which one should they keep?*"
   ]
  },
  {
   "cell_type": "markdown",
   "id": "f3f1380f",
   "metadata": {
    "papermill": {
     "duration": 0.014227,
     "end_time": "2022-12-05T19:41:21.783144",
     "exception": false,
     "start_time": "2022-12-05T19:41:21.768917",
     "status": "completed"
    },
    "tags": []
   },
   "source": [
    "### Hypothesis #4\n",
    "The average product revenue for the mall 'ATT' machine is **equal to** the average product revenue for the mall 'Zales' machine.\n",
    "\n",
    "The machine with the highest average revenue per product will be the one the mall keeps..."
   ]
  },
  {
   "cell_type": "code",
   "execution_count": 23,
   "id": "984e5520",
   "metadata": {
    "execution": {
     "iopub.execute_input": "2022-12-05T19:41:21.814662Z",
     "iopub.status.busy": "2022-12-05T19:41:21.813596Z",
     "iopub.status.idle": "2022-12-05T19:41:22.089996Z",
     "shell.execute_reply": "2022-12-05T19:41:22.088902Z"
    },
    "papermill": {
     "duration": 0.2944,
     "end_time": "2022-12-05T19:41:22.092219",
     "exception": false,
     "start_time": "2022-12-05T19:41:21.797819",
     "status": "completed"
    },
    "tags": []
   },
   "outputs": [
    {
     "name": "stdout",
     "output_type": "stream",
     "text": [
      "7.880272278936319 7.172869260118651e-15\n",
      "AxesSubplot(0.125,0.125;0.775x0.755)\n"
     ]
    },
    {
     "data": {
      "image/png": "[encoded data removed]",
      "text/plain": [
       "<Figure size 432x288 with 1 Axes>"
      ]
     },
     "metadata": {},
     "output_type": "display_data"
    }
   ],
   "source": [
    "# create data frames for carbonated and water categories\n",
    "df_mall_a = df.loc[df['Machine'] == 'BSQ Mall x1366 - ATT']\n",
    "df_mall_z = df.loc[df['Machine'] == 'BSQ Mall x1364 - Zales']\n",
    "\n",
    "# conduct t-test to test for signif\n",
    "tc4, pc4 = ttest_ind(df_mall_a['RPrice'], df_mall_z['RPrice'])\n",
    "print(tc4, pc4)\n",
    "\n",
    "# context \n",
    "from numpy import mean\n",
    "t_4 = df[df['Machine'].isin(['BSQ Mall x1366 - ATT', 'BSQ Mall x1364 - Zales'])]\n",
    "h_4 = sns.barplot(x = 'Machine', y = 'RPrice', data = t_4, estimator = mean)\n",
    "print(h_4)"
   ]
  },
  {
   "cell_type": "markdown",
   "id": "502d93de",
   "metadata": {
    "papermill": {
     "duration": 0.014142,
     "end_time": "2022-12-05T19:41:22.120962",
     "exception": false,
     "start_time": "2022-12-05T19:41:22.106820",
     "status": "completed"
    },
    "tags": []
   },
   "source": [
    "### Hypothesis #4 Summary\n",
    "- The above bar chart shows the average revenue per product for each vending machines at the mall location\n",
    "- **Hypothesis #4 is rejected** as the average revenue per product is **not the same** for each machine, there is a real difference.\n",
    " - It is a significant difference at a 95% confidence level | p < .01 \n",
    "\n",
    "<br>\n",
    "The mall should keep the 'ATT' machine and the 'Zales' machine can be removed and put at another location. "
   ]
  },
  {
   "cell_type": "markdown",
   "id": "013c0c31",
   "metadata": {
    "papermill": {
     "duration": 0.014145,
     "end_time": "2022-12-05T19:41:22.150410",
     "exception": false,
     "start_time": "2022-12-05T19:41:22.136265",
     "status": "completed"
    },
    "tags": []
   },
   "source": [
    "##### **Earle Asphalt** | 1 Vending Machine\n",
    "Earle Asphalt - A construction engineering firm that operates 5 days a week. Vending machine:\n",
    "> - Earle Asphalt x1371"
   ]
  },
  {
   "cell_type": "code",
   "execution_count": 24,
   "id": "a6bf1b04",
   "metadata": {
    "execution": {
     "iopub.execute_input": "2022-12-05T19:41:22.181533Z",
     "iopub.status.busy": "2022-12-05T19:41:22.180708Z",
     "iopub.status.idle": "2022-12-05T19:41:22.202219Z",
     "shell.execute_reply": "2022-12-05T19:41:22.201286Z"
    },
    "papermill": {
     "duration": 0.039433,
     "end_time": "2022-12-05T19:41:22.204408",
     "exception": false,
     "start_time": "2022-12-05T19:41:22.164975",
     "status": "completed"
    },
    "tags": []
   },
   "outputs": [
    {
     "name": "stdout",
     "output_type": "stream",
     "text": [
      "                Total Revenue\n",
      "Category                     \n",
      "Food                   1005.0\n",
      "Carbonated               85.5\n",
      "Non Carbonated           64.0\n",
      "Water                    33.0\n",
      "                Percent of Sales\n",
      "Category                        \n",
      "Food                       87.43\n",
      "Carbonated                  6.36\n",
      "Non Carbonated              4.14\n",
      "Water                       2.07\n"
     ]
    }
   ],
   "source": [
    "# filter for Earle Asphalt and get total revenue\n",
    "ea = df.loc[df['Location'] == 'Earle Asphalt']\n",
    "ea_overview = ea.groupby(\"Category\").sum()[['RPrice']]\n",
    "ea_overview['Total Revenue'] = ea_overview['RPrice']\n",
    "ea_overview = ea_overview.drop(['RPrice'], axis=1)\n",
    "ea_overview = ea_overview.sort_values(by = 'Total Revenue', ascending=False)\n",
    "print(ea_overview)\n",
    "\n",
    "# get counts for each category (then calculate percent of total)\n",
    "ea_count_overview = ea.groupby('Category').count()[['RPrice']]\n",
    "ea_count_overview['Percent of Sales'] = round(ea_count_overview['RPrice'] / 676 * 100,2)\n",
    "ea_count_overview = ea_count_overview.drop(['RPrice'], axis=1)\n",
    "ea_count_overview = ea_count_overview.sort_values(by = 'Percent of Sales', ascending=False)\n",
    "\n",
    "print(ea_count_overview)"
   ]
  },
  {
   "cell_type": "markdown",
   "id": "6eb42c3d",
   "metadata": {
    "papermill": {
     "duration": 0.013914,
     "end_time": "2022-12-05T19:41:22.233010",
     "exception": false,
     "start_time": "2022-12-05T19:41:22.219096",
     "status": "completed"
    },
    "tags": []
   },
   "source": [
    "#### **Optimizing Earle Asphalt**\n",
    "The Earle Asphalt location makes up the majority of its sales in **food**, with over 87% of sales being food products. Thus, the stock of the vending machine should represent this. \n",
    "> - Majority of options should be food, with the water, carbonated and non-carbonated options only being the most popular for this location"
   ]
  },
  {
   "cell_type": "markdown",
   "id": "a6bfeb10",
   "metadata": {
    "papermill": {
     "duration": 0.014066,
     "end_time": "2022-12-05T19:41:22.261540",
     "exception": false,
     "start_time": "2022-12-05T19:41:22.247474",
     "status": "completed"
    },
    "tags": []
   },
   "source": [
    "##### **Gutten Plans** | 1 Vending Machine\n",
    "Gutten Plans - Frozen dough specialist company that operates 24/5. Vending machine:\n",
    "> - GuttenPlans x1367"
   ]
  },
  {
   "cell_type": "code",
   "execution_count": 25,
   "id": "818dbbc9",
   "metadata": {
    "execution": {
     "iopub.execute_input": "2022-12-05T19:41:22.292469Z",
     "iopub.status.busy": "2022-12-05T19:41:22.291479Z",
     "iopub.status.idle": "2022-12-05T19:41:22.315549Z",
     "shell.execute_reply": "2022-12-05T19:41:22.314127Z"
    },
    "papermill": {
     "duration": 0.042238,
     "end_time": "2022-12-05T19:41:22.318016",
     "exception": false,
     "start_time": "2022-12-05T19:41:22.275778",
     "status": "completed"
    },
    "tags": []
   },
   "outputs": [
    {
     "name": "stdout",
     "output_type": "stream",
     "text": [
      "                Total Revenue\n",
      "Category                     \n",
      "Carbonated            2241.00\n",
      "Food                  1972.25\n",
      "Non Carbonated         565.00\n",
      "                Percent of Sales\n",
      "Category                        \n",
      "Food                       47.62\n",
      "Carbonated                 43.42\n",
      "Non Carbonated              8.95\n"
     ]
    }
   ],
   "source": [
    "# filter for GuttenPlans and get total revenue\n",
    "gp = df.loc[df['Location'] == 'GuttenPlans']\n",
    "gp_overview = gp.groupby(\"Category\").sum()[['RPrice']]\n",
    "gp_overview['Total Revenue'] = gp_overview['RPrice']\n",
    "gp_overview = gp_overview.drop(['RPrice'], axis=1)\n",
    "gp_overview = gp_overview.sort_values(by = 'Total Revenue', ascending=False)\n",
    "print(gp_overview)\n",
    "\n",
    "# get counts for each category (then calculate percent of total)\n",
    "gp_count_overview = gp.groupby('Category').count()[['RPrice']]\n",
    "gp_count_overview['Percent of Sales'] = round(gp_count_overview['RPrice'] / 2524 * 100,2)\n",
    "gp_count_overview = gp_count_overview.drop(['RPrice'], axis=1)\n",
    "gp_count_overview = gp_count_overview.sort_values(by = 'Percent of Sales', ascending=False)\n",
    "\n",
    "print(gp_count_overview)"
   ]
  },
  {
   "cell_type": "markdown",
   "id": "bc728af5",
   "metadata": {
    "papermill": {
     "duration": 0.014306,
     "end_time": "2022-12-05T19:41:22.347119",
     "exception": false,
     "start_time": "2022-12-05T19:41:22.332813",
     "status": "completed"
    },
    "tags": []
   },
   "source": [
    "#### **Optimizing Gutten Plans**\n",
    "The Gutten Plans location makes up over 90% of its sales in **food** and **carbonated** products. Thus the stock of the vending machine should represent this. \n",
    "> - Majority of options should be food and carbonated drinks, with non-carbonated options only being the most popular for this location\n",
    "> - This location also does not sell any water products, so testing with the most popular water products can be done to see if they would be successful"
   ]
  },
  {
   "cell_type": "markdown",
   "id": "9b6df039",
   "metadata": {
    "papermill": {
     "duration": 0.014537,
     "end_time": "2022-12-05T19:41:22.376537",
     "exception": false,
     "start_time": "2022-12-05T19:41:22.362000",
     "status": "completed"
    },
    "tags": []
   },
   "source": [
    "##### **EB Public Library** | 1 Vending Machine\n",
    "Public library that has high foot traffic 5-6 days a week. Vending machine:\n",
    "> - EB Public Library x1380"
   ]
  },
  {
   "cell_type": "code",
   "execution_count": 26,
   "id": "d7d16bbf",
   "metadata": {
    "execution": {
     "iopub.execute_input": "2022-12-05T19:41:22.408311Z",
     "iopub.status.busy": "2022-12-05T19:41:22.407424Z",
     "iopub.status.idle": "2022-12-05T19:41:22.431849Z",
     "shell.execute_reply": "2022-12-05T19:41:22.430478Z"
    },
    "papermill": {
     "duration": 0.043329,
     "end_time": "2022-12-05T19:41:22.434871",
     "exception": false,
     "start_time": "2022-12-05T19:41:22.391542",
     "status": "completed"
    },
    "tags": []
   },
   "outputs": [
    {
     "name": "stdout",
     "output_type": "stream",
     "text": [
      "                Total Revenue\n",
      "Category                     \n",
      "Food                  1997.75\n",
      "Non Carbonated         746.00\n",
      "Carbonated             524.00\n",
      "Water                  326.75\n",
      "                Percent of Sales\n",
      "Category                        \n",
      "Food                       59.81\n",
      "Carbonated                 15.21\n",
      "Non Carbonated             14.99\n",
      "Water                       9.98\n"
     ]
    }
   ],
   "source": [
    "# filter for EB Public Library and get total revenue\n",
    "eb = df.loc[df['Location'] == 'EB Public Library']\n",
    "eb_overview = eb.groupby('Category').sum()[['RPrice']]\n",
    "eb_overview['Total Revenue'] = eb_overview['RPrice']\n",
    "eb_overview = eb_overview.drop(['RPrice'], axis=1)\n",
    "eb_overview = eb_overview.sort_values(by = 'Total Revenue', ascending=False)\n",
    "print(eb_overview)\n",
    "\n",
    "# get counts for each category (then calculate percent of total)\n",
    "eb_count_overview = eb.groupby('Category').count()[['RPrice']]\n",
    "eb_count_overview['Percent of Sales'] = round(eb_count_overview['RPrice'] / 1834 * 100,2)\n",
    "eb_count_overview = eb_count_overview.drop(['RPrice'], axis=1)\n",
    "eb_count_overview = eb_count_overview.sort_values(by = 'Percent of Sales', ascending=False)\n",
    "\n",
    "print(eb_count_overview)"
   ]
  },
  {
   "cell_type": "markdown",
   "id": "5ee72d3e",
   "metadata": {
    "papermill": {
     "duration": 0.014977,
     "end_time": "2022-12-05T19:41:22.465838",
     "exception": false,
     "start_time": "2022-12-05T19:41:22.450861",
     "status": "completed"
    },
    "tags": []
   },
   "source": [
    "#### **Optimizing EB Public Library**\n",
    "The EB Public Library location makes up close to 60% of it's sales in **food** products. Thus the stock of the vending machine should represent this. \n",
    "> - Majority of options should be food, with a selection of popular carbonated drinks and non-carbonated product options. As for water products only the most popular should be stocked for this location."
   ]
  },
  {
   "cell_type": "markdown",
   "id": "9839ae81",
   "metadata": {
    "papermill": {
     "duration": 0.014447,
     "end_time": "2022-12-05T19:41:22.495279",
     "exception": false,
     "start_time": "2022-12-05T19:41:22.480832",
     "status": "completed"
    },
    "tags": []
   },
   "source": [
    "## **Recommendations**\n",
    "### Overall\n",
    "> **Space is limited** | Optimize the space used and customize the selection based on location\n",
    "> - Condense product selection to meet consumer preferences to **increase revenue**\n",
    "> - Balance selection and variety to **lower costs** for buying in bulk *(economy of scale)*\n",
    "> - Locations where people work or spend lots of time tend to have more purchases\n",
    "\n",
    "### Location Specific\n",
    "> **Brunswick Sq Mall**\n",
    "> - Keep only the 'ATT' vending machine\n",
    "> - Allocate the majority of space for food and water options, with the carbonated and non-carbonated options only being for the most popular overall products\n",
    ">\n",
    "> **Earle Asphalt**\n",
    "> - Majority of options should be food products\n",
    "> - Water, carbonated and non-carbonated options only being the most popular for this location\n",
    ">\n",
    "> **Gutten Plans**\n",
    "> - Majority of options should be food and carbonated drink products\n",
    ">  - Non-carbonated options should only be the most popular for this location\n",
    "> - Test with the most popular water products to see if this option is in demand\n",
    ">\n",
    "> **EB Public Library**\n",
    "> - Majority of vending products should be food\n",
    "> - Stock popular carbonated drinks and non-carbonated product options\n",
    "> - Only the most popular water products should be stocked at this location"
   ]
  }
 ],
 "metadata": {
  "kernelspec": {
   "display_name": "Python 3",
   "language": "python",
   "name": "python3"
  },
  "language_info": {
   "codemirror_mode": {
    "name": "ipython",
    "version": 3
   },
   "file_extension": ".py",
   "mimetype": "text/x-python",
   "name": "python",
   "nbconvert_exporter": "python",
   "pygments_lexer": "ipython3",
   "version": "3.7.12"
  },
  "papermill": {
   "default_parameters": {},
   "duration": 12.886018,
   "end_time": "2022-12-05T19:41:23.231155",
   "environment_variables": {},
   "exception": null,
   "input_path": "__notebook__.ipynb",
   "output_path": "__notebook__.ipynb",
   "parameters": {},
   "start_time": "2022-12-05T19:41:10.345137",
   "version": "2.3.4"
  }
 },
 "nbformat": 4,
 "nbformat_minor": 5
}
