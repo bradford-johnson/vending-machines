{
 "cells": [
  {
   "cell_type": "markdown",
   "id": "7076f709",
   "metadata": {
    "papermill": {
     "duration": 0.014256,
     "end_time": "2022-12-05T19:20:44.689311",
     "exception": false,
     "start_time": "2022-12-05T19:20:44.675055",
     "status": "completed"
    },
    "tags": []
   },
   "source": [
    "### Thinkful Capstone 3 | **Vending Machine Analysis**\n",
    "#### *Author: Bradford (Ford) Johnson*\n",
    "##### **A special thank you to user [Aniruddh Singh](https://www.kaggle.com/awesomeasingh) for the dataset!! :)** \n",
    "<br>\n",
    "\n",
    "*My background is in sociology; thus, it is my motivation to learn about the world around me...*\n",
    "\n",
    "<br>\n",
    "\n",
    "> \"*C W Mills in the Sociological Imagination says sociology lies at the intersection of history and biography. People and the Past. What a great location. **Mills says to think sociologically is about making the familiar strange.** This requires thinking critically about the social world. Adopting a different way of seeing. Challenging conventional wisdom.*\"\n",
    ">\n",
    ">\\- Sue Watling, PhD\n",
    "\n",
    "<br>\n",
    "Vending machines are all around us in our daily lives and they provide a convenient way to get a snack or beverage. However vending machines are not just filled without a specific logic or reason. The reason I wanted to look at vending machine data was to make something that seems so familiar such as vending machines...strange. Doing so to understand this from a both a customer's and stakeholder's persepective, with a data-driven approach.\n",
    "<br>\n",
    "<br>\n",
    "<a href=\"https://www.kaggle.com/datasets/awesomeasingh/vending-machine-sales\">Click here</a> to view the dataset on Kaggle.\n",
    "<br>\n",
    "<br>\n",
    "\n",
    "### **Data Overview**\n",
    "> **Data Date Range:** `1/1/2022 - 8/31/2022`\n",
    ">\n",
    "> **Number of Vending Machines:** `5`\n",
    ">\n",
    "> **Number of Locations:** `4`\n",
    ">\n",
    "> **Number of product categories:** `4`\n",
    ">\n",
    "> **Number of products:** `162`\n",
    ">\n",
    "> **Number of transactions:** `6445`"
   ]
  },
  {
   "cell_type": "markdown",
   "id": "2d475657",
   "metadata": {
    "papermill": {
     "duration": 0.015196,
     "end_time": "2022-12-05T19:20:44.717242",
     "exception": false,
     "start_time": "2022-12-05T19:20:44.702046",
     "status": "completed"
    },
    "tags": []
   },
   "source": [
    "### Import Python Libraries and load data"
   ]
  },
  {
   "cell_type": "code",
   "execution_count": 1,
   "id": "a7cf804f",
   "metadata": {
    "execution": {
     "iopub.execute_input": "2022-12-05T19:20:44.745321Z",
     "iopub.status.busy": "2022-12-05T19:20:44.744825Z",
     "iopub.status.idle": "2022-12-05T19:20:46.126279Z",
     "shell.execute_reply": "2022-12-05T19:20:46.124650Z"
    },
    "papermill": {
     "duration": 1.399216,
     "end_time": "2022-12-05T19:20:46.129490",
     "exception": false,
     "start_time": "2022-12-05T19:20:44.730274",
     "status": "completed"
    },
    "tags": []
   },
   "outputs": [],
   "source": [
    "# import libraries\n",
    "import pandas as pd\n",
    "import numpy as np\n",
    "from scipy import stats\n",
    "from scipy.stats import ttest_ind\n",
    "import seaborn as sns \n",
    "sns.set()\n",
    "import matplotlib.pyplot as plt\n",
    "# from google.colab import drive\n",
    "# drive.mount('/content/gdrive')\n",
    "\n",
    "# read csv\n",
    "# df = pd.read_csv(\"/content/gdrive/MyDrive/colab-datasets/vending_machine_sales.csv\")\n",
    "df = pd.read_csv(\"/kaggle/input/vending-machine-sales/vending_machine_sales.csv\")"
   ]
  },
  {
   "cell_type": "markdown",
   "id": "8956bf98",
   "metadata": {
    "papermill": {
     "duration": 0.011797,
     "end_time": "2022-12-05T19:20:46.153638",
     "exception": false,
     "start_time": "2022-12-05T19:20:46.141841",
     "status": "completed"
    },
    "tags": []
   },
   "source": [
    "### Global Data Cleaning"
   ]
  },
  {
   "cell_type": "code",
   "execution_count": 2,
   "id": "63e04d60",
   "metadata": {
    "execution": {
     "iopub.execute_input": "2022-12-05T19:20:46.181151Z",
     "iopub.status.busy": "2022-12-05T19:20:46.180654Z",
     "iopub.status.idle": "2022-12-05T19:20:46.200598Z",
     "shell.execute_reply": "2022-12-05T19:20:46.198992Z"
    },
    "papermill": {
     "duration": 0.037564,
     "end_time": "2022-12-05T19:20:46.203602",
     "exception": false,
     "start_time": "2022-12-05T19:20:46.166038",
     "status": "completed"
    },
    "tags": []
   },
   "outputs": [],
   "source": [
    "# data cleaning\n",
    "# df.info()\n",
    "df = df.dropna()"
   ]
  },
  {
   "cell_type": "markdown",
   "id": "3d66e26b",
   "metadata": {
    "papermill": {
     "duration": 0.011724,
     "end_time": "2022-12-05T19:20:46.227405",
     "exception": false,
     "start_time": "2022-12-05T19:20:46.215681",
     "status": "completed"
    },
    "tags": []
   },
   "source": [
    "### Data Overview"
   ]
  },
  {
   "cell_type": "code",
   "execution_count": 3,
   "id": "f2fbea49",
   "metadata": {
    "execution": {
     "iopub.execute_input": "2022-12-05T19:20:46.254157Z",
     "iopub.status.busy": "2022-12-05T19:20:46.253412Z",
     "iopub.status.idle": "2022-12-05T19:20:46.281922Z",
     "shell.execute_reply": "2022-12-05T19:20:46.280632Z"
    },
    "papermill": {
     "duration": 0.046066,
     "end_time": "2022-12-05T19:20:46.285658",
     "exception": false,
     "start_time": "2022-12-05T19:20:46.239592",
     "status": "completed"
    },
    "tags": []
   },
   "outputs": [
    {
     "name": "stdout",
     "output_type": "stream",
     "text": [
      "                Total Revenue\n",
      "Category                     \n",
      "Carbonated            3371.50\n",
      "Food                  5835.25\n",
      "Non Carbonated        1811.25\n",
      "Water                  893.25\n"
     ]
    }
   ],
   "source": [
    "total_overview = df.groupby(\"Category\").sum()[['RPrice']]\n",
    "total_overview['Total Revenue'] = total_overview['RPrice']\n",
    "total_overview = total_overview.drop(['RPrice'], axis=1)\n",
    "print(total_overview)"
   ]
  },
  {
   "cell_type": "markdown",
   "id": "770156e8",
   "metadata": {
    "papermill": {
     "duration": 0.01333,
     "end_time": "2022-12-05T19:20:46.312907",
     "exception": false,
     "start_time": "2022-12-05T19:20:46.299577",
     "status": "completed"
    },
    "tags": []
   },
   "source": [
    "## Findings"
   ]
  },
  {
   "cell_type": "markdown",
   "id": "c3a76a50",
   "metadata": {
    "papermill": {
     "duration": 0.012243,
     "end_time": "2022-12-05T19:20:46.337623",
     "exception": false,
     "start_time": "2022-12-05T19:20:46.325380",
     "status": "completed"
    },
    "tags": []
   },
   "source": [
    "### Hypothesis #1\n",
    "The average revenue per drink for carbonated drinks is **significantly higher** than non-carbonated drinks.\n",
    "> Assuming there is equal demand (purchases) among the two categories"
   ]
  },
  {
   "cell_type": "code",
   "execution_count": 4,
   "id": "652673c1",
   "metadata": {
    "execution": {
     "iopub.execute_input": "2022-12-05T19:20:46.364381Z",
     "iopub.status.busy": "2022-12-05T19:20:46.363940Z",
     "iopub.status.idle": "2022-12-05T19:20:46.721369Z",
     "shell.execute_reply": "2022-12-05T19:20:46.719900Z"
    },
    "papermill": {
     "duration": 0.374237,
     "end_time": "2022-12-05T19:20:46.724413",
     "exception": false,
     "start_time": "2022-12-05T19:20:46.350176",
     "status": "completed"
    },
    "tags": []
   },
   "outputs": [
    {
     "name": "stdout",
     "output_type": "stream",
     "text": [
      "14.522678813161257 7.95456326451125e-46\n",
      "AxesSubplot(0.125,0.125;0.775x0.755)\n"
     ]
    },
    {
     "data": {
      "image/png": "[encoded data removed]",
      "text/plain": [
       "<Figure size 432x288 with 1 Axes>"
      ]
     },
     "metadata": {},
     "output_type": "display_data"
    }
   ],
   "source": [
    "# create data frames for carbonated and non-carbonated categories\n",
    "df_carb = df.loc[df['Category'] == 'Carbonated']\n",
    "df_noncarb = df.loc[df['Category'] == 'Non Carbonated']\n",
    "\n",
    "# conduct t-test to test for signif\n",
    "tc, pc = ttest_ind(df_noncarb['RPrice'], df_carb['RPrice'])\n",
    "print(tc, pc)\n",
    "\n",
    "# context \n",
    "from numpy import mean\n",
    "t_1 = df[df['Category'].isin(['Carbonated', 'Non Carbonated'])]\n",
    "h_1 = sns.barplot(x = 'Category', y = 'RPrice', data = t_1, estimator = mean)\n",
    "print(h_1)"
   ]
  },
  {
   "cell_type": "markdown",
   "id": "a54eae7c",
   "metadata": {
    "papermill": {
     "duration": 0.012619,
     "end_time": "2022-12-05T19:20:46.750821",
     "exception": false,
     "start_time": "2022-12-05T19:20:46.738202",
     "status": "completed"
    },
    "tags": []
   },
   "source": [
    "### Hypothesis #1 Summary\n",
    "- The above bar chart shows the average revenue per product for both carbonated and non-carbonated beverages\n",
    "- However, the non-carbonated drinks cost more on average than their carbonated counterparts, so therefore I **reject hypothesis #1**\n",
    " - This is a significant difference at a 95% confidence level | p < .01 \n",
    "\n",
    "<br>\n",
    "Because non-carbonated drinks are more expensive but have less total revenue than carbonated drinks that would mean carbonated drinks are bought more often..."
   ]
  },
  {
   "cell_type": "code",
   "execution_count": 5,
   "id": "3b399b27",
   "metadata": {
    "execution": {
     "iopub.execute_input": "2022-12-05T19:20:46.779667Z",
     "iopub.status.busy": "2022-12-05T19:20:46.779192Z",
     "iopub.status.idle": "2022-12-05T19:20:46.798802Z",
     "shell.execute_reply": "2022-12-05T19:20:46.797364Z"
    },
    "papermill": {
     "duration": 0.038065,
     "end_time": "2022-12-05T19:20:46.802531",
     "exception": false,
     "start_time": "2022-12-05T19:20:46.764466",
     "status": "completed"
    },
    "tags": []
   },
   "outputs": [
    {
     "name": "stdout",
     "output_type": "stream",
     "text": [
      "                Total Sold\n",
      "Category                  \n",
      "Carbonated            1639\n",
      "Non Carbonated         710\n"
     ]
    }
   ],
   "source": [
    "# get counts for carbonated and non-carbonated drinks\n",
    "count_overview = t_1.groupby(\"Category\").count()[['RPrice']]\n",
    "count_overview['Total Sold'] = count_overview['RPrice']\n",
    "count_overview = count_overview.drop(['RPrice'], axis=1)\n",
    "print(count_overview)"
   ]
  },
  {
   "cell_type": "markdown",
   "id": "24750f8d",
   "metadata": {
    "papermill": {
     "duration": 0.012652,
     "end_time": "2022-12-05T19:20:46.829910",
     "exception": false,
     "start_time": "2022-12-05T19:20:46.817258",
     "status": "completed"
    },
    "tags": []
   },
   "source": [
    "#### **Carbonated Vs Non-carbonated**\n",
    "We know that non-carbonated on average makes more revenue than carbonated drinks, but carbonated drinks are sold more. With many different options, and limited space for drinks in the vending machines, we need to optimize the product selection.\n",
    "<br>\n",
    "\n",
    "*This begs the question...* \n",
    "\n",
    "**What are the most popular carbonated drinks out of the 16 options?** \n",
    "> I can easily find this out by looking at only carbonated drinks and sorting this df descending by count"
   ]
  },
  {
   "cell_type": "markdown",
   "id": "d8b0742d",
   "metadata": {
    "papermill": {
     "duration": 0.012989,
     "end_time": "2022-12-05T19:20:46.855816",
     "exception": false,
     "start_time": "2022-12-05T19:20:46.842827",
     "status": "completed"
    },
    "tags": []
   },
   "source": [
    "##### **Carbonated Drinks** | 16 Total Products\n"
   ]
  },
  {
   "cell_type": "code",
   "execution_count": 6,
   "id": "10d87b07",
   "metadata": {
    "execution": {
     "iopub.execute_input": "2022-12-05T19:20:46.884355Z",
     "iopub.status.busy": "2022-12-05T19:20:46.883834Z",
     "iopub.status.idle": "2022-12-05T19:20:46.903190Z",
     "shell.execute_reply": "2022-12-05T19:20:46.901953Z"
    },
    "papermill": {
     "duration": 0.036794,
     "end_time": "2022-12-05T19:20:46.905979",
     "exception": false,
     "start_time": "2022-12-05T19:20:46.869185",
     "status": "completed"
    },
    "tags": []
   },
   "outputs": [
    {
     "name": "stdout",
     "output_type": "stream",
     "text": [
      "                                               Total Sold\n",
      "Product                                                  \n",
      "Coca Cola - Zero Sugar                                517\n",
      "Monster Energy Original                               385\n",
      "Sunkist Soda - Orange                                 217\n",
      "Red Bull - Original                                   157\n",
      "Coca Cola - Regular                                   155\n",
      "Starbucks Refresher - Real Coconut Water               53\n",
      "Spindrift - Sparkling Water - Pineapple                51\n",
      "Keto Krisp - Almond Butter                             27\n",
      "Spindrift - Sparkling Water  Lime                      22\n",
      "Red Bull - Energy Drink - Sugar Free                   21\n",
      "Keto Krisp - Almond/Chocolate                          15\n",
      "Bubly - Cherry                                          5\n",
      "Bubly - Mango                                           5\n",
      "Monster Energy  Zero Ultra                              4\n",
      "S. Pellegrino Essenza Mineral Water - Blood O           3\n",
      "Remedy Kombucha - Ginger Lemon                          2\n"
     ]
    }
   ],
   "source": [
    "# create df filtered for only carbonated drinks\n",
    "carbonated_df = df.loc[df['Category'] == 'Carbonated']\n",
    "\n",
    "# get counts for each product \n",
    "carb_count_overview = carbonated_df.groupby('Product').count()[['RPrice']]\n",
    "carb_count_overview['Total Sold'] = carb_count_overview['RPrice']\n",
    "carb_count_overview = carb_count_overview.drop(['RPrice'], axis=1)\n",
    "carb_count_overview = carb_count_overview.sort_values(by = 'Total Sold', ascending=False)\n",
    "\n",
    "# all total options (16 total)\n",
    "print(carb_count_overview)\n",
    "\n",
    "carb_top_5 = carb_count_overview.head()\n",
    "\n",
    "carb_bottom_11 = carb_count_overview.tail(11)"
   ]
  },
  {
   "cell_type": "markdown",
   "id": "606fb951",
   "metadata": {
    "papermill": {
     "duration": 0.01224,
     "end_time": "2022-12-05T19:20:46.931359",
     "exception": false,
     "start_time": "2022-12-05T19:20:46.919119",
     "status": "completed"
    },
    "tags": []
   },
   "source": [
    "##### **Top 5 Carbonated Drinks Overall**\n",
    "\n",
    "These are the top 5 carbonated drinks and they also all have over 100 purchases, and they are the main carbonated drinks you should be stocking in these locations"
   ]
  },
  {
   "cell_type": "code",
   "execution_count": 7,
   "id": "067428b9",
   "metadata": {
    "execution": {
     "iopub.execute_input": "2022-12-05T19:20:46.959179Z",
     "iopub.status.busy": "2022-12-05T19:20:46.958398Z",
     "iopub.status.idle": "2022-12-05T19:20:46.967599Z",
     "shell.execute_reply": "2022-12-05T19:20:46.965778Z"
    },
    "papermill": {
     "duration": 0.026403,
     "end_time": "2022-12-05T19:20:46.970378",
     "exception": false,
     "start_time": "2022-12-05T19:20:46.943975",
     "status": "completed"
    },
    "tags": []
   },
   "outputs": [
    {
     "name": "stdout",
     "output_type": "stream",
     "text": [
      "                         Total Sold\n",
      "Product                            \n",
      "Coca Cola - Zero Sugar          517\n",
      "Monster Energy Original         385\n",
      "Sunkist Soda - Orange           217\n",
      "Red Bull - Original             157\n",
      "Coca Cola - Regular             155\n"
     ]
    }
   ],
   "source": [
    "print(carb_top_5)"
   ]
  },
  {
   "cell_type": "markdown",
   "id": "1a70a23e",
   "metadata": {
    "papermill": {
     "duration": 0.012286,
     "end_time": "2022-12-05T19:20:46.995465",
     "exception": false,
     "start_time": "2022-12-05T19:20:46.983179",
     "status": "completed"
    },
    "tags": []
   },
   "source": [
    "##### **Bottom 11 Carbonated Drinks Overall**\n",
    "These are the drinks that should be reconsidered, especially the ones with less than 30 sold, as they are taking up space in the machines and not frequently bought."
   ]
  },
  {
   "cell_type": "code",
   "execution_count": 8,
   "id": "6b8f9304",
   "metadata": {
    "execution": {
     "iopub.execute_input": "2022-12-05T19:20:47.023463Z",
     "iopub.status.busy": "2022-12-05T19:20:47.022804Z",
     "iopub.status.idle": "2022-12-05T19:20:47.031439Z",
     "shell.execute_reply": "2022-12-05T19:20:47.029309Z"
    },
    "papermill": {
     "duration": 0.025515,
     "end_time": "2022-12-05T19:20:47.033950",
     "exception": false,
     "start_time": "2022-12-05T19:20:47.008435",
     "status": "completed"
    },
    "tags": []
   },
   "outputs": [
    {
     "name": "stdout",
     "output_type": "stream",
     "text": [
      "                                               Total Sold\n",
      "Product                                                  \n",
      "Starbucks Refresher - Real Coconut Water               53\n",
      "Spindrift - Sparkling Water - Pineapple                51\n",
      "Keto Krisp - Almond Butter                             27\n",
      "Spindrift - Sparkling Water  Lime                      22\n",
      "Red Bull - Energy Drink - Sugar Free                   21\n",
      "Keto Krisp - Almond/Chocolate                          15\n",
      "Bubly - Cherry                                          5\n",
      "Bubly - Mango                                           5\n",
      "Monster Energy  Zero Ultra                              4\n",
      "S. Pellegrino Essenza Mineral Water - Blood O           3\n",
      "Remedy Kombucha - Ginger Lemon                          2\n"
     ]
    }
   ],
   "source": [
    "print(carb_bottom_11)"
   ]
  },
  {
   "cell_type": "markdown",
   "id": "1e4f2ae0",
   "metadata": {
    "papermill": {
     "duration": 0.012874,
     "end_time": "2022-12-05T19:20:47.060271",
     "exception": false,
     "start_time": "2022-12-05T19:20:47.047397",
     "status": "completed"
    },
    "tags": []
   },
   "source": [
    "##### **Non-carbonated Drinks** | 24 Total Products"
   ]
  },
  {
   "cell_type": "code",
   "execution_count": 9,
   "id": "81fa9535",
   "metadata": {
    "execution": {
     "iopub.execute_input": "2022-12-05T19:20:47.087806Z",
     "iopub.status.busy": "2022-12-05T19:20:47.087261Z",
     "iopub.status.idle": "2022-12-05T19:20:47.108783Z",
     "shell.execute_reply": "2022-12-05T19:20:47.107204Z"
    },
    "papermill": {
     "duration": 0.038429,
     "end_time": "2022-12-05T19:20:47.111414",
     "exception": false,
     "start_time": "2022-12-05T19:20:47.072985",
     "status": "completed"
    },
    "tags": []
   },
   "outputs": [
    {
     "name": "stdout",
     "output_type": "stream",
     "text": [
      "                                            Total Sold\n",
      "Product                                               \n",
      "Snapple Diet Tea - Peach Tea                       109\n",
      "Snapple Diet Tea - Lemon                            88\n",
      "Snapple Tea - Raspberry                             79\n",
      "Starbucks Doubleshot Energy - Mocha                 74\n",
      "Iberia Coconut Water                                72\n",
      "Snapple Tea - Lemon                                 51\n",
      "Bai Antioxidant - Tanzania Lemon Super Tea          33\n",
      "Snapple Tea - Peach                                 31\n",
      "Snapple Diet Tea - Raspberry                        28\n",
      "V8 Vegetable Juice - Original                       27\n",
      "BodyArmor  LYTE - Blueberry Pomegranate             23\n",
      "Bai Antioxidant - Molokai Coconut                   12\n",
      "Bai Antioxidant - Zambia Bingcherry                 11\n",
      "Bai Lemonade - Burundi Blueberry                    10\n",
      "Honest Tea - Berry Hibiscus                         10\n",
      "Bai Antioxidant - Kupang strawberry kiwi            10\n",
      "Snapple Lemonade - black berry                       8\n",
      "Snapple Lemonade - pineapple                         8\n",
      "Snapple Lemonade - watermelon                        8\n",
      "Zevia Zero Calorie Energy - Mango Ginger             6\n",
      "Bai Antioxidant - Kula Watermelon                    5\n",
      "Bai Antioxidant - Brasilia BB                        4\n",
      "Spindrift - Sparkling Water Raspberry Lime           2\n",
      "Zevia Organic Tea - Peach                            1\n"
     ]
    }
   ],
   "source": [
    "# create df filtered for only non-carbonated drinks\n",
    "non_carbonated_df = df.loc[df['Category'] == 'Non Carbonated']\n",
    "\n",
    "# get counts for each product \n",
    "non_carb_count_overview = non_carbonated_df.groupby('Product').count()[['RPrice']]\n",
    "non_carb_count_overview['Total Sold'] = non_carb_count_overview['RPrice']\n",
    "non_carb_count_overview = non_carb_count_overview.drop(['RPrice'], axis=1)\n",
    "non_carb_count_overview = non_carb_count_overview.sort_values(by = 'Total Sold', ascending=False)\n",
    "\n",
    "# all total options\n",
    "print(non_carb_count_overview)"
   ]
  },
  {
   "cell_type": "markdown",
   "id": "ddfd13ec",
   "metadata": {
    "papermill": {
     "duration": 0.012613,
     "end_time": "2022-12-05T19:20:47.137021",
     "exception": false,
     "start_time": "2022-12-05T19:20:47.124408",
     "status": "completed"
    },
    "tags": []
   },
   "source": [
    "##### **Top 5 Non-Carbonated Drinks Overall**\n",
    "\n",
    "These are the top 5 non-carbonated drinks and they also all have over 70 purchases, and they are the main non-carbonated drinks you should be stocking in these locations"
   ]
  },
  {
   "cell_type": "code",
   "execution_count": 10,
   "id": "75c66414",
   "metadata": {
    "execution": {
     "iopub.execute_input": "2022-12-05T19:20:47.165223Z",
     "iopub.status.busy": "2022-12-05T19:20:47.164739Z",
     "iopub.status.idle": "2022-12-05T19:20:47.175261Z",
     "shell.execute_reply": "2022-12-05T19:20:47.173184Z"
    },
    "papermill": {
     "duration": 0.02789,
     "end_time": "2022-12-05T19:20:47.177957",
     "exception": false,
     "start_time": "2022-12-05T19:20:47.150067",
     "status": "completed"
    },
    "tags": []
   },
   "outputs": [
    {
     "name": "stdout",
     "output_type": "stream",
     "text": [
      "                                     Total Sold\n",
      "Product                                        \n",
      "Snapple Diet Tea - Peach Tea                109\n",
      "Snapple Diet Tea - Lemon                     88\n",
      "Snapple Tea - Raspberry                      79\n",
      "Starbucks Doubleshot Energy - Mocha          74\n",
      "Iberia Coconut Water                         72\n"
     ]
    }
   ],
   "source": [
    "print(non_carb_count_overview.head())"
   ]
  },
  {
   "cell_type": "markdown",
   "id": "9caa53e0",
   "metadata": {
    "papermill": {
     "duration": 0.012783,
     "end_time": "2022-12-05T19:20:47.204473",
     "exception": false,
     "start_time": "2022-12-05T19:20:47.191690",
     "status": "completed"
    },
    "tags": []
   },
   "source": [
    "##### **Bottom 19 Non-Carbonated Drinks Overall**\n",
    "These non-carbonated drinks are not as popular in these locations and they need to be reconsidered, if there is space for more non-carbonated drinks then the most popular of this table should be given the most consideration. (Top 3-5)"
   ]
  },
  {
   "cell_type": "code",
   "execution_count": 11,
   "id": "3bd48d1b",
   "metadata": {
    "execution": {
     "iopub.execute_input": "2022-12-05T19:20:47.232783Z",
     "iopub.status.busy": "2022-12-05T19:20:47.232350Z",
     "iopub.status.idle": "2022-12-05T19:20:47.241589Z",
     "shell.execute_reply": "2022-12-05T19:20:47.239307Z"
    },
    "papermill": {
     "duration": 0.027067,
     "end_time": "2022-12-05T19:20:47.244562",
     "exception": false,
     "start_time": "2022-12-05T19:20:47.217495",
     "status": "completed"
    },
    "tags": []
   },
   "outputs": [
    {
     "name": "stdout",
     "output_type": "stream",
     "text": [
      "                                            Total Sold\n",
      "Product                                               \n",
      "Snapple Tea - Lemon                                 51\n",
      "Bai Antioxidant - Tanzania Lemon Super Tea          33\n",
      "Snapple Tea - Peach                                 31\n",
      "Snapple Diet Tea - Raspberry                        28\n",
      "V8 Vegetable Juice - Original                       27\n",
      "BodyArmor  LYTE - Blueberry Pomegranate             23\n",
      "Bai Antioxidant - Molokai Coconut                   12\n",
      "Bai Antioxidant - Zambia Bingcherry                 11\n",
      "Bai Lemonade - Burundi Blueberry                    10\n",
      "Honest Tea - Berry Hibiscus                         10\n",
      "Bai Antioxidant - Kupang strawberry kiwi            10\n",
      "Snapple Lemonade - black berry                       8\n",
      "Snapple Lemonade - pineapple                         8\n",
      "Snapple Lemonade - watermelon                        8\n",
      "Zevia Zero Calorie Energy - Mango Ginger             6\n",
      "Bai Antioxidant - Kula Watermelon                    5\n",
      "Bai Antioxidant - Brasilia BB                        4\n",
      "Spindrift - Sparkling Water Raspberry Lime           2\n",
      "Zevia Organic Tea - Peach                            1\n"
     ]
    }
   ],
   "source": [
    "print(non_carb_count_overview.tail(19))"
   ]
  },
  {
   "cell_type": "markdown",
   "id": "c030c401",
   "metadata": {
    "papermill": {
     "duration": 0.012948,
     "end_time": "2022-12-05T19:20:47.271194",
     "exception": false,
     "start_time": "2022-12-05T19:20:47.258246",
     "status": "completed"
    },
    "tags": []
   },
   "source": [
    "### Hypothesis #2\n",
    "The average revenue per carbonated drink is **significantly higher** than for water.\n",
    "> Assuming there is equal demand (purchases) among the two categories"
   ]
  },
  {
   "cell_type": "code",
   "execution_count": 12,
   "id": "5ea03281",
   "metadata": {
    "execution": {
     "iopub.execute_input": "2022-12-05T19:20:47.299832Z",
     "iopub.status.busy": "2022-12-05T19:20:47.299417Z",
     "iopub.status.idle": "2022-12-05T19:20:47.608206Z",
     "shell.execute_reply": "2022-12-05T19:20:47.606757Z"
    },
    "papermill": {
     "duration": 0.326802,
     "end_time": "2022-12-05T19:20:47.611418",
     "exception": false,
     "start_time": "2022-12-05T19:20:47.284616",
     "status": "completed"
    },
    "tags": []
   },
   "outputs": [
    {
     "name": "stdout",
     "output_type": "stream",
     "text": [
      "-5.038787638137021 5.081582172672138e-07\n",
      "AxesSubplot(0.125,0.125;0.775x0.755)\n"
     ]
    },
    {
     "data": {
      "image/png": "[encoded data removed]",
      "text/plain": [
       "<Figure size 432x288 with 1 Axes>"
      ]
     },
     "metadata": {},
     "output_type": "display_data"
    }
   ],
   "source": [
    "# create data frames for carbonated and water categories\n",
    "# df_carb = df.loc[df['Category'] == 'Carbonated']\n",
    "df_water = df.loc[df['Category'] == 'Water']\n",
    "\n",
    "# conduct t-test to test for signif\n",
    "tc2, pc2 = ttest_ind(df_water['RPrice'], df_carb['RPrice'])\n",
    "print(tc2, pc2)\n",
    "\n",
    "# context \n",
    "from numpy import mean\n",
    "t_2 = df[df['Category'].isin(['Carbonated', 'Water'])]\n",
    "h_2 = sns.barplot(x = 'Category', y = 'RPrice', data = t_2, estimator = mean)\n",
    "print(h_2)"
   ]
  },
  {
   "cell_type": "markdown",
   "id": "898cd297",
   "metadata": {
    "papermill": {
     "duration": 0.013603,
     "end_time": "2022-12-05T19:20:47.639338",
     "exception": false,
     "start_time": "2022-12-05T19:20:47.625735",
     "status": "completed"
    },
    "tags": []
   },
   "source": [
    "### Hypothesis #2 Summary\n",
    "- The above bar chart shows the average revenue per product for both carbonated and water beverages\n",
    "- **Hypothesis #2 is retained** as the average revenue per cabonated beverage is **higher** than that of the beverages in the water category\n",
    " - This is a significant difference at a 95% confidence level | p < .01 \n",
    "\n",
    "<br>\n",
    "From here it is time to investigate the selection of water."
   ]
  },
  {
   "cell_type": "markdown",
   "id": "a39e9be3",
   "metadata": {
    "papermill": {
     "duration": 0.014327,
     "end_time": "2022-12-05T19:20:47.667854",
     "exception": false,
     "start_time": "2022-12-05T19:20:47.653527",
     "status": "completed"
    },
    "tags": []
   },
   "source": [
    "##### **Water** | 11 Total Products"
   ]
  },
  {
   "cell_type": "code",
   "execution_count": 13,
   "id": "f64c7c23",
   "metadata": {
    "execution": {
     "iopub.execute_input": "2022-12-05T19:20:47.699524Z",
     "iopub.status.busy": "2022-12-05T19:20:47.698906Z",
     "iopub.status.idle": "2022-12-05T19:20:47.713713Z",
     "shell.execute_reply": "2022-12-05T19:20:47.712763Z"
    },
    "papermill": {
     "duration": 0.033786,
     "end_time": "2022-12-05T19:20:47.716717",
     "exception": false,
     "start_time": "2022-12-05T19:20:47.682931",
     "status": "completed"
    },
    "tags": []
   },
   "outputs": [
    {
     "name": "stdout",
     "output_type": "stream",
     "text": [
      "                                         Total Sold\n",
      "Product                                            \n",
      "Poland Springs Water                            300\n",
      "S. Pellegrino Sparkling Mineral Water            66\n",
      "BodyArmor LYTE - Strawberry Lemonade             33\n",
      "Vitamin Water - Squeezed Lemonade                25\n",
      "BodyArmor LYTE  - Peach Mango                    19\n",
      "Vitamin Water - XXX Acai BB Pomegranate          17\n",
      "Vitamin Water - Ice Cool Blue Lavender           10\n",
      "Bubly - Blackberry                                4\n",
      "Bubly - Lime                                      4\n",
      "Bubly - Grapefruit                                3\n",
      "BodyArmor LYTE  - Berry Punch                     2\n"
     ]
    }
   ],
   "source": [
    "# create df filtered for only water\n",
    "water_df = df.loc[df['Category'] == 'Water']\n",
    "\n",
    "# get counts for each product \n",
    "water_count_overview = water_df.groupby('Product').count()[['RPrice']]\n",
    "water_count_overview['Total Sold'] = water_count_overview['RPrice']\n",
    "water_count_overview = water_count_overview.drop(['RPrice'], axis=1)\n",
    "water_count_overview = water_count_overview.sort_values(by = 'Total Sold', ascending=False)\n",
    "\n",
    "# all total options\n",
    "print(water_count_overview)"
   ]
  },
  {
   "cell_type": "markdown",
   "id": "332764a3",
   "metadata": {
    "papermill": {
     "duration": 0.014844,
     "end_time": "2022-12-05T19:20:47.745577",
     "exception": false,
     "start_time": "2022-12-05T19:20:47.730733",
     "status": "completed"
    },
    "tags": []
   },
   "source": [
    "##### **Top Water Product Overall**\n",
    "\n",
    "The Poland Springs Water is by far the most popular."
   ]
  },
  {
   "cell_type": "code",
   "execution_count": 14,
   "id": "34401b2d",
   "metadata": {
    "execution": {
     "iopub.execute_input": "2022-12-05T19:20:47.777459Z",
     "iopub.status.busy": "2022-12-05T19:20:47.776983Z",
     "iopub.status.idle": "2022-12-05T19:20:47.786273Z",
     "shell.execute_reply": "2022-12-05T19:20:47.784655Z"
    },
    "papermill": {
     "duration": 0.029138,
     "end_time": "2022-12-05T19:20:47.789183",
     "exception": false,
     "start_time": "2022-12-05T19:20:47.760045",
     "status": "completed"
    },
    "tags": []
   },
   "outputs": [
    {
     "name": "stdout",
     "output_type": "stream",
     "text": [
      "                      Total Sold\n",
      "Product                         \n",
      "Poland Springs Water         300\n"
     ]
    }
   ],
   "source": [
    "print(water_count_overview.head(1))"
   ]
  },
  {
   "cell_type": "markdown",
   "id": "259b890d",
   "metadata": {
    "papermill": {
     "duration": 0.013773,
     "end_time": "2022-12-05T19:20:47.817153",
     "exception": false,
     "start_time": "2022-12-05T19:20:47.803380",
     "status": "completed"
    },
    "tags": []
   },
   "source": [
    "##### **Bottom 10 Water Products Overall**\n",
    "\n",
    "As water does not generate a large portion of revenue, and with limited space it is recomended to replace these poor performing water products and consider other non-water beverages or food that sells more frequently or generates more revenue in these locations."
   ]
  },
  {
   "cell_type": "code",
   "execution_count": 15,
   "id": "875d5c85",
   "metadata": {
    "execution": {
     "iopub.execute_input": "2022-12-05T19:20:47.848403Z",
     "iopub.status.busy": "2022-12-05T19:20:47.847282Z",
     "iopub.status.idle": "2022-12-05T19:20:47.856328Z",
     "shell.execute_reply": "2022-12-05T19:20:47.854677Z"
    },
    "papermill": {
     "duration": 0.027258,
     "end_time": "2022-12-05T19:20:47.858692",
     "exception": false,
     "start_time": "2022-12-05T19:20:47.831434",
     "status": "completed"
    },
    "tags": []
   },
   "outputs": [
    {
     "name": "stdout",
     "output_type": "stream",
     "text": [
      "                                         Total Sold\n",
      "Product                                            \n",
      "S. Pellegrino Sparkling Mineral Water            66\n",
      "BodyArmor LYTE - Strawberry Lemonade             33\n",
      "Vitamin Water - Squeezed Lemonade                25\n",
      "BodyArmor LYTE  - Peach Mango                    19\n",
      "Vitamin Water - XXX Acai BB Pomegranate          17\n",
      "Vitamin Water - Ice Cool Blue Lavender           10\n",
      "Bubly - Blackberry                                4\n",
      "Bubly - Lime                                      4\n",
      "Bubly - Grapefruit                                3\n",
      "BodyArmor LYTE  - Berry Punch                     2\n"
     ]
    }
   ],
   "source": [
    "print(water_count_overview.tail(10))"
   ]
  },
  {
   "cell_type": "markdown",
   "id": "c65ac1d6",
   "metadata": {
    "papermill": {
     "duration": 0.01382,
     "end_time": "2022-12-05T19:20:47.886589",
     "exception": false,
     "start_time": "2022-12-05T19:20:47.872769",
     "status": "completed"
    },
    "tags": []
   },
   "source": [
    "### Hypothesis #3\n",
    "The average revenue per carbonated drink is **significantly higher** than the average revenue for food products.\n",
    "> Assuming there is equal demand (purchases) among the two categories"
   ]
  },
  {
   "cell_type": "code",
   "execution_count": 16,
   "id": "68c195fb",
   "metadata": {
    "execution": {
     "iopub.execute_input": "2022-12-05T19:20:47.917404Z",
     "iopub.status.busy": "2022-12-05T19:20:47.916910Z",
     "iopub.status.idle": "2022-12-05T19:20:48.224204Z",
     "shell.execute_reply": "2022-12-05T19:20:48.223218Z"
    },
    "papermill": {
     "duration": 0.325768,
     "end_time": "2022-12-05T19:20:48.226506",
     "exception": false,
     "start_time": "2022-12-05T19:20:47.900738",
     "status": "completed"
    },
    "tags": []
   },
   "outputs": [
    {
     "name": "stdout",
     "output_type": "stream",
     "text": [
      "-19.521880709626263 6.853161341994257e-82\n",
      "AxesSubplot(0.125,0.125;0.775x0.755)\n"
     ]
    },
    {
     "data": {
      "image/png": "[encoded data removed]",
      "text/plain": [
       "<Figure size 432x288 with 1 Axes>"
      ]
     },
     "metadata": {},
     "output_type": "display_data"
    }
   ],
   "source": [
    "# create data frames for carbonated and water categories\n",
    "# df_carb = df.loc[df['Category'] == 'Carbonated']\n",
    "df_food = df.loc[df['Category'] == 'Food']\n",
    "\n",
    "# conduct t-test to test for signif\n",
    "tc3, pc3 = ttest_ind(df_food['RPrice'], df_carb['RPrice'])\n",
    "print(tc3, pc3)\n",
    "\n",
    "# context \n",
    "from numpy import mean\n",
    "t_3 = df[df['Category'].isin(['Carbonated', 'Food'])]\n",
    "h_3 = sns.barplot(x = 'Category', y = 'RPrice', data = t_3, estimator = mean)\n",
    "print(h_3)"
   ]
  },
  {
   "cell_type": "markdown",
   "id": "52f5d8f6",
   "metadata": {
    "papermill": {
     "duration": 0.013677,
     "end_time": "2022-12-05T19:20:48.254262",
     "exception": false,
     "start_time": "2022-12-05T19:20:48.240585",
     "status": "completed"
    },
    "tags": []
   },
   "source": [
    "### Hypothesis #3 Summary\n",
    "- The above bar chart shows the average revenue per product for both carbonated drinks and food\n",
    "- **Hypothesis #3 is retained** as the average revenue per cabonated beverage is **higher** than the average revenue per food product\n",
    " - This is a significant difference at a 95% confidence level | p < .01 \n",
    "\n",
    "<br>\n",
    "From here we can look at the food selection and options"
   ]
  },
  {
   "cell_type": "markdown",
   "id": "9ede5a00",
   "metadata": {
    "papermill": {
     "duration": 0.013963,
     "end_time": "2022-12-05T19:20:48.282402",
     "exception": false,
     "start_time": "2022-12-05T19:20:48.268439",
     "status": "completed"
    },
    "tags": []
   },
   "source": [
    "##### **Food** | 111 Total Products"
   ]
  },
  {
   "cell_type": "code",
   "execution_count": 17,
   "id": "d6dfafba",
   "metadata": {
    "execution": {
     "iopub.execute_input": "2022-12-05T19:20:48.312478Z",
     "iopub.status.busy": "2022-12-05T19:20:48.311833Z",
     "iopub.status.idle": "2022-12-05T19:20:48.331210Z",
     "shell.execute_reply": "2022-12-05T19:20:48.329975Z"
    },
    "papermill": {
     "duration": 0.037364,
     "end_time": "2022-12-05T19:20:48.333760",
     "exception": false,
     "start_time": "2022-12-05T19:20:48.296396",
     "status": "completed"
    },
    "tags": []
   },
   "outputs": [
    {
     "name": "stdout",
     "output_type": "stream",
     "text": [
      "                                               Total Sold\n",
      "Product                                                  \n",
      "KitKat - Crisp Wafers                                 260\n",
      "Wonderful Pistachios - Variety                        144\n",
      "CheezIt - Original                                    138\n",
      "SunChips Multigrain - Harvest Cheddar                 131\n",
      "Robert Irvine's - Fit Crunch -  Chocolate Pea         121\n",
      "...                                                   ...\n",
      "Nature's Garden Trail Mix - Heart Healthy Mix           1\n",
      "Nature's Garden Trail Mix - Omega 3                     1\n",
      "Nature's Valley Chewy Granola Bar - Fruit & N           1\n",
      "Nature's Valley Crunchy Granola Bar - Oats &            1\n",
      "Larabar - Peanut Butter chocolate Chip                  1\n",
      "\n",
      "[111 rows x 1 columns]\n"
     ]
    }
   ],
   "source": [
    "# create df filtered for only food\n",
    "food_df = df.loc[df['Category'] == 'Food']\n",
    "\n",
    "# get counts for each product \n",
    "food_count_overview = food_df.groupby('Product').count()[['RPrice']]\n",
    "food_count_overview['Total Sold'] = food_count_overview['RPrice']\n",
    "food_count_overview = food_count_overview.drop(['RPrice'], axis=1)\n",
    "food_count_overview = food_count_overview.sort_values(by = 'Total Sold', ascending=False)\n",
    "\n",
    "# all total options\n",
    "print(food_count_overview)"
   ]
  },
  {
   "cell_type": "markdown",
   "id": "09104ad9",
   "metadata": {
    "papermill": {
     "duration": 0.013703,
     "end_time": "2022-12-05T19:20:48.361527",
     "exception": false,
     "start_time": "2022-12-05T19:20:48.347824",
     "status": "completed"
    },
    "tags": []
   },
   "source": [
    "##### **Top Food Products** | Greater than 25 units sold to date\n",
    "These are the food products that are the most popular and should be kept in the machines."
   ]
  },
  {
   "cell_type": "code",
   "execution_count": 18,
   "id": "2bf660ec",
   "metadata": {
    "execution": {
     "iopub.execute_input": "2022-12-05T19:20:48.392164Z",
     "iopub.status.busy": "2022-12-05T19:20:48.391472Z",
     "iopub.status.idle": "2022-12-05T19:20:48.400675Z",
     "shell.execute_reply": "2022-12-05T19:20:48.399159Z"
    },
    "papermill": {
     "duration": 0.027884,
     "end_time": "2022-12-05T19:20:48.403357",
     "exception": false,
     "start_time": "2022-12-05T19:20:48.375473",
     "status": "completed"
    },
    "tags": []
   },
   "outputs": [
    {
     "name": "stdout",
     "output_type": "stream",
     "text": [
      "                                               Total Sold\n",
      "Product                                                  \n",
      "KitKat - Crisp Wafers                                 260\n",
      "Wonderful Pistachios - Variety                        144\n",
      "CheezIt - Original                                    138\n",
      "SunChips Multigrain - Harvest Cheddar                 131\n",
      "Robert Irvine's - Fit Crunch -  Chocolate Pea         121\n",
      "Oreo Mini                                             109\n",
      "SunChips Multigrain - Salsa                           105\n",
      "Takis - Hot Chilli Pepper & Lime                       96\n",
      "Goldfish Baked - Cheddar                               91\n",
      "Cheetos - Fleming Hot Crunchy                          83\n",
      "Funyuns - Flaming Hot                                  82\n",
      "SunChips Multigrain - Original                         72\n",
      "Cheetos Flaming Hot Limon Crunchy                      64\n",
      "Chesters Fries Flaming hot                             59\n",
      "Kinder - Bueno - Crispy Creamy Chocolate               59\n",
      "Good Health Veggie Stix - Sea Salt                     53\n",
      "Oreo Single Server 6 ct                                53\n",
      "Miss Vickie's Potato Chip - Sea Salt & Vinega          53\n",
      "Miss Vickie's Potato Chip - Jalapeno                   50\n",
      "Takis FUGEO mini                                       48\n",
      "Miss Vickie's Potato Chip - Smokehouse BBQ             47\n",
      "Lays - Classic                                         46\n",
      "Pop Corners - Sea Salt                                 44\n",
      "Pop Corners - Kettle Corn                              43\n",
      "Pop Corners - White Cheddar                            41\n",
      "Miss Vickie's Potato Chip - Sea Salt Original          40\n",
      "Nature's Bakery Fig Bar - Blueberry                    39\n",
      "Miss Vickie's Potato Chip - Lime & Cracked Pe          38\n",
      "Fritos - Original                                      37\n",
      "CheezIt - Double Cheese                                37\n",
      "Keto Bar - Creamy Peanut Butter Chocolate              35\n",
      "Seapoint Farms Dry Roasted Edamame - Wasabi            34\n",
      "RXBAR - Protein Bar - Peanut Butter                    34\n",
      "Jacks Links Bar Beef Strip                             33\n",
      "Belvita Snack Packs - Blueberry                        32\n",
      "CheezIt - White Cheddar                                32\n",
      "Nutri Grain Apple Cinnamon                             32\n",
      "Newtons Fig Bar                                        32\n",
      "Nature's Bakery Fig Bar - Raspberry                    31\n",
      "Pop Corners - Spicy Queso                              30\n",
      "Lenny & Larrys - Chocolate Chip                        29\n",
      "CheezIt - Cheddar Sour Cream and Onion                 29\n",
      "Doritos Nacho Cheese                                   28\n",
      "Doritos Famin Hot Nacho                                28\n",
      "Genius Keto Bar - Chocolate Dream                      28\n",
      "Cheetos Puffs                                          28\n",
      "Lenny & Larrys - SnickerDoodle                         26\n",
      "Good Health Veggie Stix - Zesty Ranch                  26\n"
     ]
    }
   ],
   "source": [
    "food_greater_than_25 = food_count_overview[food_count_overview['Total Sold'] > 25]\n",
    "print(food_greater_than_25)"
   ]
  },
  {
   "cell_type": "markdown",
   "id": "7fba0c48",
   "metadata": {
    "papermill": {
     "duration": 0.013784,
     "end_time": "2022-12-05T19:20:48.431321",
     "exception": false,
     "start_time": "2022-12-05T19:20:48.417537",
     "status": "completed"
    },
    "tags": []
   },
   "source": [
    "##### **Bottom Food Products** | Less than 25 units sold to date\n",
    "These food products are not very popular and should be reconsidered. The products with only single digit sales should be removed, and products with double digit sales can be rotated in at specific locations upon request or if supply is short for other products."
   ]
  },
  {
   "cell_type": "code",
   "execution_count": 19,
   "id": "a96709d4",
   "metadata": {
    "execution": {
     "iopub.execute_input": "2022-12-05T19:20:48.462836Z",
     "iopub.status.busy": "2022-12-05T19:20:48.461486Z",
     "iopub.status.idle": "2022-12-05T19:20:48.471390Z",
     "shell.execute_reply": "2022-12-05T19:20:48.470122Z"
    },
    "papermill": {
     "duration": 0.028635,
     "end_time": "2022-12-05T19:20:48.474267",
     "exception": false,
     "start_time": "2022-12-05T19:20:48.445632",
     "status": "completed"
    },
    "tags": []
   },
   "outputs": [
    {
     "name": "stdout",
     "output_type": "stream",
     "text": [
      "                                               Total Sold\n",
      "Product                                                  \n",
      "Ritz Bits Cheese                                       23\n",
      "Mini Chips Ahoy                                        23\n",
      "Cheetos - Crunchy                                      23\n",
      "Popchips Potato - Sea Salt                             22\n",
      "Snyder's of Hanover Pretzel Pieces - Honey Mu          20\n",
      "...                                                   ...\n",
      "Nature's Garden Trail Mix - Heart Healthy Mix           1\n",
      "Nature's Garden Trail Mix - Omega 3                     1\n",
      "Nature's Valley Chewy Granola Bar - Fruit & N           1\n",
      "Nature's Valley Crunchy Granola Bar - Oats &            1\n",
      "Larabar - Peanut Butter chocolate Chip                  1\n",
      "\n",
      "[62 rows x 1 columns]\n"
     ]
    }
   ],
   "source": [
    "food_less_than_25 = food_count_overview[food_count_overview['Total Sold'] < 25]\n",
    "print(food_less_than_25)"
   ]
  },
  {
   "cell_type": "markdown",
   "id": "627c009f",
   "metadata": {
    "papermill": {
     "duration": 0.015122,
     "end_time": "2022-12-05T19:20:48.503838",
     "exception": false,
     "start_time": "2022-12-05T19:20:48.488716",
     "status": "completed"
    },
    "tags": []
   },
   "source": [
    "#### **Location Analysis**\n",
    "> Location matters...but the products demanded changes by location"
   ]
  },
  {
   "cell_type": "code",
   "execution_count": 20,
   "id": "4f9fe7bd",
   "metadata": {
    "execution": {
     "iopub.execute_input": "2022-12-05T19:20:48.535839Z",
     "iopub.status.busy": "2022-12-05T19:20:48.534587Z",
     "iopub.status.idle": "2022-12-05T19:20:48.896975Z",
     "shell.execute_reply": "2022-12-05T19:20:48.895712Z"
    },
    "papermill": {
     "duration": 0.38134,
     "end_time": "2022-12-05T19:20:48.899721",
     "exception": false,
     "start_time": "2022-12-05T19:20:48.518381",
     "status": "completed"
    },
    "tags": []
   },
   "outputs": [
    {
     "name": "stdout",
     "output_type": "stream",
     "text": [
      "                                  Total Revenue\n",
      "Location          Category                     \n",
      "GuttenPlans       Carbonated            2241.00\n",
      "EB Public Library Food                  1997.75\n",
      "GuttenPlans       Food                  1972.25\n",
      "Earle Asphalt     Food                  1005.00\n",
      "Brunswick Sq Mall Food                   860.25\n",
      "EB Public Library Non Carbonated         746.00\n",
      "GuttenPlans       Non Carbonated         565.00\n",
      "Brunswick Sq Mall Water                  533.50\n",
      "EB Public Library Carbonated             524.00\n",
      "Brunswick Sq Mall Carbonated             521.00\n",
      "                  Non Carbonated         436.25\n",
      "EB Public Library Water                  326.75\n",
      "Earle Asphalt     Carbonated              85.50\n",
      "                  Non Carbonated          64.00\n",
      "                  Water                   33.00\n"
     ]
    },
    {
     "data": {
      "text/plain": [
       "<AxesSubplot:xlabel='Location', ylabel='RPrice'>"
      ]
     },
     "execution_count": 20,
     "metadata": {},
     "output_type": "execute_result"
    },
    {
     "data": {
      "image/png": "[encoded data removed]",
      "text/plain": [
       "<Figure size 432x288 with 1 Axes>"
      ]
     },
     "metadata": {},
     "output_type": "display_data"
    }
   ],
   "source": [
    "# revenue overview for all locations\n",
    "# wine_df.groupby(['quality', 'color'], as_index=False)['pH'].mean() \n",
    "#(im learning python still so this above code ex. helped me...credit to Yaron Shamash for explaining pandas!)\n",
    "\n",
    "location_overview = df.groupby(['Location', 'Category']).sum()[['RPrice']]\n",
    "location_overview['Total Revenue'] = location_overview['RPrice']\n",
    "location_overview = location_overview.drop(['RPrice'], axis=1)\n",
    "location_overview = location_overview.sort_values(by = 'Total Revenue', ascending=False)\n",
    "print(location_overview)\n",
    "\n",
    "# shows avg revenue but I want total revenue \n",
    "# issue with groups \n",
    "sns.barplot(x = 'Location', y = 'RPrice', data = df)"
   ]
  },
  {
   "cell_type": "markdown",
   "id": "4bf8c780",
   "metadata": {
    "papermill": {
     "duration": 0.014965,
     "end_time": "2022-12-05T19:20:48.930904",
     "exception": false,
     "start_time": "2022-12-05T19:20:48.915939",
     "status": "completed"
    },
    "tags": []
   },
   "source": [
    "##### **Brunswick Sq Mall** | 2 Vending Machines\n",
    "Brunswick Sq Mall - Mall with average foot traffic 7 days a week. Vending machine(s): \n",
    "> - BSQ Mall x1364\n",
    "> - Zales & BSQ Mall x1366 - ATT"
   ]
  },
  {
   "cell_type": "code",
   "execution_count": 21,
   "id": "e39e9744",
   "metadata": {
    "execution": {
     "iopub.execute_input": "2022-12-05T19:20:48.964134Z",
     "iopub.status.busy": "2022-12-05T19:20:48.963447Z",
     "iopub.status.idle": "2022-12-05T19:20:48.987280Z",
     "shell.execute_reply": "2022-12-05T19:20:48.985987Z"
    },
    "papermill": {
     "duration": 0.043447,
     "end_time": "2022-12-05T19:20:48.989821",
     "exception": false,
     "start_time": "2022-12-05T19:20:48.946374",
     "status": "completed"
    },
    "tags": []
   },
   "outputs": [
    {
     "name": "stdout",
     "output_type": "stream",
     "text": [
      "                Total Revenue\n",
      "Category                     \n",
      "Food                   860.25\n",
      "Water                  533.50\n",
      "Carbonated             521.00\n",
      "Non Carbonated         436.25\n",
      "                Percent of Sales\n",
      "Category                        \n",
      "Food                       43.88\n",
      "Water                      23.33\n",
      "Carbonated                 18.03\n",
      "Non Carbonated             14.76\n"
     ]
    }
   ],
   "source": [
    "# filter for Brunswick Sq Mall and get total revenue\n",
    "mall = df.loc[df['Location'] == 'Brunswick Sq Mall']\n",
    "mall_overview = mall.groupby(\"Category\").sum()[['RPrice']]\n",
    "mall_overview['Total Revenue'] = mall_overview['RPrice']\n",
    "mall_overview = mall_overview.drop(['RPrice'], axis=1)\n",
    "mall_overview = mall_overview.sort_values(by = 'Total Revenue', ascending=False)\n",
    "print(mall_overview)\n",
    "\n",
    "# get counts for each category (then calculate percent of total)\n",
    "mall_count_overview = mall.groupby('Category').count()[['RPrice']]\n",
    "mall_count_overview['Percent of Sales'] = round(mall_count_overview['RPrice'] / 1226 * 100,2)\n",
    "mall_count_overview = mall_count_overview.drop(['RPrice'], axis=1)\n",
    "mall_count_overview = mall_count_overview.sort_values(by = 'Percent of Sales', ascending=False)\n",
    "\n",
    "print(mall_count_overview)"
   ]
  },
  {
   "cell_type": "markdown",
   "id": "123f8d98",
   "metadata": {
    "papermill": {
     "duration": 0.015067,
     "end_time": "2022-12-05T19:20:49.020382",
     "exception": false,
     "start_time": "2022-12-05T19:20:49.005315",
     "status": "completed"
    },
    "tags": []
   },
   "source": [
    "#### **Optimizing Brunswick Sq Mall**\n",
    "The mall location makes up over half it's sales in **food** and **water**, so the stock of the vending machine should represent this. \n",
    "> - More food and water options, with the carbonated and non-carbonated options only being the most popular overall\n",
    "\n",
    "Brunswick Mall has 2 vending machines, but does it **really need both**? \n",
    "\n",
    "First, I want to see if there is any difference in the product categories, as sometimes vending machines may have only drinks, only snacks or both..."
   ]
  },
  {
   "cell_type": "code",
   "execution_count": 22,
   "id": "162dc349",
   "metadata": {
    "execution": {
     "iopub.execute_input": "2022-12-05T19:20:49.053087Z",
     "iopub.status.busy": "2022-12-05T19:20:49.052632Z",
     "iopub.status.idle": "2022-12-05T19:20:49.079073Z",
     "shell.execute_reply": "2022-12-05T19:20:49.076844Z"
    },
    "papermill": {
     "duration": 0.046149,
     "end_time": "2022-12-05T19:20:49.081933",
     "exception": false,
     "start_time": "2022-12-05T19:20:49.035784",
     "status": "completed"
    },
    "tags": []
   },
   "outputs": [
    {
     "name": "stdout",
     "output_type": "stream",
     "text": [
      "                Total Revenue\n",
      "Category                     \n",
      "Food                   345.25\n",
      "Carbonated             284.75\n",
      "Water                  228.25\n",
      "Non Carbonated         200.50\n",
      "                Total Revenue\n",
      "Category                     \n",
      "Food                   515.00\n",
      "Water                  305.25\n",
      "Carbonated             236.25\n",
      "Non Carbonated         235.75\n"
     ]
    }
   ],
   "source": [
    "# create data frame for mall machine 'ATT'\n",
    "mall_att = mall.loc[mall['Machine'] == 'BSQ Mall x1366 - ATT']\n",
    "mall_att = mall_att.groupby(\"Category\").sum()[['RPrice']]\n",
    "mall_att['Total Revenue'] = mall_att['RPrice']\n",
    "mall_att = mall_att.drop(['RPrice'], axis=1)\n",
    "mall_att = mall_att.sort_values(by = 'Total Revenue', ascending=False)\n",
    "print(mall_att)\n",
    "\n",
    "# create data frame for mall machine 'Zales'\n",
    "mall_zales = mall.loc[mall['Machine'] == 'BSQ Mall x1364 - Zales']\n",
    "mall_zales = mall_zales.groupby(\"Category\").sum()[['RPrice']]\n",
    "mall_zales['Total Revenue'] = mall_zales['RPrice']\n",
    "mall_zales = mall_zales.drop(['RPrice'], axis=1)\n",
    "mall_zales = mall_zales.sort_values(by = 'Total Revenue', ascending=False)\n",
    "print(mall_zales)"
   ]
  },
  {
   "cell_type": "markdown",
   "id": "b0653226",
   "metadata": {
    "papermill": {
     "duration": 0.015158,
     "end_time": "2022-12-05T19:20:49.112710",
     "exception": false,
     "start_time": "2022-12-05T19:20:49.097552",
     "status": "completed"
    },
    "tags": []
   },
   "source": [
    "Both vending machines have all 4 categories, and low revenue, *but which one should they keep?*"
   ]
  },
  {
   "cell_type": "markdown",
   "id": "fa0641bc",
   "metadata": {
    "papermill": {
     "duration": 0.015336,
     "end_time": "2022-12-05T19:20:49.143663",
     "exception": false,
     "start_time": "2022-12-05T19:20:49.128327",
     "status": "completed"
    },
    "tags": []
   },
   "source": [
    "### Hypothesis #4\n",
    "The average product revenue for the mall 'ATT' machine is **equal to** the average product revenue for the mall 'Zales' machine.\n",
    "\n",
    "The machine with the highest average revenue per product will be the one the mall keeps..."
   ]
  },
  {
   "cell_type": "code",
   "execution_count": 23,
   "id": "357e0ffc",
   "metadata": {
    "execution": {
     "iopub.execute_input": "2022-12-05T19:20:49.178599Z",
     "iopub.status.busy": "2022-12-05T19:20:49.178184Z",
     "iopub.status.idle": "2022-12-05T19:20:49.478542Z",
     "shell.execute_reply": "2022-12-05T19:20:49.477193Z"
    },
    "papermill": {
     "duration": 0.321878,
     "end_time": "2022-12-05T19:20:49.481234",
     "exception": false,
     "start_time": "2022-12-05T19:20:49.159356",
     "status": "completed"
    },
    "tags": []
   },
   "outputs": [
    {
     "name": "stdout",
     "output_type": "stream",
     "text": [
      "7.880272278936319 7.172869260118651e-15\n",
      "AxesSubplot(0.125,0.125;0.775x0.755)\n"
     ]
    },
    {
     "data": {
      "image/png": "[encoded data removed]",
      "text/plain": [
       "<Figure size 432x288 with 1 Axes>"
      ]
     },
     "metadata": {},
     "output_type": "display_data"
    }
   ],
   "source": [
    "# create data frames for carbonated and water categories\n",
    "df_mall_a = df.loc[df['Machine'] == 'BSQ Mall x1366 - ATT']\n",
    "df_mall_z = df.loc[df['Machine'] == 'BSQ Mall x1364 - Zales']\n",
    "\n",
    "# conduct t-test to test for signif\n",
    "tc4, pc4 = ttest_ind(df_mall_a['RPrice'], df_mall_z['RPrice'])\n",
    "print(tc4, pc4)\n",
    "\n",
    "# context \n",
    "from numpy import mean\n",
    "t_4 = df[df['Machine'].isin(['BSQ Mall x1366 - ATT', 'BSQ Mall x1364 - Zales'])]\n",
    "h_4 = sns.barplot(x = 'Machine', y = 'RPrice', data = t_4, estimator = mean)\n",
    "print(h_4)"
   ]
  },
  {
   "cell_type": "markdown",
   "id": "70b1127d",
   "metadata": {
    "papermill": {
     "duration": 0.015,
     "end_time": "2022-12-05T19:20:49.513039",
     "exception": false,
     "start_time": "2022-12-05T19:20:49.498039",
     "status": "completed"
    },
    "tags": []
   },
   "source": [
    "### Hypothesis #4 Summary\n",
    "- The above bar chart shows the average revenue per product for each vending machines at the mall location\n",
    "- **Hypothesis #4 is rejected** as the average revenue per product is **not the same** for each machine, there is a real difference.\n",
    " - It is a significant difference at a 95% confidence level | p < .01 \n",
    "\n",
    "<br>\n",
    "The mall should keep the 'ATT' machine and the 'Zales' machine can be removed and put at another location. "
   ]
  },
  {
   "cell_type": "markdown",
   "id": "4c6f469d",
   "metadata": {
    "papermill": {
     "duration": 0.015575,
     "end_time": "2022-12-05T19:20:49.543977",
     "exception": false,
     "start_time": "2022-12-05T19:20:49.528402",
     "status": "completed"
    },
    "tags": []
   },
   "source": [
    "##### **Earle Asphalt** | 1 Vending Machine\n",
    "Earle Asphalt - A construction engineering firm that operates 5 days a week. Vending machine:\n",
    "> - Earle Asphalt x1371"
   ]
  },
  {
   "cell_type": "code",
   "execution_count": 24,
   "id": "a1ab8dab",
   "metadata": {
    "execution": {
     "iopub.execute_input": "2022-12-05T19:20:49.578075Z",
     "iopub.status.busy": "2022-12-05T19:20:49.576740Z",
     "iopub.status.idle": "2022-12-05T19:20:49.603170Z",
     "shell.execute_reply": "2022-12-05T19:20:49.601383Z"
    },
    "papermill": {
     "duration": 0.046959,
     "end_time": "2022-12-05T19:20:49.606508",
     "exception": false,
     "start_time": "2022-12-05T19:20:49.559549",
     "status": "completed"
    },
    "tags": []
   },
   "outputs": [
    {
     "name": "stdout",
     "output_type": "stream",
     "text": [
      "                Total Revenue\n",
      "Category                     \n",
      "Food                   1005.0\n",
      "Carbonated               85.5\n",
      "Non Carbonated           64.0\n",
      "Water                    33.0\n",
      "                Percent of Sales\n",
      "Category                        \n",
      "Food                       87.43\n",
      "Carbonated                  6.36\n",
      "Non Carbonated              4.14\n",
      "Water                       2.07\n"
     ]
    }
   ],
   "source": [
    "# filter for Earle Asphalt and get total revenue\n",
    "ea = df.loc[df['Location'] == 'Earle Asphalt']\n",
    "ea_overview = ea.groupby(\"Category\").sum()[['RPrice']]\n",
    "ea_overview['Total Revenue'] = ea_overview['RPrice']\n",
    "ea_overview = ea_overview.drop(['RPrice'], axis=1)\n",
    "ea_overview = ea_overview.sort_values(by = 'Total Revenue', ascending=False)\n",
    "print(ea_overview)\n",
    "\n",
    "# get counts for each category (then calculate percent of total)\n",
    "ea_count_overview = ea.groupby('Category').count()[['RPrice']]\n",
    "ea_count_overview['Percent of Sales'] = round(ea_count_overview['RPrice'] / 676 * 100,2)\n",
    "ea_count_overview = ea_count_overview.drop(['RPrice'], axis=1)\n",
    "ea_count_overview = ea_count_overview.sort_values(by = 'Percent of Sales', ascending=False)\n",
    "\n",
    "print(ea_count_overview)"
   ]
  },
  {
   "cell_type": "markdown",
   "id": "6b028513",
   "metadata": {
    "papermill": {
     "duration": 0.015728,
     "end_time": "2022-12-05T19:20:49.638319",
     "exception": false,
     "start_time": "2022-12-05T19:20:49.622591",
     "status": "completed"
    },
    "tags": []
   },
   "source": [
    "#### **Optimizing Earle Asphalt**\n",
    "The Earle Asphalt location makes up the majority of its sales in **food**, with over 87% of sales being food products. Thus, the stock of the vending machine should represent this. \n",
    "> - Majority of options should be food, with the water, carbonated and non-carbonated options only being the most popular for this location"
   ]
  },
  {
   "cell_type": "markdown",
   "id": "039f879e",
   "metadata": {
    "papermill": {
     "duration": 0.015396,
     "end_time": "2022-12-05T19:20:49.669461",
     "exception": false,
     "start_time": "2022-12-05T19:20:49.654065",
     "status": "completed"
    },
    "tags": []
   },
   "source": [
    "##### **Gutten Plans** | 1 Vending Machine\n",
    "Gutten Plans - Frozen dough specialist company that operates 24/5. Vending machine:\n",
    "> - GuttenPlans x1367"
   ]
  },
  {
   "cell_type": "code",
   "execution_count": 25,
   "id": "a529c8f7",
   "metadata": {
    "execution": {
     "iopub.execute_input": "2022-12-05T19:20:49.703811Z",
     "iopub.status.busy": "2022-12-05T19:20:49.703347Z",
     "iopub.status.idle": "2022-12-05T19:20:49.735823Z",
     "shell.execute_reply": "2022-12-05T19:20:49.734788Z"
    },
    "papermill": {
     "duration": 0.053397,
     "end_time": "2022-12-05T19:20:49.738722",
     "exception": false,
     "start_time": "2022-12-05T19:20:49.685325",
     "status": "completed"
    },
    "tags": []
   },
   "outputs": [
    {
     "name": "stdout",
     "output_type": "stream",
     "text": [
      "                Total Revenue\n",
      "Category                     \n",
      "Carbonated            2241.00\n",
      "Food                  1972.25\n",
      "Non Carbonated         565.00\n",
      "                Percent of Sales\n",
      "Category                        \n",
      "Food                       47.62\n",
      "Carbonated                 43.42\n",
      "Non Carbonated              8.95\n"
     ]
    }
   ],
   "source": [
    "# filter for GuttenPlans and get total revenue\n",
    "gp = df.loc[df['Location'] == 'GuttenPlans']\n",
    "gp_overview = gp.groupby(\"Category\").sum()[['RPrice']]\n",
    "gp_overview['Total Revenue'] = gp_overview['RPrice']\n",
    "gp_overview = gp_overview.drop(['RPrice'], axis=1)\n",
    "gp_overview = gp_overview.sort_values(by = 'Total Revenue', ascending=False)\n",
    "print(gp_overview)\n",
    "\n",
    "# get counts for each category (then calculate percent of total)\n",
    "gp_count_overview = gp.groupby('Category').count()[['RPrice']]\n",
    "gp_count_overview['Percent of Sales'] = round(gp_count_overview['RPrice'] / 2524 * 100,2)\n",
    "gp_count_overview = gp_count_overview.drop(['RPrice'], axis=1)\n",
    "gp_count_overview = gp_count_overview.sort_values(by = 'Percent of Sales', ascending=False)\n",
    "\n",
    "print(gp_count_overview)"
   ]
  },
  {
   "cell_type": "markdown",
   "id": "8bb55a1d",
   "metadata": {
    "papermill": {
     "duration": 0.015181,
     "end_time": "2022-12-05T19:20:49.769524",
     "exception": false,
     "start_time": "2022-12-05T19:20:49.754343",
     "status": "completed"
    },
    "tags": []
   },
   "source": [
    "#### **Optimizing Gutten Plans**\n",
    "The Gutten Plans location makes up over 90% of its sales in **food** and **carbonated** products. Thus the stock of the vending machine should represent this. \n",
    "> - Majority of options should be food and carbonated drinks, with non-carbonated options only being the most popular for this location\n",
    "> - This location also does not sell any water products, so testing with the most popular water products can be done to see if they would be successful"
   ]
  },
  {
   "cell_type": "markdown",
   "id": "69a1b34c",
   "metadata": {
    "papermill": {
     "duration": 0.015329,
     "end_time": "2022-12-05T19:20:49.800310",
     "exception": false,
     "start_time": "2022-12-05T19:20:49.784981",
     "status": "completed"
    },
    "tags": []
   },
   "source": [
    "##### **EB Public Library** | 1 Vending Machine\n",
    "Public library that has high foot traffic 5-6 days a week. Vending machine:\n",
    "> - EB Public Library x1380"
   ]
  },
  {
   "cell_type": "code",
   "execution_count": 26,
   "id": "5c9522b6",
   "metadata": {
    "execution": {
     "iopub.execute_input": "2022-12-05T19:20:49.833772Z",
     "iopub.status.busy": "2022-12-05T19:20:49.833017Z",
     "iopub.status.idle": "2022-12-05T19:20:49.863062Z",
     "shell.execute_reply": "2022-12-05T19:20:49.861390Z"
    },
    "papermill": {
     "duration": 0.050657,
     "end_time": "2022-12-05T19:20:49.866460",
     "exception": false,
     "start_time": "2022-12-05T19:20:49.815803",
     "status": "completed"
    },
    "tags": []
   },
   "outputs": [
    {
     "name": "stdout",
     "output_type": "stream",
     "text": [
      "                Total Revenue\n",
      "Category                     \n",
      "Food                  1997.75\n",
      "Non Carbonated         746.00\n",
      "Carbonated             524.00\n",
      "Water                  326.75\n",
      "                Percent of Sales\n",
      "Category                        \n",
      "Food                       59.81\n",
      "Carbonated                 15.21\n",
      "Non Carbonated             14.99\n",
      "Water                       9.98\n"
     ]
    }
   ],
   "source": [
    "# filter for EB Public Library and get total revenue\n",
    "eb = df.loc[df['Location'] == 'EB Public Library']\n",
    "eb_overview = eb.groupby('Category').sum()[['RPrice']]\n",
    "eb_overview['Total Revenue'] = eb_overview['RPrice']\n",
    "eb_overview = eb_overview.drop(['RPrice'], axis=1)\n",
    "eb_overview = eb_overview.sort_values(by = 'Total Revenue', ascending=False)\n",
    "print(eb_overview)\n",
    "\n",
    "# get counts for each category (then calculate percent of total)\n",
    "eb_count_overview = eb.groupby('Category').count()[['RPrice']]\n",
    "eb_count_overview['Percent of Sales'] = round(eb_count_overview['RPrice'] / 1834 * 100,2)\n",
    "eb_count_overview = eb_count_overview.drop(['RPrice'], axis=1)\n",
    "eb_count_overview = eb_count_overview.sort_values(by = 'Percent of Sales', ascending=False)\n",
    "\n",
    "print(eb_count_overview)"
   ]
  },
  {
   "cell_type": "markdown",
   "id": "527ebd9a",
   "metadata": {
    "papermill": {
     "duration": 0.016909,
     "end_time": "2022-12-05T19:20:49.901501",
     "exception": false,
     "start_time": "2022-12-05T19:20:49.884592",
     "status": "completed"
    },
    "tags": []
   },
   "source": [
    "#### **Optimizing EB Public Library**\n",
    "The EB Public Library location makes up close to 60% of it's sales in **food** products. Thus the stock of the vending machine should represent this. \n",
    "> - Majority of options should be food, with a selection of popular carbonated drinks and non-carbonated product options. As for water products only the most popular should be stocked for this location."
   ]
  },
  {
   "cell_type": "markdown",
   "id": "35a15b33",
   "metadata": {
    "papermill": {
     "duration": 0.018121,
     "end_time": "2022-12-05T19:20:49.936147",
     "exception": false,
     "start_time": "2022-12-05T19:20:49.918026",
     "status": "completed"
    },
    "tags": []
   },
   "source": [
    "## **Recommendations**\n",
    "### Overall\n",
    "> **Space is limited** | Optimize the space used and customize the selection based on location\n",
    "> - Condense product selection to meet consumer preferences to **increase revenue**\n",
    "> - Balance selection and variety to **lower costs** for buying in bulk *(economy of scale)*\n",
    "> - Locations where people work or spend lots of time tend to have more purchases\n",
    "### Location Specific\n",
    "> **Brunswick Sq Mall**\n",
    "> - Keep only the 'ATT' vending machine\n",
    "> - Allocate the majority of space for food and water options, with the carbonated and non-carbonated options only being for the most popular overall products\n",
    ">\n",
    "> **Earle Asphalt**\n",
    "> - Majority of options should be food products\n",
    "> - Water, carbonated and non-carbonated options only being the most popular for this location\n",
    ">\n",
    "> **Gutten Plans**\n",
    "> - Majority of options should be food and carbonated drink products\n",
    ">  - Non-carbonated options should only be the most popular for this location\n",
    "> - Test with the most popular water products to see if this option is in demand\n",
    ">\n",
    "> **EB Public Library**\n",
    "> - Majority of vending products should be food\n",
    "> - Stock popular carbonated drinks and non-carbonated product options\n",
    "> - Only the most popular water products should be stocked at this location"
   ]
  }
 ],
 "metadata": {
  "kernelspec": {
   "display_name": "Python 3",
   "language": "python",
   "name": "python3"
  },
  "language_info": {
   "codemirror_mode": {
    "name": "ipython",
    "version": 3
   },
   "file_extension": ".py",
   "mimetype": "text/x-python",
   "name": "python",
   "nbconvert_exporter": "python",
   "pygments_lexer": "ipython3",
   "version": "3.7.12"
  },
  "papermill": {
   "default_parameters": {},
   "duration": 15.921269,
   "end_time": "2022-12-05T19:20:50.977583",
   "environment_variables": {},
   "exception": null,
   "input_path": "__notebook__.ipynb",
   "output_path": "__notebook__.ipynb",
   "parameters": {},
   "start_time": "2022-12-05T19:20:35.056314",
   "version": "2.3.4"
  }
 },
 "nbformat": 4,
 "nbformat_minor": 5
}
