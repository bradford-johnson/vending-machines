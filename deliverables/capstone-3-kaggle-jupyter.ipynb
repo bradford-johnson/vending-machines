{
 "cells": [
  {
   "cell_type": "markdown",
   "id": "f840750c",
   "metadata": {
    "papermill": {
     "duration": 0.011219,
     "end_time": "2022-12-06T21:36:50.582137",
     "exception": false,
     "start_time": "2022-12-06T21:36:50.570918",
     "status": "completed"
    },
    "tags": []
   },
   "source": [
    "### Thinkful Capstone 3 | **Vending Machine Analysis**\n",
    "#### *Author: Bradford (Ford) Johnson*\n",
    "##### **A special thank you to user [Aniruddh Singh](https://www.kaggle.com/awesomeasingh) for the dataset!! :)** \n",
    "<br>\n",
    "\n",
    "*My background is in sociology; thus, it is my motivation to learn about the world around me...*\n",
    "\n",
    "<br>\n",
    "\n",
    "> \"*C W Mills in the Sociological Imagination says sociology lies at the intersection of history and biography. People and the Past. What a great location. **Mills says to think sociologically is about making the familiar strange.** This requires thinking critically about the social world. Adopting a different way of seeing. Challenging conventional wisdom.*\"\n",
    ">\n",
    ">\\- Sue Watling, PhD\n",
    "\n",
    "<br>\n",
    "Vending machines are all around us in our daily lives and they provide a convenient way to get a snack or beverage. However vending machines are not just filled without a specific logic or reason. The reason I wanted to look at vending machine data was to make something that seems so familiar such as vending machines...strange. Doing so to understand this from a both a customer's and stakeholder's persepective, with a data-driven approach.\n",
    "<br>\n",
    "<br>\n",
    "<a href=\"https://www.kaggle.com/datasets/awesomeasingh/vending-machine-sales\">Click here</a> to view the dataset on Kaggle.\n",
    "<br>\n",
    "<br>\n",
    "\n",
    "### **Data Overview**\n",
    "> **Data Date Range:** `1/1/2022 - 8/31/2022`\n",
    ">\n",
    "> **Number of Vending Machines:** `5`\n",
    ">\n",
    "> **Number of Locations:** `4`\n",
    ">\n",
    "> **Number of product categories:** `4`\n",
    ">\n",
    "> **Number of products:** `162`\n",
    ">\n",
    "> **Number of transactions:** `6445`"
   ]
  },
  {
   "cell_type": "markdown",
   "id": "3b9c3ab4",
   "metadata": {
    "papermill": {
     "duration": 0.011276,
     "end_time": "2022-12-06T21:36:50.604558",
     "exception": false,
     "start_time": "2022-12-06T21:36:50.593282",
     "status": "completed"
    },
    "tags": []
   },
   "source": [
    "### Import Python Libraries and load data"
   ]
  },
  {
   "cell_type": "code",
   "execution_count": 1,
   "id": "524fe461",
   "metadata": {
    "execution": {
     "iopub.execute_input": "2022-12-06T21:36:50.627391Z",
     "iopub.status.busy": "2022-12-06T21:36:50.626758Z",
     "iopub.status.idle": "2022-12-06T21:36:51.657368Z",
     "shell.execute_reply": "2022-12-06T21:36:51.656241Z"
    },
    "papermill": {
     "duration": 1.045171,
     "end_time": "2022-12-06T21:36:51.659920",
     "exception": false,
     "start_time": "2022-12-06T21:36:50.614749",
     "status": "completed"
    },
    "tags": []
   },
   "outputs": [],
   "source": [
    "# import libraries\n",
    "import pandas as pd\n",
    "import numpy as np\n",
    "from scipy import stats\n",
    "from scipy.stats import ttest_ind\n",
    "import seaborn as sns \n",
    "sns.set()\n",
    "import matplotlib.pyplot as plt\n",
    "# from google.colab import drive\n",
    "# drive.mount('/content/gdrive')\n",
    "\n",
    "# read csv\n",
    "# df = pd.read_csv(\"/content/gdrive/MyDrive/colab-datasets/vending_machine_sales.csv\")\n",
    "df = pd.read_csv(\"/kaggle/input/vending-machine-sales/vending_machine_sales.csv\")"
   ]
  },
  {
   "cell_type": "markdown",
   "id": "9e994c51",
   "metadata": {
    "papermill": {
     "duration": 0.009616,
     "end_time": "2022-12-06T21:36:51.679931",
     "exception": false,
     "start_time": "2022-12-06T21:36:51.670315",
     "status": "completed"
    },
    "tags": []
   },
   "source": [
    "### Global Data Cleaning"
   ]
  },
  {
   "cell_type": "code",
   "execution_count": 2,
   "id": "9ee58035",
   "metadata": {
    "execution": {
     "iopub.execute_input": "2022-12-06T21:36:51.701460Z",
     "iopub.status.busy": "2022-12-06T21:36:51.700938Z",
     "iopub.status.idle": "2022-12-06T21:36:51.714455Z",
     "shell.execute_reply": "2022-12-06T21:36:51.713799Z"
    },
    "papermill": {
     "duration": 0.026409,
     "end_time": "2022-12-06T21:36:51.716317",
     "exception": false,
     "start_time": "2022-12-06T21:36:51.689908",
     "status": "completed"
    },
    "tags": []
   },
   "outputs": [],
   "source": [
    "# data cleaning\n",
    "# df.info()\n",
    "df = df.dropna()"
   ]
  },
  {
   "cell_type": "markdown",
   "id": "d2d118b4",
   "metadata": {
    "papermill": {
     "duration": 0.010719,
     "end_time": "2022-12-06T21:36:51.737258",
     "exception": false,
     "start_time": "2022-12-06T21:36:51.726539",
     "status": "completed"
    },
    "tags": []
   },
   "source": [
    "### Data Overview"
   ]
  },
  {
   "cell_type": "code",
   "execution_count": 3,
   "id": "3cc12219",
   "metadata": {
    "execution": {
     "iopub.execute_input": "2022-12-06T21:36:51.759835Z",
     "iopub.status.busy": "2022-12-06T21:36:51.759011Z",
     "iopub.status.idle": "2022-12-06T21:36:51.779926Z",
     "shell.execute_reply": "2022-12-06T21:36:51.779021Z"
    },
    "papermill": {
     "duration": 0.034384,
     "end_time": "2022-12-06T21:36:51.782416",
     "exception": false,
     "start_time": "2022-12-06T21:36:51.748032",
     "status": "completed"
    },
    "tags": []
   },
   "outputs": [
    {
     "name": "stdout",
     "output_type": "stream",
     "text": [
      "                Total Revenue\n",
      "Category                     \n",
      "Carbonated            3371.50\n",
      "Food                  5835.25\n",
      "Non Carbonated        1811.25\n",
      "Water                  893.25\n"
     ]
    }
   ],
   "source": [
    "total_overview = df.groupby(\"Category\").sum()[['RPrice']]\n",
    "total_overview['Total Revenue'] = total_overview['RPrice']\n",
    "total_overview = total_overview.drop(['RPrice'], axis=1)\n",
    "print(total_overview)"
   ]
  },
  {
   "cell_type": "markdown",
   "id": "fd7fb632",
   "metadata": {
    "papermill": {
     "duration": 0.010714,
     "end_time": "2022-12-06T21:36:51.804914",
     "exception": false,
     "start_time": "2022-12-06T21:36:51.794200",
     "status": "completed"
    },
    "tags": []
   },
   "source": [
    "## Findings"
   ]
  },
  {
   "cell_type": "markdown",
   "id": "7a721c2a",
   "metadata": {
    "papermill": {
     "duration": 0.010022,
     "end_time": "2022-12-06T21:36:51.825448",
     "exception": false,
     "start_time": "2022-12-06T21:36:51.815426",
     "status": "completed"
    },
    "tags": []
   },
   "source": [
    "### Hypothesis #1\n",
    "The average revenue per drink for carbonated drinks is **equal to** the average revenue per drink for non-carbonated drinks.\n",
    "> Assuming there is equal demand (purchases) among the two categories"
   ]
  },
  {
   "cell_type": "code",
   "execution_count": 4,
   "id": "58819027",
   "metadata": {
    "execution": {
     "iopub.execute_input": "2022-12-06T21:36:51.848634Z",
     "iopub.status.busy": "2022-12-06T21:36:51.848280Z",
     "iopub.status.idle": "2022-12-06T21:36:52.090990Z",
     "shell.execute_reply": "2022-12-06T21:36:52.090257Z"
    },
    "papermill": {
     "duration": 0.257153,
     "end_time": "2022-12-06T21:36:52.092826",
     "exception": false,
     "start_time": "2022-12-06T21:36:51.835673",
     "status": "completed"
    },
    "tags": []
   },
   "outputs": [
    {
     "name": "stdout",
     "output_type": "stream",
     "text": [
      "14.522678813161257 7.95456326451125e-46\n",
      "AxesSubplot(0.125,0.125;0.775x0.755)\n"
     ]
    },
    {
     "data": {
      "image/png": "[encoded data removed]",
      "text/plain": [
       "<Figure size 432x288 with 1 Axes>"
      ]
     },
     "metadata": {},
     "output_type": "display_data"
    }
   ],
   "source": [
    "# create data frames for carbonated and non-carbonated categories\n",
    "df_carb = df.loc[df['Category'] == 'Carbonated']\n",
    "df_noncarb = df.loc[df['Category'] == 'Non Carbonated']\n",
    "\n",
    "# conduct t-test to test for signif\n",
    "tc, pc = ttest_ind(df_noncarb['RPrice'], df_carb['RPrice'])\n",
    "print(tc, pc)\n",
    "\n",
    "# context \n",
    "from numpy import mean\n",
    "t_1 = df[df['Category'].isin(['Carbonated', 'Non Carbonated'])]\n",
    "h_1 = sns.barplot(x = 'Category', y = 'RPrice', data = t_1, estimator = mean)\n",
    "print(h_1)"
   ]
  },
  {
   "cell_type": "markdown",
   "id": "58dfb01d",
   "metadata": {
    "papermill": {
     "duration": 0.009993,
     "end_time": "2022-12-06T21:36:52.113601",
     "exception": false,
     "start_time": "2022-12-06T21:36:52.103608",
     "status": "completed"
    },
    "tags": []
   },
   "source": [
    "### Hypothesis #1 Summary\n",
    "- The above bar chart shows the average revenue per product for both carbonated and non-carbonated beverages\n",
    "- However, the non-carbonated drinks cost more on average than their carbonated counterparts, so therefore I **reject hypothesis #1**\n",
    " - This is a significant difference at a 95% confidence level | p < .01 \n",
    "\n",
    "<br>\n",
    "Because non-carbonated drinks are more expensive but have less total revenue than carbonated drinks that would mean carbonated drinks are bought more often..."
   ]
  },
  {
   "cell_type": "code",
   "execution_count": 5,
   "id": "c2cf465f",
   "metadata": {
    "execution": {
     "iopub.execute_input": "2022-12-06T21:36:52.135537Z",
     "iopub.status.busy": "2022-12-06T21:36:52.135223Z",
     "iopub.status.idle": "2022-12-06T21:36:52.149159Z",
     "shell.execute_reply": "2022-12-06T21:36:52.147606Z"
    },
    "papermill": {
     "duration": 0.029057,
     "end_time": "2022-12-06T21:36:52.152966",
     "exception": false,
     "start_time": "2022-12-06T21:36:52.123909",
     "status": "completed"
    },
    "tags": []
   },
   "outputs": [
    {
     "name": "stdout",
     "output_type": "stream",
     "text": [
      "                Total Sold\n",
      "Category                  \n",
      "Carbonated            1639\n",
      "Non Carbonated         710\n"
     ]
    }
   ],
   "source": [
    "# get counts for carbonated and non-carbonated drinks\n",
    "count_overview = t_1.groupby(\"Category\").count()[['RPrice']]\n",
    "count_overview['Total Sold'] = count_overview['RPrice']\n",
    "count_overview = count_overview.drop(['RPrice'], axis=1)\n",
    "print(count_overview)"
   ]
  },
  {
   "cell_type": "markdown",
   "id": "74c24acd",
   "metadata": {
    "papermill": {
     "duration": 0.010744,
     "end_time": "2022-12-06T21:36:52.176329",
     "exception": false,
     "start_time": "2022-12-06T21:36:52.165585",
     "status": "completed"
    },
    "tags": []
   },
   "source": [
    "#### **Carbonated Vs Non-carbonated**\n",
    "We know that non-carbonated on average makes more revenue than carbonated drinks, but carbonated drinks are sold more. With many different options, and limited space for drinks in the vending machines, we need to optimize the product selection.\n",
    "<br>\n",
    "\n",
    "*This begs the question...* \n",
    "\n",
    "**What are the most popular carbonated drinks out of the 16 options?** \n",
    "> I can easily find this out by looking at only carbonated drinks and sorting this df descending by count"
   ]
  },
  {
   "cell_type": "markdown",
   "id": "a3ff6b94",
   "metadata": {
    "papermill": {
     "duration": 0.009971,
     "end_time": "2022-12-06T21:36:52.197425",
     "exception": false,
     "start_time": "2022-12-06T21:36:52.187454",
     "status": "completed"
    },
    "tags": []
   },
   "source": [
    "##### **Carbonated Drinks** | 16 Total Products\n"
   ]
  },
  {
   "cell_type": "code",
   "execution_count": 6,
   "id": "84710471",
   "metadata": {
    "execution": {
     "iopub.execute_input": "2022-12-06T21:36:52.219538Z",
     "iopub.status.busy": "2022-12-06T21:36:52.219041Z",
     "iopub.status.idle": "2022-12-06T21:36:52.236057Z",
     "shell.execute_reply": "2022-12-06T21:36:52.234456Z"
    },
    "papermill": {
     "duration": 0.030817,
     "end_time": "2022-12-06T21:36:52.238456",
     "exception": false,
     "start_time": "2022-12-06T21:36:52.207639",
     "status": "completed"
    },
    "tags": []
   },
   "outputs": [
    {
     "name": "stdout",
     "output_type": "stream",
     "text": [
      "                                               Total Sold\n",
      "Product                                                  \n",
      "Coca Cola - Zero Sugar                                517\n",
      "Monster Energy Original                               385\n",
      "Sunkist Soda - Orange                                 217\n",
      "Red Bull - Original                                   157\n",
      "Coca Cola - Regular                                   155\n",
      "Starbucks Refresher - Real Coconut Water               53\n",
      "Spindrift - Sparkling Water - Pineapple                51\n",
      "Keto Krisp - Almond Butter                             27\n",
      "Spindrift - Sparkling Water  Lime                      22\n",
      "Red Bull - Energy Drink - Sugar Free                   21\n",
      "Keto Krisp - Almond/Chocolate                          15\n",
      "Bubly - Cherry                                          5\n",
      "Bubly - Mango                                           5\n",
      "Monster Energy  Zero Ultra                              4\n",
      "S. Pellegrino Essenza Mineral Water - Blood O           3\n",
      "Remedy Kombucha - Ginger Lemon                          2\n"
     ]
    }
   ],
   "source": [
    "# create df filtered for only carbonated drinks\n",
    "carbonated_df = df.loc[df['Category'] == 'Carbonated']\n",
    "\n",
    "# get counts for each product \n",
    "carb_count_overview = carbonated_df.groupby('Product').count()[['RPrice']]\n",
    "carb_count_overview['Total Sold'] = carb_count_overview['RPrice']\n",
    "carb_count_overview = carb_count_overview.drop(['RPrice'], axis=1)\n",
    "carb_count_overview = carb_count_overview.sort_values(by = 'Total Sold', ascending=False)\n",
    "\n",
    "# all total options (16 total)\n",
    "print(carb_count_overview)\n",
    "\n",
    "carb_top_5 = carb_count_overview.head()\n",
    "\n",
    "carb_bottom_11 = carb_count_overview.tail(11)"
   ]
  },
  {
   "cell_type": "markdown",
   "id": "a7a5b7d5",
   "metadata": {
    "papermill": {
     "duration": 0.011162,
     "end_time": "2022-12-06T21:36:52.260229",
     "exception": false,
     "start_time": "2022-12-06T21:36:52.249067",
     "status": "completed"
    },
    "tags": []
   },
   "source": [
    "##### **Top 5 Carbonated Drinks Overall**\n",
    "\n",
    "These are the top 5 carbonated drinks and they also all have over 100 purchases, and they are the main carbonated drinks you should be stocking in these locations"
   ]
  },
  {
   "cell_type": "code",
   "execution_count": 7,
   "id": "83aab58e",
   "metadata": {
    "execution": {
     "iopub.execute_input": "2022-12-06T21:36:52.284858Z",
     "iopub.status.busy": "2022-12-06T21:36:52.283305Z",
     "iopub.status.idle": "2022-12-06T21:36:52.291349Z",
     "shell.execute_reply": "2022-12-06T21:36:52.289632Z"
    },
    "papermill": {
     "duration": 0.022244,
     "end_time": "2022-12-06T21:36:52.293438",
     "exception": false,
     "start_time": "2022-12-06T21:36:52.271194",
     "status": "completed"
    },
    "tags": []
   },
   "outputs": [
    {
     "name": "stdout",
     "output_type": "stream",
     "text": [
      "                         Total Sold\n",
      "Product                            \n",
      "Coca Cola - Zero Sugar          517\n",
      "Monster Energy Original         385\n",
      "Sunkist Soda - Orange           217\n",
      "Red Bull - Original             157\n",
      "Coca Cola - Regular             155\n"
     ]
    }
   ],
   "source": [
    "print(carb_top_5)"
   ]
  },
  {
   "cell_type": "markdown",
   "id": "5a3779fb",
   "metadata": {
    "papermill": {
     "duration": 0.010062,
     "end_time": "2022-12-06T21:36:52.314178",
     "exception": false,
     "start_time": "2022-12-06T21:36:52.304116",
     "status": "completed"
    },
    "tags": []
   },
   "source": [
    "##### **Bottom 11 Carbonated Drinks Overall**\n",
    "These are the drinks that should be reconsidered, especially the ones with less than 30 sold, as they are taking up space in the machines and not frequently bought."
   ]
  },
  {
   "cell_type": "code",
   "execution_count": 8,
   "id": "8140b121",
   "metadata": {
    "execution": {
     "iopub.execute_input": "2022-12-06T21:36:52.337452Z",
     "iopub.status.busy": "2022-12-06T21:36:52.337134Z",
     "iopub.status.idle": "2022-12-06T21:36:52.343158Z",
     "shell.execute_reply": "2022-12-06T21:36:52.342035Z"
    },
    "papermill": {
     "duration": 0.021113,
     "end_time": "2022-12-06T21:36:52.345689",
     "exception": false,
     "start_time": "2022-12-06T21:36:52.324576",
     "status": "completed"
    },
    "tags": []
   },
   "outputs": [
    {
     "name": "stdout",
     "output_type": "stream",
     "text": [
      "                                               Total Sold\n",
      "Product                                                  \n",
      "Starbucks Refresher - Real Coconut Water               53\n",
      "Spindrift - Sparkling Water - Pineapple                51\n",
      "Keto Krisp - Almond Butter                             27\n",
      "Spindrift - Sparkling Water  Lime                      22\n",
      "Red Bull - Energy Drink - Sugar Free                   21\n",
      "Keto Krisp - Almond/Chocolate                          15\n",
      "Bubly - Cherry                                          5\n",
      "Bubly - Mango                                           5\n",
      "Monster Energy  Zero Ultra                              4\n",
      "S. Pellegrino Essenza Mineral Water - Blood O           3\n",
      "Remedy Kombucha - Ginger Lemon                          2\n"
     ]
    }
   ],
   "source": [
    "print(carb_bottom_11)"
   ]
  },
  {
   "cell_type": "markdown",
   "id": "51c1e9ab",
   "metadata": {
    "papermill": {
     "duration": 0.010113,
     "end_time": "2022-12-06T21:36:52.367942",
     "exception": false,
     "start_time": "2022-12-06T21:36:52.357829",
     "status": "completed"
    },
    "tags": []
   },
   "source": [
    "##### **Non-carbonated Drinks** | 24 Total Products"
   ]
  },
  {
   "cell_type": "code",
   "execution_count": 9,
   "id": "9a4984a2",
   "metadata": {
    "execution": {
     "iopub.execute_input": "2022-12-06T21:36:52.390830Z",
     "iopub.status.busy": "2022-12-06T21:36:52.390050Z",
     "iopub.status.idle": "2022-12-06T21:36:52.404528Z",
     "shell.execute_reply": "2022-12-06T21:36:52.403344Z"
    },
    "papermill": {
     "duration": 0.028067,
     "end_time": "2022-12-06T21:36:52.406325",
     "exception": false,
     "start_time": "2022-12-06T21:36:52.378258",
     "status": "completed"
    },
    "tags": []
   },
   "outputs": [
    {
     "name": "stdout",
     "output_type": "stream",
     "text": [
      "                                            Total Sold\n",
      "Product                                               \n",
      "Snapple Diet Tea - Peach Tea                       109\n",
      "Snapple Diet Tea - Lemon                            88\n",
      "Snapple Tea - Raspberry                             79\n",
      "Starbucks Doubleshot Energy - Mocha                 74\n",
      "Iberia Coconut Water                                72\n",
      "Snapple Tea - Lemon                                 51\n",
      "Bai Antioxidant - Tanzania Lemon Super Tea          33\n",
      "Snapple Tea - Peach                                 31\n",
      "Snapple Diet Tea - Raspberry                        28\n",
      "V8 Vegetable Juice - Original                       27\n",
      "BodyArmor  LYTE - Blueberry Pomegranate             23\n",
      "Bai Antioxidant - Molokai Coconut                   12\n",
      "Bai Antioxidant - Zambia Bingcherry                 11\n",
      "Bai Lemonade - Burundi Blueberry                    10\n",
      "Honest Tea - Berry Hibiscus                         10\n",
      "Bai Antioxidant - Kupang strawberry kiwi            10\n",
      "Snapple Lemonade - black berry                       8\n",
      "Snapple Lemonade - pineapple                         8\n",
      "Snapple Lemonade - watermelon                        8\n",
      "Zevia Zero Calorie Energy - Mango Ginger             6\n",
      "Bai Antioxidant - Kula Watermelon                    5\n",
      "Bai Antioxidant - Brasilia BB                        4\n",
      "Spindrift - Sparkling Water Raspberry Lime           2\n",
      "Zevia Organic Tea - Peach                            1\n"
     ]
    }
   ],
   "source": [
    "# create df filtered for only non-carbonated drinks\n",
    "non_carbonated_df = df.loc[df['Category'] == 'Non Carbonated']\n",
    "\n",
    "# get counts for each product \n",
    "non_carb_count_overview = non_carbonated_df.groupby('Product').count()[['RPrice']]\n",
    "non_carb_count_overview['Total Sold'] = non_carb_count_overview['RPrice']\n",
    "non_carb_count_overview = non_carb_count_overview.drop(['RPrice'], axis=1)\n",
    "non_carb_count_overview = non_carb_count_overview.sort_values(by = 'Total Sold', ascending=False)\n",
    "\n",
    "# all total options\n",
    "print(non_carb_count_overview)"
   ]
  },
  {
   "cell_type": "markdown",
   "id": "540d44c5",
   "metadata": {
    "papermill": {
     "duration": 0.010153,
     "end_time": "2022-12-06T21:36:52.427051",
     "exception": false,
     "start_time": "2022-12-06T21:36:52.416898",
     "status": "completed"
    },
    "tags": []
   },
   "source": [
    "##### **Top 5 Non-Carbonated Drinks Overall**\n",
    "\n",
    "These are the top 5 non-carbonated drinks and they also all have over 70 purchases, and they are the main non-carbonated drinks you should be stocking in these locations"
   ]
  },
  {
   "cell_type": "code",
   "execution_count": 10,
   "id": "97275b55",
   "metadata": {
    "execution": {
     "iopub.execute_input": "2022-12-06T21:36:52.449906Z",
     "iopub.status.busy": "2022-12-06T21:36:52.449612Z",
     "iopub.status.idle": "2022-12-06T21:36:52.456103Z",
     "shell.execute_reply": "2022-12-06T21:36:52.455157Z"
    },
    "papermill": {
     "duration": 0.020365,
     "end_time": "2022-12-06T21:36:52.457951",
     "exception": false,
     "start_time": "2022-12-06T21:36:52.437586",
     "status": "completed"
    },
    "tags": []
   },
   "outputs": [
    {
     "name": "stdout",
     "output_type": "stream",
     "text": [
      "                                     Total Sold\n",
      "Product                                        \n",
      "Snapple Diet Tea - Peach Tea                109\n",
      "Snapple Diet Tea - Lemon                     88\n",
      "Snapple Tea - Raspberry                      79\n",
      "Starbucks Doubleshot Energy - Mocha          74\n",
      "Iberia Coconut Water                         72\n"
     ]
    }
   ],
   "source": [
    "print(non_carb_count_overview.head())"
   ]
  },
  {
   "cell_type": "markdown",
   "id": "43046d21",
   "metadata": {
    "papermill": {
     "duration": 0.010403,
     "end_time": "2022-12-06T21:36:52.479153",
     "exception": false,
     "start_time": "2022-12-06T21:36:52.468750",
     "status": "completed"
    },
    "tags": []
   },
   "source": [
    "##### **Bottom 19 Non-Carbonated Drinks Overall**\n",
    "These non-carbonated drinks are not as popular in these locations and they need to be reconsidered, if there is space for more non-carbonated drinks then the most popular of this table should be given the most consideration. (Top 3-5)"
   ]
  },
  {
   "cell_type": "code",
   "execution_count": 11,
   "id": "4027ff0a",
   "metadata": {
    "execution": {
     "iopub.execute_input": "2022-12-06T21:36:52.505968Z",
     "iopub.status.busy": "2022-12-06T21:36:52.505595Z",
     "iopub.status.idle": "2022-12-06T21:36:52.514056Z",
     "shell.execute_reply": "2022-12-06T21:36:52.512518Z"
    },
    "papermill": {
     "duration": 0.026799,
     "end_time": "2022-12-06T21:36:52.516911",
     "exception": false,
     "start_time": "2022-12-06T21:36:52.490112",
     "status": "completed"
    },
    "tags": []
   },
   "outputs": [
    {
     "name": "stdout",
     "output_type": "stream",
     "text": [
      "                                            Total Sold\n",
      "Product                                               \n",
      "Snapple Tea - Lemon                                 51\n",
      "Bai Antioxidant - Tanzania Lemon Super Tea          33\n",
      "Snapple Tea - Peach                                 31\n",
      "Snapple Diet Tea - Raspberry                        28\n",
      "V8 Vegetable Juice - Original                       27\n",
      "BodyArmor  LYTE - Blueberry Pomegranate             23\n",
      "Bai Antioxidant - Molokai Coconut                   12\n",
      "Bai Antioxidant - Zambia Bingcherry                 11\n",
      "Bai Lemonade - Burundi Blueberry                    10\n",
      "Honest Tea - Berry Hibiscus                         10\n",
      "Bai Antioxidant - Kupang strawberry kiwi            10\n",
      "Snapple Lemonade - black berry                       8\n",
      "Snapple Lemonade - pineapple                         8\n",
      "Snapple Lemonade - watermelon                        8\n",
      "Zevia Zero Calorie Energy - Mango Ginger             6\n",
      "Bai Antioxidant - Kula Watermelon                    5\n",
      "Bai Antioxidant - Brasilia BB                        4\n",
      "Spindrift - Sparkling Water Raspberry Lime           2\n",
      "Zevia Organic Tea - Peach                            1\n"
     ]
    }
   ],
   "source": [
    "print(non_carb_count_overview.tail(19))"
   ]
  },
  {
   "cell_type": "markdown",
   "id": "6e7b1b8e",
   "metadata": {
    "papermill": {
     "duration": 0.012984,
     "end_time": "2022-12-06T21:36:52.543578",
     "exception": false,
     "start_time": "2022-12-06T21:36:52.530594",
     "status": "completed"
    },
    "tags": []
   },
   "source": [
    "### Hypothesis #2\n",
    "The average revenue per carbonated drink is **equal to** the average revenue for drinks in the water category\n",
    "> Assuming there is equal demand (purchases) among the two categories"
   ]
  },
  {
   "cell_type": "code",
   "execution_count": 12,
   "id": "14e82b22",
   "metadata": {
    "execution": {
     "iopub.execute_input": "2022-12-06T21:36:52.567743Z",
     "iopub.status.busy": "2022-12-06T21:36:52.567439Z",
     "iopub.status.idle": "2022-12-06T21:36:52.793366Z",
     "shell.execute_reply": "2022-12-06T21:36:52.792615Z"
    },
    "papermill": {
     "duration": 0.239552,
     "end_time": "2022-12-06T21:36:52.795073",
     "exception": false,
     "start_time": "2022-12-06T21:36:52.555521",
     "status": "completed"
    },
    "tags": []
   },
   "outputs": [
    {
     "name": "stdout",
     "output_type": "stream",
     "text": [
      "-5.038787638137021 5.081582172672138e-07\n",
      "AxesSubplot(0.125,0.125;0.775x0.755)\n"
     ]
    },
    {
     "data": {
      "image/png": "[encoded data removed]",
      "text/plain": [
       "<Figure size 432x288 with 1 Axes>"
      ]
     },
     "metadata": {},
     "output_type": "display_data"
    }
   ],
   "source": [
    "# create data frames for carbonated and water categories\n",
    "# df_carb = df.loc[df['Category'] == 'Carbonated']\n",
    "df_water = df.loc[df['Category'] == 'Water']\n",
    "\n",
    "# conduct t-test to test for signif\n",
    "tc2, pc2 = ttest_ind(df_water['RPrice'], df_carb['RPrice'])\n",
    "print(tc2, pc2)\n",
    "\n",
    "# context \n",
    "from numpy import mean\n",
    "t_2 = df[df['Category'].isin(['Carbonated', 'Water'])]\n",
    "h_2 = sns.barplot(x = 'Category', y = 'RPrice', data = t_2, estimator = mean)\n",
    "print(h_2)"
   ]
  },
  {
   "cell_type": "markdown",
   "id": "40e5ce8a",
   "metadata": {
    "papermill": {
     "duration": 0.010526,
     "end_time": "2022-12-06T21:36:52.816448",
     "exception": false,
     "start_time": "2022-12-06T21:36:52.805922",
     "status": "completed"
    },
    "tags": []
   },
   "source": [
    "### Hypothesis #2 Summary\n",
    "- The above bar chart shows the average revenue per product for both carbonated and water beverages\n",
    "- I reject **Hypothesis #2** as the average revenue per cabonated beverage is **higher** than that of the beverages in the water category\n",
    " - This is a significant difference at a 95% confidence level | p < .01 \n",
    "\n",
    "<br>\n",
    "From here it is time to investigate the selection of water."
   ]
  },
  {
   "cell_type": "markdown",
   "id": "4caefb65",
   "metadata": {
    "papermill": {
     "duration": 0.012689,
     "end_time": "2022-12-06T21:36:52.843661",
     "exception": false,
     "start_time": "2022-12-06T21:36:52.830972",
     "status": "completed"
    },
    "tags": []
   },
   "source": [
    "##### **Water** | 11 Total Products"
   ]
  },
  {
   "cell_type": "code",
   "execution_count": 13,
   "id": "bf3a42ad",
   "metadata": {
    "execution": {
     "iopub.execute_input": "2022-12-06T21:36:52.870206Z",
     "iopub.status.busy": "2022-12-06T21:36:52.869903Z",
     "iopub.status.idle": "2022-12-06T21:36:52.883258Z",
     "shell.execute_reply": "2022-12-06T21:36:52.882241Z"
    },
    "papermill": {
     "duration": 0.027858,
     "end_time": "2022-12-06T21:36:52.885216",
     "exception": false,
     "start_time": "2022-12-06T21:36:52.857358",
     "status": "completed"
    },
    "tags": []
   },
   "outputs": [
    {
     "name": "stdout",
     "output_type": "stream",
     "text": [
      "                                         Total Sold\n",
      "Product                                            \n",
      "Poland Springs Water                            300\n",
      "S. Pellegrino Sparkling Mineral Water            66\n",
      "BodyArmor LYTE - Strawberry Lemonade             33\n",
      "Vitamin Water - Squeezed Lemonade                25\n",
      "BodyArmor LYTE  - Peach Mango                    19\n",
      "Vitamin Water - XXX Acai BB Pomegranate          17\n",
      "Vitamin Water - Ice Cool Blue Lavender           10\n",
      "Bubly - Blackberry                                4\n",
      "Bubly - Lime                                      4\n",
      "Bubly - Grapefruit                                3\n",
      "BodyArmor LYTE  - Berry Punch                     2\n"
     ]
    }
   ],
   "source": [
    "# create df filtered for only water\n",
    "water_df = df.loc[df['Category'] == 'Water']\n",
    "\n",
    "# get counts for each product \n",
    "water_count_overview = water_df.groupby('Product').count()[['RPrice']]\n",
    "water_count_overview['Total Sold'] = water_count_overview['RPrice']\n",
    "water_count_overview = water_count_overview.drop(['RPrice'], axis=1)\n",
    "water_count_overview = water_count_overview.sort_values(by = 'Total Sold', ascending=False)\n",
    "\n",
    "# all total options\n",
    "print(water_count_overview)"
   ]
  },
  {
   "cell_type": "markdown",
   "id": "fb873e6e",
   "metadata": {
    "papermill": {
     "duration": 0.011152,
     "end_time": "2022-12-06T21:36:52.910317",
     "exception": false,
     "start_time": "2022-12-06T21:36:52.899165",
     "status": "completed"
    },
    "tags": []
   },
   "source": [
    "##### **Top Water Product Overall**\n",
    "\n",
    "The Poland Springs Water is by far the most popular."
   ]
  },
  {
   "cell_type": "code",
   "execution_count": 14,
   "id": "7ee87836",
   "metadata": {
    "execution": {
     "iopub.execute_input": "2022-12-06T21:36:52.934575Z",
     "iopub.status.busy": "2022-12-06T21:36:52.933987Z",
     "iopub.status.idle": "2022-12-06T21:36:52.940458Z",
     "shell.execute_reply": "2022-12-06T21:36:52.938813Z"
    },
    "papermill": {
     "duration": 0.020933,
     "end_time": "2022-12-06T21:36:52.942518",
     "exception": false,
     "start_time": "2022-12-06T21:36:52.921585",
     "status": "completed"
    },
    "tags": []
   },
   "outputs": [
    {
     "name": "stdout",
     "output_type": "stream",
     "text": [
      "                      Total Sold\n",
      "Product                         \n",
      "Poland Springs Water         300\n"
     ]
    }
   ],
   "source": [
    "print(water_count_overview.head(1))"
   ]
  },
  {
   "cell_type": "markdown",
   "id": "d1780c79",
   "metadata": {
    "papermill": {
     "duration": 0.010891,
     "end_time": "2022-12-06T21:36:52.964713",
     "exception": false,
     "start_time": "2022-12-06T21:36:52.953822",
     "status": "completed"
    },
    "tags": []
   },
   "source": [
    "##### **Bottom 10 Water Products Overall**\n",
    "\n",
    "As water does not generate a large portion of revenue, and with limited space it is recomended to replace these poor performing water products and consider other non-water beverages or food that sells more frequently or generates more revenue in these locations."
   ]
  },
  {
   "cell_type": "code",
   "execution_count": 15,
   "id": "0fc0b857",
   "metadata": {
    "execution": {
     "iopub.execute_input": "2022-12-06T21:36:52.988772Z",
     "iopub.status.busy": "2022-12-06T21:36:52.988418Z",
     "iopub.status.idle": "2022-12-06T21:36:52.994154Z",
     "shell.execute_reply": "2022-12-06T21:36:52.993283Z"
    },
    "papermill": {
     "duration": 0.020458,
     "end_time": "2022-12-06T21:36:52.996207",
     "exception": false,
     "start_time": "2022-12-06T21:36:52.975749",
     "status": "completed"
    },
    "tags": []
   },
   "outputs": [
    {
     "name": "stdout",
     "output_type": "stream",
     "text": [
      "                                         Total Sold\n",
      "Product                                            \n",
      "S. Pellegrino Sparkling Mineral Water            66\n",
      "BodyArmor LYTE - Strawberry Lemonade             33\n",
      "Vitamin Water - Squeezed Lemonade                25\n",
      "BodyArmor LYTE  - Peach Mango                    19\n",
      "Vitamin Water - XXX Acai BB Pomegranate          17\n",
      "Vitamin Water - Ice Cool Blue Lavender           10\n",
      "Bubly - Blackberry                                4\n",
      "Bubly - Lime                                      4\n",
      "Bubly - Grapefruit                                3\n",
      "BodyArmor LYTE  - Berry Punch                     2\n"
     ]
    }
   ],
   "source": [
    "print(water_count_overview.tail(10))"
   ]
  },
  {
   "cell_type": "markdown",
   "id": "bbd4fb18",
   "metadata": {
    "papermill": {
     "duration": 0.010763,
     "end_time": "2022-12-06T21:36:53.018212",
     "exception": false,
     "start_time": "2022-12-06T21:36:53.007449",
     "status": "completed"
    },
    "tags": []
   },
   "source": [
    "### Hypothesis #3\n",
    "The average revenue per carbonated drink is **equal to** the average revenue for food products.\n",
    "> Assuming there is equal demand (purchases) among the two categories"
   ]
  },
  {
   "cell_type": "code",
   "execution_count": 16,
   "id": "5c76927c",
   "metadata": {
    "execution": {
     "iopub.execute_input": "2022-12-06T21:36:53.042488Z",
     "iopub.status.busy": "2022-12-06T21:36:53.041961Z",
     "iopub.status.idle": "2022-12-06T21:36:53.281148Z",
     "shell.execute_reply": "2022-12-06T21:36:53.280422Z"
    },
    "papermill": {
     "duration": 0.25369,
     "end_time": "2022-12-06T21:36:53.283034",
     "exception": false,
     "start_time": "2022-12-06T21:36:53.029344",
     "status": "completed"
    },
    "tags": []
   },
   "outputs": [
    {
     "name": "stdout",
     "output_type": "stream",
     "text": [
      "-19.521880709626263 6.853161341994257e-82\n",
      "AxesSubplot(0.125,0.125;0.775x0.755)\n"
     ]
    },
    {
     "data": {
      "image/png": "[encoded data removed]",
      "text/plain": [
       "<Figure size 432x288 with 1 Axes>"
      ]
     },
     "metadata": {},
     "output_type": "display_data"
    }
   ],
   "source": [
    "# create data frames for carbonated and water categories\n",
    "# df_carb = df.loc[df['Category'] == 'Carbonated']\n",
    "df_food = df.loc[df['Category'] == 'Food']\n",
    "\n",
    "# conduct t-test to test for signif\n",
    "tc3, pc3 = ttest_ind(df_food['RPrice'], df_carb['RPrice'])\n",
    "print(tc3, pc3)\n",
    "\n",
    "# context \n",
    "from numpy import mean\n",
    "t_3 = df[df['Category'].isin(['Carbonated', 'Food'])]\n",
    "h_3 = sns.barplot(x = 'Category', y = 'RPrice', data = t_3, estimator = mean)\n",
    "print(h_3)"
   ]
  },
  {
   "cell_type": "markdown",
   "id": "42b08fe8",
   "metadata": {
    "papermill": {
     "duration": 0.011484,
     "end_time": "2022-12-06T21:36:53.307034",
     "exception": false,
     "start_time": "2022-12-06T21:36:53.295550",
     "status": "completed"
    },
    "tags": []
   },
   "source": [
    "### Hypothesis #3 Summary\n",
    "- The above bar chart shows the average revenue per product for both carbonated drinks and food\n",
    "- I reject **Hypothesis #3** as the average revenue per cabonated beverage is **higher** than the average revenue per food product\n",
    " - This is a significant difference at a 95% confidence level | p < .01 \n",
    "\n",
    "<br>\n",
    "From here we can look at the food selection and options"
   ]
  },
  {
   "cell_type": "markdown",
   "id": "2eb88fa2",
   "metadata": {
    "papermill": {
     "duration": 0.011621,
     "end_time": "2022-12-06T21:36:53.330625",
     "exception": false,
     "start_time": "2022-12-06T21:36:53.319004",
     "status": "completed"
    },
    "tags": []
   },
   "source": [
    "##### **Food** | 111 Total Products"
   ]
  },
  {
   "cell_type": "code",
   "execution_count": 17,
   "id": "d10d5957",
   "metadata": {
    "execution": {
     "iopub.execute_input": "2022-12-06T21:36:53.357314Z",
     "iopub.status.busy": "2022-12-06T21:36:53.356830Z",
     "iopub.status.idle": "2022-12-06T21:36:53.370525Z",
     "shell.execute_reply": "2022-12-06T21:36:53.369793Z"
    },
    "papermill": {
     "duration": 0.028785,
     "end_time": "2022-12-06T21:36:53.372216",
     "exception": false,
     "start_time": "2022-12-06T21:36:53.343431",
     "status": "completed"
    },
    "tags": []
   },
   "outputs": [
    {
     "name": "stdout",
     "output_type": "stream",
     "text": [
      "                                               Total Sold\n",
      "Product                                                  \n",
      "KitKat - Crisp Wafers                                 260\n",
      "Wonderful Pistachios - Variety                        144\n",
      "CheezIt - Original                                    138\n",
      "SunChips Multigrain - Harvest Cheddar                 131\n",
      "Robert Irvine's - Fit Crunch -  Chocolate Pea         121\n",
      "...                                                   ...\n",
      "Nature's Garden Trail Mix - Heart Healthy Mix           1\n",
      "Nature's Garden Trail Mix - Omega 3                     1\n",
      "Nature's Valley Chewy Granola Bar - Fruit & N           1\n",
      "Nature's Valley Crunchy Granola Bar - Oats &            1\n",
      "Larabar - Peanut Butter chocolate Chip                  1\n",
      "\n",
      "[111 rows x 1 columns]\n"
     ]
    }
   ],
   "source": [
    "# create df filtered for only food\n",
    "food_df = df.loc[df['Category'] == 'Food']\n",
    "\n",
    "# get counts for each product \n",
    "food_count_overview = food_df.groupby('Product').count()[['RPrice']]\n",
    "food_count_overview['Total Sold'] = food_count_overview['RPrice']\n",
    "food_count_overview = food_count_overview.drop(['RPrice'], axis=1)\n",
    "food_count_overview = food_count_overview.sort_values(by = 'Total Sold', ascending=False)\n",
    "\n",
    "# all total options\n",
    "print(food_count_overview)"
   ]
  },
  {
   "cell_type": "markdown",
   "id": "78574d43",
   "metadata": {
    "papermill": {
     "duration": 0.012478,
     "end_time": "2022-12-06T21:36:53.396626",
     "exception": false,
     "start_time": "2022-12-06T21:36:53.384148",
     "status": "completed"
    },
    "tags": []
   },
   "source": [
    "##### **Top Food Products** | Greater than 25 units sold to date\n",
    "These are the food products that are the most popular and should be kept in the machines."
   ]
  },
  {
   "cell_type": "code",
   "execution_count": 18,
   "id": "72df5a9e",
   "metadata": {
    "execution": {
     "iopub.execute_input": "2022-12-06T21:36:53.421868Z",
     "iopub.status.busy": "2022-12-06T21:36:53.421555Z",
     "iopub.status.idle": "2022-12-06T21:36:53.429288Z",
     "shell.execute_reply": "2022-12-06T21:36:53.428199Z"
    },
    "papermill": {
     "duration": 0.022593,
     "end_time": "2022-12-06T21:36:53.431414",
     "exception": false,
     "start_time": "2022-12-06T21:36:53.408821",
     "status": "completed"
    },
    "tags": []
   },
   "outputs": [
    {
     "name": "stdout",
     "output_type": "stream",
     "text": [
      "                                               Total Sold\n",
      "Product                                                  \n",
      "KitKat - Crisp Wafers                                 260\n",
      "Wonderful Pistachios - Variety                        144\n",
      "CheezIt - Original                                    138\n",
      "SunChips Multigrain - Harvest Cheddar                 131\n",
      "Robert Irvine's - Fit Crunch -  Chocolate Pea         121\n",
      "Oreo Mini                                             109\n",
      "SunChips Multigrain - Salsa                           105\n",
      "Takis - Hot Chilli Pepper & Lime                       96\n",
      "Goldfish Baked - Cheddar                               91\n",
      "Cheetos - Fleming Hot Crunchy                          83\n",
      "Funyuns - Flaming Hot                                  82\n",
      "SunChips Multigrain - Original                         72\n",
      "Cheetos Flaming Hot Limon Crunchy                      64\n",
      "Chesters Fries Flaming hot                             59\n",
      "Kinder - Bueno - Crispy Creamy Chocolate               59\n",
      "Good Health Veggie Stix - Sea Salt                     53\n",
      "Oreo Single Server 6 ct                                53\n",
      "Miss Vickie's Potato Chip - Sea Salt & Vinega          53\n",
      "Miss Vickie's Potato Chip - Jalapeno                   50\n",
      "Takis FUGEO mini                                       48\n",
      "Miss Vickie's Potato Chip - Smokehouse BBQ             47\n",
      "Lays - Classic                                         46\n",
      "Pop Corners - Sea Salt                                 44\n",
      "Pop Corners - Kettle Corn                              43\n",
      "Pop Corners - White Cheddar                            41\n",
      "Miss Vickie's Potato Chip - Sea Salt Original          40\n",
      "Nature's Bakery Fig Bar - Blueberry                    39\n",
      "Miss Vickie's Potato Chip - Lime & Cracked Pe          38\n",
      "Fritos - Original                                      37\n",
      "CheezIt - Double Cheese                                37\n",
      "Keto Bar - Creamy Peanut Butter Chocolate              35\n",
      "Seapoint Farms Dry Roasted Edamame - Wasabi            34\n",
      "RXBAR - Protein Bar - Peanut Butter                    34\n",
      "Jacks Links Bar Beef Strip                             33\n",
      "Belvita Snack Packs - Blueberry                        32\n",
      "CheezIt - White Cheddar                                32\n",
      "Nutri Grain Apple Cinnamon                             32\n",
      "Newtons Fig Bar                                        32\n",
      "Nature's Bakery Fig Bar - Raspberry                    31\n",
      "Pop Corners - Spicy Queso                              30\n",
      "Lenny & Larrys - Chocolate Chip                        29\n",
      "CheezIt - Cheddar Sour Cream and Onion                 29\n",
      "Doritos Nacho Cheese                                   28\n",
      "Doritos Famin Hot Nacho                                28\n",
      "Genius Keto Bar - Chocolate Dream                      28\n",
      "Cheetos Puffs                                          28\n",
      "Lenny & Larrys - SnickerDoodle                         26\n",
      "Good Health Veggie Stix - Zesty Ranch                  26\n"
     ]
    }
   ],
   "source": [
    "food_greater_than_25 = food_count_overview[food_count_overview['Total Sold'] > 25]\n",
    "print(food_greater_than_25)"
   ]
  },
  {
   "cell_type": "markdown",
   "id": "c16da734",
   "metadata": {
    "papermill": {
     "duration": 0.011506,
     "end_time": "2022-12-06T21:36:53.454920",
     "exception": false,
     "start_time": "2022-12-06T21:36:53.443414",
     "status": "completed"
    },
    "tags": []
   },
   "source": [
    "##### **Bottom Food Products** | Less than 25 units sold to date\n",
    "These food products are not very popular and should be reconsidered. The products with only single digit sales should be removed, and products with double digit sales can be rotated in at specific locations upon request or if supply is short for other products."
   ]
  },
  {
   "cell_type": "code",
   "execution_count": 19,
   "id": "6d3f98cb",
   "metadata": {
    "execution": {
     "iopub.execute_input": "2022-12-06T21:36:53.480712Z",
     "iopub.status.busy": "2022-12-06T21:36:53.480399Z",
     "iopub.status.idle": "2022-12-06T21:36:53.489514Z",
     "shell.execute_reply": "2022-12-06T21:36:53.488130Z"
    },
    "papermill": {
     "duration": 0.024638,
     "end_time": "2022-12-06T21:36:53.491419",
     "exception": false,
     "start_time": "2022-12-06T21:36:53.466781",
     "status": "completed"
    },
    "tags": []
   },
   "outputs": [
    {
     "name": "stdout",
     "output_type": "stream",
     "text": [
      "                                               Total Sold\n",
      "Product                                                  \n",
      "Ritz Bits Cheese                                       23\n",
      "Mini Chips Ahoy                                        23\n",
      "Cheetos - Crunchy                                      23\n",
      "Popchips Potato - Sea Salt                             22\n",
      "Snyder's of Hanover Pretzel Pieces - Honey Mu          20\n",
      "...                                                   ...\n",
      "Nature's Garden Trail Mix - Heart Healthy Mix           1\n",
      "Nature's Garden Trail Mix - Omega 3                     1\n",
      "Nature's Valley Chewy Granola Bar - Fruit & N           1\n",
      "Nature's Valley Crunchy Granola Bar - Oats &            1\n",
      "Larabar - Peanut Butter chocolate Chip                  1\n",
      "\n",
      "[62 rows x 1 columns]\n"
     ]
    }
   ],
   "source": [
    "food_less_than_25 = food_count_overview[food_count_overview['Total Sold'] < 25]\n",
    "print(food_less_than_25)"
   ]
  },
  {
   "cell_type": "markdown",
   "id": "8abbc0dd",
   "metadata": {
    "papermill": {
     "duration": 0.011409,
     "end_time": "2022-12-06T21:36:53.514882",
     "exception": false,
     "start_time": "2022-12-06T21:36:53.503473",
     "status": "completed"
    },
    "tags": []
   },
   "source": [
    "#### **Location Analysis**\n",
    "> Location matters...but the products demanded changes by location"
   ]
  },
  {
   "cell_type": "code",
   "execution_count": 20,
   "id": "f8ccdcd6",
   "metadata": {
    "execution": {
     "iopub.execute_input": "2022-12-06T21:36:53.541529Z",
     "iopub.status.busy": "2022-12-06T21:36:53.540108Z",
     "iopub.status.idle": "2022-12-06T21:36:53.861811Z",
     "shell.execute_reply": "2022-12-06T21:36:53.860862Z"
    },
    "papermill": {
     "duration": 0.337241,
     "end_time": "2022-12-06T21:36:53.863966",
     "exception": false,
     "start_time": "2022-12-06T21:36:53.526725",
     "status": "completed"
    },
    "tags": []
   },
   "outputs": [
    {
     "name": "stdout",
     "output_type": "stream",
     "text": [
      "                                  Total Revenue\n",
      "Location          Category                     \n",
      "GuttenPlans       Carbonated            2241.00\n",
      "EB Public Library Food                  1997.75\n",
      "GuttenPlans       Food                  1972.25\n",
      "Earle Asphalt     Food                  1005.00\n",
      "Brunswick Sq Mall Food                   860.25\n",
      "EB Public Library Non Carbonated         746.00\n",
      "GuttenPlans       Non Carbonated         565.00\n",
      "Brunswick Sq Mall Water                  533.50\n",
      "EB Public Library Carbonated             524.00\n",
      "Brunswick Sq Mall Carbonated             521.00\n",
      "                  Non Carbonated         436.25\n",
      "EB Public Library Water                  326.75\n",
      "Earle Asphalt     Carbonated              85.50\n",
      "                  Non Carbonated          64.00\n",
      "                  Water                   33.00\n"
     ]
    },
    {
     "data": {
      "text/plain": [
       "<AxesSubplot:xlabel='Location', ylabel='RPrice'>"
      ]
     },
     "execution_count": 20,
     "metadata": {},
     "output_type": "execute_result"
    },
    {
     "data": {
      "image/png": "[encoded data removed]",
      "text/plain": [
       "<Figure size 432x288 with 1 Axes>"
      ]
     },
     "metadata": {},
     "output_type": "display_data"
    }
   ],
   "source": [
    "# revenue overview for all locations\n",
    "# wine_df.groupby(['quality', 'color'], as_index=False)['pH'].mean() \n",
    "#(im learning python still so this above code ex. helped me...credit to Yaron Shamash for explaining pandas!)\n",
    "\n",
    "location_overview = df.groupby(['Location', 'Category']).sum()[['RPrice']]\n",
    "location_overview['Total Revenue'] = location_overview['RPrice']\n",
    "location_overview = location_overview.drop(['RPrice'], axis=1)\n",
    "location_overview = location_overview.sort_values(by = 'Total Revenue', ascending=False)\n",
    "print(location_overview)\n",
    "\n",
    "# shows avg revenue but I want total revenue \n",
    "# issue with groups \n",
    "sns.barplot(x = 'Location', y = 'RPrice', data = df)"
   ]
  },
  {
   "cell_type": "markdown",
   "id": "a2c5e25b",
   "metadata": {
    "papermill": {
     "duration": 0.013316,
     "end_time": "2022-12-06T21:36:53.890989",
     "exception": false,
     "start_time": "2022-12-06T21:36:53.877673",
     "status": "completed"
    },
    "tags": []
   },
   "source": [
    "##### **Brunswick Sq Mall** | 2 Vending Machines\n",
    "Brunswick Sq Mall - Mall with average foot traffic 7 days a week. Vending machine(s): \n",
    "> - BSQ Mall x1364\n",
    "> - Zales & BSQ Mall x1366 - ATT"
   ]
  },
  {
   "cell_type": "code",
   "execution_count": 21,
   "id": "784f7c3b",
   "metadata": {
    "execution": {
     "iopub.execute_input": "2022-12-06T21:36:53.918294Z",
     "iopub.status.busy": "2022-12-06T21:36:53.917326Z",
     "iopub.status.idle": "2022-12-06T21:36:53.935708Z",
     "shell.execute_reply": "2022-12-06T21:36:53.934950Z"
    },
    "papermill": {
     "duration": 0.03418,
     "end_time": "2022-12-06T21:36:53.937884",
     "exception": false,
     "start_time": "2022-12-06T21:36:53.903704",
     "status": "completed"
    },
    "tags": []
   },
   "outputs": [
    {
     "name": "stdout",
     "output_type": "stream",
     "text": [
      "                Total Revenue\n",
      "Category                     \n",
      "Food                   860.25\n",
      "Water                  533.50\n",
      "Carbonated             521.00\n",
      "Non Carbonated         436.25\n",
      "                Percent of Sales\n",
      "Category                        \n",
      "Food                       43.88\n",
      "Water                      23.33\n",
      "Carbonated                 18.03\n",
      "Non Carbonated             14.76\n"
     ]
    }
   ],
   "source": [
    "# filter for Brunswick Sq Mall and get total revenue\n",
    "mall = df.loc[df['Location'] == 'Brunswick Sq Mall']\n",
    "mall_overview = mall.groupby(\"Category\").sum()[['RPrice']]\n",
    "mall_overview['Total Revenue'] = mall_overview['RPrice']\n",
    "mall_overview = mall_overview.drop(['RPrice'], axis=1)\n",
    "mall_overview = mall_overview.sort_values(by = 'Total Revenue', ascending=False)\n",
    "print(mall_overview)\n",
    "\n",
    "# get counts for each category (then calculate percent of total)\n",
    "mall_count_overview = mall.groupby('Category').count()[['RPrice']]\n",
    "mall_count_overview['Percent of Sales'] = round(mall_count_overview['RPrice'] / 1226 * 100,2)\n",
    "mall_count_overview = mall_count_overview.drop(['RPrice'], axis=1)\n",
    "mall_count_overview = mall_count_overview.sort_values(by = 'Percent of Sales', ascending=False)\n",
    "\n",
    "print(mall_count_overview)"
   ]
  },
  {
   "cell_type": "markdown",
   "id": "2c26e1e7",
   "metadata": {
    "papermill": {
     "duration": 0.012328,
     "end_time": "2022-12-06T21:36:53.966013",
     "exception": false,
     "start_time": "2022-12-06T21:36:53.953685",
     "status": "completed"
    },
    "tags": []
   },
   "source": [
    "#### **Optimizing Brunswick Sq Mall**\n",
    "The mall location makes up over half it's sales in **food** and **water**, so the stock of the vending machine should represent this. \n",
    "> - More food and water options, with the carbonated and non-carbonated options only being the most popular overall\n",
    "\n",
    "Brunswick Mall has 2 vending machines, but does it **really need both**? \n",
    "\n",
    "First, I want to see if there is any difference in the product categories, as sometimes vending machines may have only drinks, only snacks or both..."
   ]
  },
  {
   "cell_type": "code",
   "execution_count": 22,
   "id": "8dc6cf3b",
   "metadata": {
    "execution": {
     "iopub.execute_input": "2022-12-06T21:36:53.993470Z",
     "iopub.status.busy": "2022-12-06T21:36:53.993121Z",
     "iopub.status.idle": "2022-12-06T21:36:54.015424Z",
     "shell.execute_reply": "2022-12-06T21:36:54.013870Z"
    },
    "papermill": {
     "duration": 0.038254,
     "end_time": "2022-12-06T21:36:54.017838",
     "exception": false,
     "start_time": "2022-12-06T21:36:53.979584",
     "status": "completed"
    },
    "tags": []
   },
   "outputs": [
    {
     "name": "stdout",
     "output_type": "stream",
     "text": [
      "                Total Revenue\n",
      "Category                     \n",
      "Food                   345.25\n",
      "Carbonated             284.75\n",
      "Water                  228.25\n",
      "Non Carbonated         200.50\n",
      "                Total Revenue\n",
      "Category                     \n",
      "Food                   515.00\n",
      "Water                  305.25\n",
      "Carbonated             236.25\n",
      "Non Carbonated         235.75\n"
     ]
    }
   ],
   "source": [
    "# create data frame for mall machine 'ATT'\n",
    "mall_att = mall.loc[mall['Machine'] == 'BSQ Mall x1366 - ATT']\n",
    "mall_att = mall_att.groupby(\"Category\").sum()[['RPrice']]\n",
    "mall_att['Total Revenue'] = mall_att['RPrice']\n",
    "mall_att = mall_att.drop(['RPrice'], axis=1)\n",
    "mall_att = mall_att.sort_values(by = 'Total Revenue', ascending=False)\n",
    "print(mall_att)\n",
    "\n",
    "# create data frame for mall machine 'Zales'\n",
    "mall_zales = mall.loc[mall['Machine'] == 'BSQ Mall x1364 - Zales']\n",
    "mall_zales = mall_zales.groupby(\"Category\").sum()[['RPrice']]\n",
    "mall_zales['Total Revenue'] = mall_zales['RPrice']\n",
    "mall_zales = mall_zales.drop(['RPrice'], axis=1)\n",
    "mall_zales = mall_zales.sort_values(by = 'Total Revenue', ascending=False)\n",
    "print(mall_zales)"
   ]
  },
  {
   "cell_type": "markdown",
   "id": "d0597446",
   "metadata": {
    "papermill": {
     "duration": 0.012235,
     "end_time": "2022-12-06T21:36:54.043212",
     "exception": false,
     "start_time": "2022-12-06T21:36:54.030977",
     "status": "completed"
    },
    "tags": []
   },
   "source": [
    "Both vending machines have all 4 categories, and low revenue, *but which one should they keep?*"
   ]
  },
  {
   "cell_type": "markdown",
   "id": "33da703c",
   "metadata": {
    "papermill": {
     "duration": 0.012442,
     "end_time": "2022-12-06T21:36:54.068158",
     "exception": false,
     "start_time": "2022-12-06T21:36:54.055716",
     "status": "completed"
    },
    "tags": []
   },
   "source": [
    "### Hypothesis #4\n",
    "The average product revenue for the mall 'ATT' machine is **equal to** the average product revenue for the mall 'Zales' machine.\n",
    "\n",
    "The machine with the highest average revenue per product will be the one the mall keeps..."
   ]
  },
  {
   "cell_type": "code",
   "execution_count": 23,
   "id": "6838b721",
   "metadata": {
    "execution": {
     "iopub.execute_input": "2022-12-06T21:36:54.095422Z",
     "iopub.status.busy": "2022-12-06T21:36:54.095080Z",
     "iopub.status.idle": "2022-12-06T21:36:54.312365Z",
     "shell.execute_reply": "2022-12-06T21:36:54.311051Z"
    },
    "papermill": {
     "duration": 0.233571,
     "end_time": "2022-12-06T21:36:54.314366",
     "exception": false,
     "start_time": "2022-12-06T21:36:54.080795",
     "status": "completed"
    },
    "tags": []
   },
   "outputs": [
    {
     "name": "stdout",
     "output_type": "stream",
     "text": [
      "7.880272278936319 7.172869260118651e-15\n",
      "AxesSubplot(0.125,0.125;0.775x0.755)\n"
     ]
    },
    {
     "data": {
      "image/png": "[encoded data removed]",
      "text/plain": [
       "<Figure size 432x288 with 1 Axes>"
      ]
     },
     "metadata": {},
     "output_type": "display_data"
    }
   ],
   "source": [
    "# create data frames for carbonated and water categories\n",
    "df_mall_a = df.loc[df['Machine'] == 'BSQ Mall x1366 - ATT']\n",
    "df_mall_z = df.loc[df['Machine'] == 'BSQ Mall x1364 - Zales']\n",
    "\n",
    "# conduct t-test to test for signif\n",
    "tc4, pc4 = ttest_ind(df_mall_a['RPrice'], df_mall_z['RPrice'])\n",
    "print(tc4, pc4)\n",
    "\n",
    "# context \n",
    "from numpy import mean\n",
    "t_4 = df[df['Machine'].isin(['BSQ Mall x1366 - ATT', 'BSQ Mall x1364 - Zales'])]\n",
    "h_4 = sns.barplot(x = 'Machine', y = 'RPrice', data = t_4, estimator = mean)\n",
    "print(h_4)"
   ]
  },
  {
   "cell_type": "markdown",
   "id": "74c2d348",
   "metadata": {
    "papermill": {
     "duration": 0.012861,
     "end_time": "2022-12-06T21:36:54.340647",
     "exception": false,
     "start_time": "2022-12-06T21:36:54.327786",
     "status": "completed"
    },
    "tags": []
   },
   "source": [
    "### Hypothesis #4 Summary\n",
    "- The above bar chart shows the average revenue per product for each vending machines at the mall location\n",
    "- **Hypothesis #4 is rejected** as the average revenue per product is **not the same** for each machine, there is a real difference.\n",
    " - It is a significant difference at a 95% confidence level | p < .01 \n",
    "\n",
    "<br>\n",
    "The mall should keep the 'ATT' machine and the 'Zales' machine can be removed and put at another location. "
   ]
  },
  {
   "cell_type": "markdown",
   "id": "8d5f657a",
   "metadata": {
    "papermill": {
     "duration": 0.012331,
     "end_time": "2022-12-06T21:36:54.366209",
     "exception": false,
     "start_time": "2022-12-06T21:36:54.353878",
     "status": "completed"
    },
    "tags": []
   },
   "source": [
    "##### **Earle Asphalt** | 1 Vending Machine\n",
    "Earle Asphalt - A construction engineering firm that operates 5 days a week. Vending machine:\n",
    "> - Earle Asphalt x1371"
   ]
  },
  {
   "cell_type": "code",
   "execution_count": 24,
   "id": "00b698e9",
   "metadata": {
    "execution": {
     "iopub.execute_input": "2022-12-06T21:36:54.393851Z",
     "iopub.status.busy": "2022-12-06T21:36:54.393126Z",
     "iopub.status.idle": "2022-12-06T21:36:54.411317Z",
     "shell.execute_reply": "2022-12-06T21:36:54.410761Z"
    },
    "papermill": {
     "duration": 0.033947,
     "end_time": "2022-12-06T21:36:54.412951",
     "exception": false,
     "start_time": "2022-12-06T21:36:54.379004",
     "status": "completed"
    },
    "tags": []
   },
   "outputs": [
    {
     "name": "stdout",
     "output_type": "stream",
     "text": [
      "                Total Revenue\n",
      "Category                     \n",
      "Food                   1005.0\n",
      "Carbonated               85.5\n",
      "Non Carbonated           64.0\n",
      "Water                    33.0\n",
      "                Percent of Sales\n",
      "Category                        \n",
      "Food                       87.43\n",
      "Carbonated                  6.36\n",
      "Non Carbonated              4.14\n",
      "Water                       2.07\n"
     ]
    }
   ],
   "source": [
    "# filter for Earle Asphalt and get total revenue\n",
    "ea = df.loc[df['Location'] == 'Earle Asphalt']\n",
    "ea_overview = ea.groupby(\"Category\").sum()[['RPrice']]\n",
    "ea_overview['Total Revenue'] = ea_overview['RPrice']\n",
    "ea_overview = ea_overview.drop(['RPrice'], axis=1)\n",
    "ea_overview = ea_overview.sort_values(by = 'Total Revenue', ascending=False)\n",
    "print(ea_overview)\n",
    "\n",
    "# get counts for each category (then calculate percent of total)\n",
    "ea_count_overview = ea.groupby('Category').count()[['RPrice']]\n",
    "ea_count_overview['Percent of Sales'] = round(ea_count_overview['RPrice'] / 676 * 100,2)\n",
    "ea_count_overview = ea_count_overview.drop(['RPrice'], axis=1)\n",
    "ea_count_overview = ea_count_overview.sort_values(by = 'Percent of Sales', ascending=False)\n",
    "\n",
    "print(ea_count_overview)"
   ]
  },
  {
   "cell_type": "markdown",
   "id": "446732b9",
   "metadata": {
    "papermill": {
     "duration": 0.012319,
     "end_time": "2022-12-06T21:36:54.437835",
     "exception": false,
     "start_time": "2022-12-06T21:36:54.425516",
     "status": "completed"
    },
    "tags": []
   },
   "source": [
    "#### **Optimizing Earle Asphalt**\n",
    "The Earle Asphalt location makes up the majority of its sales in **food**, with over 87% of sales being food products. Thus, the stock of the vending machine should represent this. \n",
    "> - Majority of options should be food, with the water, carbonated and non-carbonated options only being the most popular for this location"
   ]
  },
  {
   "cell_type": "markdown",
   "id": "2e376770",
   "metadata": {
    "papermill": {
     "duration": 0.012437,
     "end_time": "2022-12-06T21:36:54.462741",
     "exception": false,
     "start_time": "2022-12-06T21:36:54.450304",
     "status": "completed"
    },
    "tags": []
   },
   "source": [
    "##### **Gutten Plans** | 1 Vending Machine\n",
    "Gutten Plans - Frozen dough specialist company that operates 24/5. Vending machine:\n",
    "> - GuttenPlans x1367"
   ]
  },
  {
   "cell_type": "code",
   "execution_count": 25,
   "id": "2946643c",
   "metadata": {
    "execution": {
     "iopub.execute_input": "2022-12-06T21:36:54.490972Z",
     "iopub.status.busy": "2022-12-06T21:36:54.490303Z",
     "iopub.status.idle": "2022-12-06T21:36:54.515838Z",
     "shell.execute_reply": "2022-12-06T21:36:54.514444Z"
    },
    "papermill": {
     "duration": 0.044425,
     "end_time": "2022-12-06T21:36:54.519720",
     "exception": false,
     "start_time": "2022-12-06T21:36:54.475295",
     "status": "completed"
    },
    "tags": []
   },
   "outputs": [
    {
     "name": "stdout",
     "output_type": "stream",
     "text": [
      "                Total Revenue\n",
      "Category                     \n",
      "Carbonated            2241.00\n",
      "Food                  1972.25\n",
      "Non Carbonated         565.00\n",
      "                Percent of Sales\n",
      "Category                        \n",
      "Food                       47.62\n",
      "Carbonated                 43.42\n",
      "Non Carbonated              8.95\n"
     ]
    }
   ],
   "source": [
    "# filter for GuttenPlans and get total revenue\n",
    "gp = df.loc[df['Location'] == 'GuttenPlans']\n",
    "gp_overview = gp.groupby(\"Category\").sum()[['RPrice']]\n",
    "gp_overview['Total Revenue'] = gp_overview['RPrice']\n",
    "gp_overview = gp_overview.drop(['RPrice'], axis=1)\n",
    "gp_overview = gp_overview.sort_values(by = 'Total Revenue', ascending=False)\n",
    "print(gp_overview)\n",
    "\n",
    "# get counts for each category (then calculate percent of total)\n",
    "gp_count_overview = gp.groupby('Category').count()[['RPrice']]\n",
    "gp_count_overview['Percent of Sales'] = round(gp_count_overview['RPrice'] / 2524 * 100,2)\n",
    "gp_count_overview = gp_count_overview.drop(['RPrice'], axis=1)\n",
    "gp_count_overview = gp_count_overview.sort_values(by = 'Percent of Sales', ascending=False)\n",
    "\n",
    "print(gp_count_overview)"
   ]
  },
  {
   "cell_type": "markdown",
   "id": "5b0f370b",
   "metadata": {
    "papermill": {
     "duration": 0.016189,
     "end_time": "2022-12-06T21:36:54.554492",
     "exception": false,
     "start_time": "2022-12-06T21:36:54.538303",
     "status": "completed"
    },
    "tags": []
   },
   "source": [
    "#### **Optimizing Gutten Plans**\n",
    "The Gutten Plans location makes up over 90% of its sales in **food** and **carbonated** products. Thus the stock of the vending machine should represent this. \n",
    "> - Majority of options should be food and carbonated drinks, with non-carbonated options only being the most popular for this location\n",
    "> - This location also does not sell any water products, so testing with the most popular water products can be done to see if they would be successful"
   ]
  },
  {
   "cell_type": "markdown",
   "id": "f7e51321",
   "metadata": {
    "papermill": {
     "duration": 0.012831,
     "end_time": "2022-12-06T21:36:54.584115",
     "exception": false,
     "start_time": "2022-12-06T21:36:54.571284",
     "status": "completed"
    },
    "tags": []
   },
   "source": [
    "##### **EB Public Library** | 1 Vending Machine\n",
    "Public library that has high foot traffic 5-6 days a week. Vending machine:\n",
    "> - EB Public Library x1380"
   ]
  },
  {
   "cell_type": "code",
   "execution_count": 26,
   "id": "b17925b4",
   "metadata": {
    "execution": {
     "iopub.execute_input": "2022-12-06T21:36:54.611788Z",
     "iopub.status.busy": "2022-12-06T21:36:54.611472Z",
     "iopub.status.idle": "2022-12-06T21:36:54.631824Z",
     "shell.execute_reply": "2022-12-06T21:36:54.630845Z"
    },
    "papermill": {
     "duration": 0.036271,
     "end_time": "2022-12-06T21:36:54.633731",
     "exception": false,
     "start_time": "2022-12-06T21:36:54.597460",
     "status": "completed"
    },
    "tags": []
   },
   "outputs": [
    {
     "name": "stdout",
     "output_type": "stream",
     "text": [
      "                Total Revenue\n",
      "Category                     \n",
      "Food                  1997.75\n",
      "Non Carbonated         746.00\n",
      "Carbonated             524.00\n",
      "Water                  326.75\n",
      "                Percent of Sales\n",
      "Category                        \n",
      "Food                       59.81\n",
      "Carbonated                 15.21\n",
      "Non Carbonated             14.99\n",
      "Water                       9.98\n"
     ]
    }
   ],
   "source": [
    "# filter for EB Public Library and get total revenue\n",
    "eb = df.loc[df['Location'] == 'EB Public Library']\n",
    "eb_overview = eb.groupby('Category').sum()[['RPrice']]\n",
    "eb_overview['Total Revenue'] = eb_overview['RPrice']\n",
    "eb_overview = eb_overview.drop(['RPrice'], axis=1)\n",
    "eb_overview = eb_overview.sort_values(by = 'Total Revenue', ascending=False)\n",
    "print(eb_overview)\n",
    "\n",
    "# get counts for each category (then calculate percent of total)\n",
    "eb_count_overview = eb.groupby('Category').count()[['RPrice']]\n",
    "eb_count_overview['Percent of Sales'] = round(eb_count_overview['RPrice'] / 1834 * 100,2)\n",
    "eb_count_overview = eb_count_overview.drop(['RPrice'], axis=1)\n",
    "eb_count_overview = eb_count_overview.sort_values(by = 'Percent of Sales', ascending=False)\n",
    "\n",
    "print(eb_count_overview)"
   ]
  },
  {
   "cell_type": "markdown",
   "id": "3a98d925",
   "metadata": {
    "papermill": {
     "duration": 0.012869,
     "end_time": "2022-12-06T21:36:54.659678",
     "exception": false,
     "start_time": "2022-12-06T21:36:54.646809",
     "status": "completed"
    },
    "tags": []
   },
   "source": [
    "#### **Optimizing EB Public Library**\n",
    "The EB Public Library location makes up close to 60% of it's sales in **food** products. Thus the stock of the vending machine should represent this. \n",
    "> - Majority of options should be food, with a selection of popular carbonated drinks and non-carbonated product options. As for water products only the most popular should be stocked for this location."
   ]
  },
  {
   "cell_type": "markdown",
   "id": "a825ad4d",
   "metadata": {
    "papermill": {
     "duration": 0.012266,
     "end_time": "2022-12-06T21:36:54.684570",
     "exception": false,
     "start_time": "2022-12-06T21:36:54.672304",
     "status": "completed"
    },
    "tags": []
   },
   "source": [
    "## **Recommendations**\n",
    "### Overall\n",
    "> **Space is limited** | Optimize the space used and customize the selection based on location\n",
    "> - Condense product selection to meet consumer preferences to **increase revenue**\n",
    "> - Balance selection and variety to **lower costs** for buying in bulk *(economy of scale)*\n",
    "> - Locations where people work or spend lots of time tend to have more purchases\n",
    "\n",
    "### Location Specific\n",
    "> **Brunswick Sq Mall**\n",
    "> - Keep only the 'ATT' vending machine\n",
    "> - Allocate the majority of space for food and water options, with the carbonated and non-carbonated options only being for the most popular overall products\n",
    ">\n",
    "> **Earle Asphalt**\n",
    "> - Majority of options should be food products\n",
    "> - Water, carbonated and non-carbonated options only being the most popular for this location\n",
    ">\n",
    "> **Gutten Plans**\n",
    "> - Majority of options should be food and carbonated drink products\n",
    ">  - Non-carbonated options should only be the most popular for this location\n",
    "> - Test with the most popular water products to see if this option is in demand\n",
    ">\n",
    "> **EB Public Library**\n",
    "> - Majority of vending products should be food\n",
    "> - Stock popular carbonated drinks and non-carbonated product options\n",
    "> - Only the most popular water products should be stocked at this location"
   ]
  }
 ],
 "metadata": {
  "kernelspec": {
   "display_name": "Python 3",
   "language": "python",
   "name": "python3"
  },
  "language_info": {
   "codemirror_mode": {
    "name": "ipython",
    "version": 3
   },
   "file_extension": ".py",
   "mimetype": "text/x-python",
   "name": "python",
   "nbconvert_exporter": "python",
   "pygments_lexer": "ipython3",
   "version": "3.7.12"
  },
  "papermill": {
   "default_parameters": {},
   "duration": 12.237629,
   "end_time": "2022-12-06T21:36:55.418328",
   "environment_variables": {},
   "exception": null,
   "input_path": "__notebook__.ipynb",
   "output_path": "__notebook__.ipynb",
   "parameters": {},
   "start_time": "2022-12-06T21:36:43.180699",
   "version": "2.3.4"
  }
 },
 "nbformat": 4,
 "nbformat_minor": 5
}
